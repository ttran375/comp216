{
  "nbformat": 4,
  "nbformat_minor": 0,
  "metadata": {
    "colab": {
      "provenance": []
    },
    "kernelspec": {
      "name": "python3",
      "display_name": "Python 3"
    },
    "language_info": {
      "name": "python"
    }
  },
  "cells": [
    {
      "cell_type": "markdown",
      "source": [
        "Advanced Functions"
      ],
      "metadata": {
        "id": "_3i9JDAfMM4I"
      }
    },
    {
      "cell_type": "code",
      "execution_count": null,
      "metadata": {
        "colab": {
          "base_uri": "https://localhost:8080/"
        },
        "id": "QdzkBjhiL6F9",
        "outputId": "0613a83e-2e86-4020-cce1-0762cacc4218"
      },
      "outputs": [
        {
          "output_type": "stream",
          "name": "stdout",
          "text": [
            "Print from parent function\n"
          ]
        },
        {
          "output_type": "execute_result",
          "data": {
            "text/plain": [
              "('Print from child function 1', 'Print from child function 2')"
            ]
          },
          "metadata": {},
          "execution_count": 2
        }
      ],
      "source": [
        "def parent_fn():\n",
        "  print('Print from parent function')\n",
        "\n",
        "  def child_fn_1():\n",
        "    return 'Print from child function 1'\n",
        "\n",
        "  def child_fn_2():\n",
        "    return 'Print from child function 2'\n",
        "\n",
        "  return (child_fn_1(), child_fn_2())\n",
        "\n",
        "parent_fn()"
      ]
    },
    {
      "cell_type": "code",
      "source": [
        "def parent_fn(input_value):\n",
        "  print('Print from parent function')\n",
        "\n",
        "  def child_fn_1():\n",
        "    return 'Print from child function 1'\n",
        "\n",
        "  def child_fn_2():\n",
        "    return 'Print from child function 2'\n",
        "\n",
        "  if input_value >= 0:\n",
        "    return child_fn_1\n",
        "  else:\n",
        "    return child_fn_2\n",
        "\n",
        "first_output = parent_fn(4)\n",
        "print(first_output)\n",
        "print(first_output())\n",
        "second_output = parent_fn(-7)\n",
        "print(second_output)\n",
        "print(second_output())"
      ],
      "metadata": {
        "colab": {
          "base_uri": "https://localhost:8080/"
        },
        "id": "-WrgrPwoNonF",
        "outputId": "2cc0f3b1-a2cd-4dc2-9b0f-cefc78c2bc8b"
      },
      "execution_count": null,
      "outputs": [
        {
          "output_type": "stream",
          "name": "stdout",
          "text": [
            "Print from parent function\n",
            "<function parent_fn.<locals>.child_fn_1 at 0x7ea6b04aa9e0>\n",
            "Print from child function 1\n",
            "Print from parent function\n",
            "<function parent_fn.<locals>.child_fn_2 at 0x7ea6b04aaf80>\n",
            "Print from child function 2\n"
          ]
        }
      ]
    },
    {
      "cell_type": "code",
      "source": [
        "#Decoractor or Wrapper Functions\n",
        "\n",
        "'''\n",
        "def wrapper_fn(func):\n",
        "  def wrapper_operation_1():\n",
        "    fn_ouput = func()\n",
        "    operation...\n",
        "    return update_output\n",
        "\n",
        "  return wrapper_operation_1\n",
        "'''"
      ],
      "metadata": {
        "id": "X9dX54fkPKzx",
        "colab": {
          "base_uri": "https://localhost:8080/",
          "height": 36
        },
        "outputId": "e4dabe74-1459-4e77-ec61-daebac46ad7f"
      },
      "execution_count": null,
      "outputs": [
        {
          "output_type": "execute_result",
          "data": {
            "text/plain": [
              "'\\ndef wrapper_fn(func):\\n  def wrapper_operation_1():\\n    fn_ouput = func()\\n    operation...\\n    return update_output\\n\\n  return wrapper_operation_1\\n'"
            ],
            "application/vnd.google.colaboratory.intrinsic+json": {
              "type": "string"
            }
          },
          "metadata": {},
          "execution_count": 4
        }
      ]
    },
    {
      "cell_type": "code",
      "source": [
        "def user_input():\n",
        "  value = input('Enter username: ')\n",
        "  return value\n",
        "\n",
        "def uppercase_transformer(func):\n",
        "  print('Starting wrapper func')\n",
        "\n",
        "  def wrapper_operation():\n",
        "    org_output = func()\n",
        "    new_output = org_output.upper()\n",
        "    return new_output\n",
        "\n",
        "  return wrapper_operation\n",
        "\n",
        "a = uppercase_transformer(user_input)\n",
        "b = a()\n",
        "print(b)"
      ],
      "metadata": {
        "colab": {
          "base_uri": "https://localhost:8080/"
        },
        "id": "pI6XoHBqQGNl",
        "outputId": "6a2a652c-cf37-4593-f0ec-19cac87b8fbb"
      },
      "execution_count": null,
      "outputs": [
        {
          "output_type": "stream",
          "name": "stdout",
          "text": [
            "Starting wrapper func\n",
            "Enter username: rissan\n",
            "RISSAN\n"
          ]
        }
      ]
    },
    {
      "cell_type": "code",
      "source": [
        "def uppercase_transformer(func):\n",
        "  print('Starting wrapper func')\n",
        "\n",
        "  def wrapper_operation():\n",
        "    org_output = func()\n",
        "    new_output = org_output.upper()\n",
        "    return new_output\n",
        "\n",
        "  return wrapper_operation\n",
        "\n",
        "@uppercase_transformer\n",
        "def user_input():\n",
        "  value = input('Enter username: ')\n",
        "  return value\n",
        "\n",
        "c = user_input()\n",
        "print(c)"
      ],
      "metadata": {
        "colab": {
          "base_uri": "https://localhost:8080/"
        },
        "id": "lUPk5B-6R3eu",
        "outputId": "9b87edd5-cefe-4216-c308-26a0a35922e6"
      },
      "execution_count": null,
      "outputs": [
        {
          "output_type": "stream",
          "name": "stdout",
          "text": [
            "Starting wrapper func\n",
            "Enter username: rissan\n",
            "RISSAN\n"
          ]
        }
      ]
    },
    {
      "cell_type": "code",
      "source": [
        "def uppercase_transformer(func):\n",
        "  print('Starting wrapper func')\n",
        "  def wrapper_operation():\n",
        "    org_output = func()\n",
        "    new_output = org_output.upper()\n",
        "    return new_output\n",
        "\n",
        "  return wrapper_operation\n",
        "\n",
        "'''def listify(func): --> Bad implementation because none obj is returned\n",
        "  def wrapper_operation():\n",
        "    org_output = func()\n",
        "    list_output = org_output.split()\n",
        "    return list_output'''\n",
        "\n",
        "def listify_1(func):\n",
        "  def wrapper_operation():\n",
        "      org_output = func()\n",
        "      list_output = org_output.split()\n",
        "      return list_output\n",
        "  return wrapper_operation\n",
        "\n",
        "@listify_1\n",
        "@uppercase_transformer\n",
        "def user_input_1():\n",
        "  value = input('Enter username: ')\n",
        "  return value\n",
        "\n",
        "user_input_1()\n"
      ],
      "metadata": {
        "colab": {
          "base_uri": "https://localhost:8080/"
        },
        "id": "cAUnSxbDSfgp",
        "outputId": "ed5e4b06-dc42-4adb-ad25-5cf3746a0551"
      },
      "execution_count": null,
      "outputs": [
        {
          "name": "stdout",
          "output_type": "stream",
          "text": [
            "Starting wrapper func\n",
            "Enter username: john doe\n"
          ]
        },
        {
          "output_type": "execute_result",
          "data": {
            "text/plain": [
              "['JOHN', 'DOE']"
            ]
          },
          "metadata": {},
          "execution_count": 7
        }
      ]
    },
    {
      "cell_type": "markdown",
      "source": [
        "Classes & Objects"
      ],
      "metadata": {
        "id": "foUJodMgV92R"
      }
    },
    {
      "cell_type": "code",
      "source": [
        "class Rect:\n",
        "  #Class attributes\n",
        "\n",
        "  def __init__(self, length, width):\n",
        "    self.length = length\n",
        "    self.width = width\n",
        "\n",
        "rectangle_1 = Rect(4,6)\n",
        "print(rectangle_1)"
      ],
      "metadata": {
        "colab": {
          "base_uri": "https://localhost:8080/"
        },
        "id": "7M4zNYLvUtxw",
        "outputId": "1277530a-aa67-474f-f4bc-819357fe5e92"
      },
      "execution_count": null,
      "outputs": [
        {
          "output_type": "stream",
          "name": "stdout",
          "text": [
            "<__main__.Rect object at 0x7ea6b2619ae0>\n"
          ]
        }
      ]
    },
    {
      "cell_type": "code",
      "source": [
        "class Rect:\n",
        "  #Class attributes\n",
        "  def __new__(cls, *args, **kwargs):\n",
        "    print('Creating new instance of Rect')\n",
        "    return super().__new__(cls)\n",
        "\n",
        "  def __init__(self, length, width):\n",
        "    print('Initializing Rect with length and width')\n",
        "    self.length = length\n",
        "    self.width = width\n",
        "    self.colour = 'Red'\n",
        "\n",
        "rectangle_1 = Rect(4,6)\n",
        "#print(rectangle_1)\n",
        "print(rectangle_1.length, rectangle_1.width)\n",
        "\n",
        "rectangle_1.length = 9\n",
        "print(rectangle_1.length, rectangle_1.width)\n",
        "print(rectangle_1.colour)"
      ],
      "metadata": {
        "colab": {
          "base_uri": "https://localhost:8080/"
        },
        "id": "nldO1Js9W9g5",
        "outputId": "f5ed30f6-7593-4411-857f-cba3bbda756b"
      },
      "execution_count": null,
      "outputs": [
        {
          "output_type": "stream",
          "name": "stdout",
          "text": [
            "Creating new instance of Rect\n",
            "Initializing Rect with length and width\n",
            "4 6\n",
            "9 6\n",
            "Red\n"
          ]
        }
      ]
    },
    {
      "cell_type": "code",
      "source": [
        "print(Rect.__dict__)\n",
        "print(rectangle_1.__dict__)\n",
        "rectangle_1.size = 'large'\n",
        "print(rectangle_1.__dict__)"
      ],
      "metadata": {
        "colab": {
          "base_uri": "https://localhost:8080/"
        },
        "id": "asDByPohYWiD",
        "outputId": "bf278757-ec51-45be-aa9d-4a2bd7840a13"
      },
      "execution_count": null,
      "outputs": [
        {
          "output_type": "stream",
          "name": "stdout",
          "text": [
            "{'__module__': '__main__', '__new__': <staticmethod(<function Rect.__new__ at 0x7ea6b04ab5b0>)>, '__init__': <function Rect.__init__ at 0x7ea6b04ab640>, '__dict__': <attribute '__dict__' of 'Rect' objects>, '__weakref__': <attribute '__weakref__' of 'Rect' objects>, '__doc__': None}\n",
            "{'length': 9, 'width': 6, 'colour': 'Red'}\n",
            "{'length': 9, 'width': 6, 'colour': 'Red', 'size': 'large'}\n"
          ]
        }
      ]
    },
    {
      "cell_type": "code",
      "source": [
        "class Rect:\n",
        "  #Class attributes\n",
        "\n",
        "  def __init__(self, length, width):\n",
        "    self._length = length\n",
        "    self._width = width\n",
        "\n",
        "rectangle_1 = Rect(4,6)\n",
        "print(rectangle_1)\n",
        "\n",
        "print(rectangle_1._length)\n",
        "rectangle_1._length = 8\n",
        "print(rectangle_1._length)"
      ],
      "metadata": {
        "colab": {
          "base_uri": "https://localhost:8080/"
        },
        "id": "D4xDbEfyZFxE",
        "outputId": "fdbadc95-3e7f-48bf-d4fa-981d856c6b4c"
      },
      "execution_count": null,
      "outputs": [
        {
          "output_type": "stream",
          "name": "stdout",
          "text": [
            "<__main__.Rect object at 0x7ea6b26183d0>\n",
            "4\n",
            "8\n"
          ]
        }
      ]
    },
    {
      "cell_type": "code",
      "source": [
        "class Rect:\n",
        "  #Class attributes\n",
        "\n",
        "  def __init__(self, length, width):\n",
        "    self.__length = length\n",
        "    self.__width = width\n",
        "\n",
        "rectangle_1 = Rect(4,6)\n",
        "print(rectangle_1)\n",
        "\n",
        "print(rectangle_1._Rect__length)\n",
        "rectangle_1._Rect__length = 8\n",
        "print(rectangle_1._Rect__length)\n",
        "print(rectangle_1.__dict__)"
      ],
      "metadata": {
        "colab": {
          "base_uri": "https://localhost:8080/"
        },
        "id": "TTZMOXJEZccE",
        "outputId": "27a79f0a-b3a3-464f-89bc-6f8eecad823e"
      },
      "execution_count": null,
      "outputs": [
        {
          "output_type": "stream",
          "name": "stdout",
          "text": [
            "<__main__.Rect object at 0x7ea6b2619810>\n",
            "4\n",
            "8\n",
            "{'_Rect__length': 8, '_Rect__width': 6}\n"
          ]
        }
      ]
    },
    {
      "cell_type": "code",
      "source": [
        "class Rect_1:\n",
        "  #Class attributes\n",
        "\n",
        "  def __init__(self, length, width):\n",
        "    self._length = self.set_length(length)    #Poor implementation\n",
        "    self._width = width\n",
        "\n",
        "  def get_length(self):\n",
        "    return self._length\n",
        "\n",
        "  def set_length(self, value):\n",
        "    if isinstance(value, int):\n",
        "      self._length = value\n",
        "      return self._length\n",
        "    else:\n",
        "      self._length = 0\n",
        "      return self._length\n",
        "\n",
        "\n",
        "rectangle_2 = Rect_1(8,6)\n",
        "print(rectangle_2)\n",
        "print(rectangle_2.get_length())\n",
        "\n",
        "rectangle_2.set_length(14)\n",
        "print(rectangle_2.get_length())"
      ],
      "metadata": {
        "id": "6E7OzmW3Z-q8",
        "colab": {
          "base_uri": "https://localhost:8080/"
        },
        "outputId": "873817b0-e51a-4f1c-e535-151b34c6d9d9"
      },
      "execution_count": null,
      "outputs": [
        {
          "output_type": "stream",
          "name": "stdout",
          "text": [
            "<__main__.Rect_1 object at 0x7ea6b261ba90>\n",
            "8\n",
            "14\n"
          ]
        }
      ]
    },
    {
      "cell_type": "code",
      "source": [
        "class Rect_2:\n",
        "  #Class attributes\n",
        "\n",
        "  def __init__(self, length, width):\n",
        "    self.length = length\n",
        "    self._width = width\n",
        "\n",
        "  @property\n",
        "  def length(self):\n",
        "    return self._length\n",
        "\n",
        "  @length.setter\n",
        "  def length(self, value):\n",
        "    if isinstance(value, int):\n",
        "      self._length = value\n",
        "    else:\n",
        "      self._length = 0\n",
        "\n",
        "\n",
        "rectangle_3 = Rect_2(8,6)\n",
        "print(rectangle_3.length, rectangle_3._length)\n",
        "\n",
        "rectangle_3 = Rect_2('eigth',6)\n",
        "print(rectangle_3.length, rectangle_3._length)\n",
        "\n",
        "rectangle_4 = Rect_2(3,9)\n",
        "print(rectangle_4.length, rectangle_4._length)\n",
        "\n",
        "rectangle_4.length = 10\n",
        "print(rectangle_4.length, rectangle_4._length)\n",
        "\n",
        "rectangle_4.length = 'BAD Value'\n",
        "print(rectangle_4.length, rectangle_4._length)\n",
        "\n",
        "#del rectangle_4.length"
      ],
      "metadata": {
        "id": "n7ZqQMIBbDJ_",
        "colab": {
          "base_uri": "https://localhost:8080/"
        },
        "outputId": "7fb7a6e3-d60b-4b33-8dad-e78e4bbc7187"
      },
      "execution_count": null,
      "outputs": [
        {
          "output_type": "stream",
          "name": "stdout",
          "text": [
            "8 8\n",
            "0 0\n",
            "3 3\n",
            "10 10\n",
            "0 0\n"
          ]
        }
      ]
    },
    {
      "cell_type": "code",
      "source": [
        "class Rect_3:\n",
        "\n",
        "  def __init__(self, length, width):\n",
        "    self.length = length\n",
        "    self._width = width\n",
        "\n",
        "  def _get_length(self):\n",
        "    return self._length\n",
        "\n",
        "  def _set_length(self, value):\n",
        "    if isinstance(value, int):\n",
        "      self._length = value\n",
        "    else:\n",
        "      self._length = 0\n",
        "\n",
        "  def _del_length(self):\n",
        "    print('Delete length attribute')\n",
        "    del self._length\n",
        "\n",
        "  length = property(fget=_get_length, fset=_set_length, fdel=_del_length)\n",
        "\n",
        "\n",
        "rectangle_5 = Rect_3(8,3)\n",
        "print(rectangle_5.length, rectangle_5._length)\n",
        "rectangle_5.length = 18\n",
        "print(rectangle_5.length, rectangle_5._length)\n",
        "del rectangle_5.length"
      ],
      "metadata": {
        "id": "uVyekwNhc3V-",
        "colab": {
          "base_uri": "https://localhost:8080/"
        },
        "outputId": "93de06c2-729d-452a-f57d-5939eda5625a"
      },
      "execution_count": null,
      "outputs": [
        {
          "output_type": "stream",
          "name": "stdout",
          "text": [
            "8 8\n",
            "18 18\n",
            "Delete length attribute\n"
          ]
        }
      ]
    },
    {
      "cell_type": "code",
      "source": [
        "rectangle_4._length = 16\n",
        "print(rectangle_4.length, rectangle_4._length)\n",
        "\n",
        "rectangle_4._length = 'Sixteen'\n",
        "print(rectangle_4.length, rectangle_4._length)"
      ],
      "metadata": {
        "id": "JXVGbQFmet8x",
        "colab": {
          "base_uri": "https://localhost:8080/"
        },
        "outputId": "b50e3964-8a46-48f1-a579-2cc4121b903f"
      },
      "execution_count": null,
      "outputs": [
        {
          "output_type": "stream",
          "name": "stdout",
          "text": [
            "16 16\n",
            "Sixteen Sixteen\n"
          ]
        }
      ]
    },
    {
      "cell_type": "code",
      "source": [
        "class Rect_4:\n",
        "  number_of_instance = 0\n",
        "\n",
        "  def __init__(self, length, width):\n",
        "    self.length = length\n",
        "    self._width = width\n",
        "    Rect_4.number_of_instance += 1\n",
        "\n",
        "  @property\n",
        "  def length(self):\n",
        "    return self._length\n",
        "\n",
        "  @length.setter\n",
        "  def length(self, value):\n",
        "    if isinstance(value, int):\n",
        "      self._length = value\n",
        "    else:\n",
        "      self._length = 0\n",
        "\n",
        "rectangle_6 = Rect_4(8,3)\n",
        "rectangle_7 = Rect_4(8,3)\n",
        "rectangle_8 = Rect_4(9,6)\n",
        "\n",
        "print(Rect_4.number_of_instance)\n",
        "print(rectangle_8.number_of_instance)"
      ],
      "metadata": {
        "id": "sg8ialHlgDzL",
        "colab": {
          "base_uri": "https://localhost:8080/"
        },
        "outputId": "1ee92203-9262-48c6-a7ad-21c5a71d1d38"
      },
      "execution_count": null,
      "outputs": [
        {
          "output_type": "stream",
          "name": "stdout",
          "text": [
            "3\n",
            "3\n"
          ]
        }
      ]
    },
    {
      "cell_type": "code",
      "source": [
        "class Rect_5:\n",
        "  number_of_instance = 0\n",
        "\n",
        "  def __init__(self, length, width):\n",
        "    self.length = length\n",
        "    self.width = width\n",
        "    self.colour = 'Red'\n",
        "    Rect_5.number_of_instance += 1\n",
        "\n",
        "  @property\n",
        "  def length(self):\n",
        "    return self._length\n",
        "\n",
        "  @length.setter\n",
        "  def length(self, value):\n",
        "    if isinstance(value, int):\n",
        "      self._length = value\n",
        "    else:\n",
        "      self._length = 0\n",
        "\n",
        "  @property\n",
        "  def width(self):\n",
        "    return self._width\n",
        "\n",
        "  @width.setter\n",
        "  def width(self, value):\n",
        "    if isinstance(value, int):\n",
        "      self._width = value\n",
        "    else:\n",
        "      self._width = 0\n",
        "\n",
        "  @property\n",
        "  def colour(self):\n",
        "    return self._colour\n",
        "\n",
        "  @colour.setter\n",
        "  def colour(self, value):\n",
        "    self._colour = 'Red'\n",
        "\n",
        "rectangle_9 = Rect_5(14,16)\n",
        "print(rectangle_9.length, rectangle_9.width)\n",
        "rectangle_9.length = 18\n",
        "print(rectangle_9.length, rectangle_9.width)\n",
        "rectangle_9.length = 'Bad Value'\n",
        "print(rectangle_9.length, rectangle_9.width)\n",
        "print(rectangle_9.colour)\n",
        "rectangle_9.colour = 'Blue'\n",
        "print(rectangle_9.colour)\n",
        "#del rectangle_9.colour --> Raise error\n",
        "\n",
        "print(Rect_5.__dict__)\n",
        "print(rectangle_9.__dict__)"
      ],
      "metadata": {
        "colab": {
          "base_uri": "https://localhost:8080/"
        },
        "id": "DAY-E3kzTmBx",
        "outputId": "0447b9c8-eecd-4969-b343-76e1b83b4db9"
      },
      "execution_count": null,
      "outputs": [
        {
          "output_type": "stream",
          "name": "stdout",
          "text": [
            "14 16\n",
            "18 16\n",
            "0 16\n",
            "Red\n",
            "Red\n",
            "{'__module__': '__main__', 'number_of_instance': 1, '__init__': <function Rect_5.__init__ at 0x7ea6b04f4ca0>, 'length': <property object at 0x7ea6b0503ec0>, 'width': <property object at 0x7ea6b0503f10>, 'colour': <property object at 0x7ea6b0503f60>, '__dict__': <attribute '__dict__' of 'Rect_5' objects>, '__weakref__': <attribute '__weakref__' of 'Rect_5' objects>, '__doc__': None}\n",
            "{'_length': 0, '_width': 16, '_colour': 'Red'}\n"
          ]
        }
      ]
    },
    {
      "cell_type": "code",
      "source": [
        "rectangle_9.size = 'Large'\n",
        "print(rectangle_9.__dict__)"
      ],
      "metadata": {
        "colab": {
          "base_uri": "https://localhost:8080/"
        },
        "id": "10KGF5pMZvBD",
        "outputId": "3f5dc241-5828-4487-f404-69f770646721"
      },
      "execution_count": null,
      "outputs": [
        {
          "output_type": "stream",
          "name": "stdout",
          "text": [
            "{'_length': 0, '_width': 16, '_colour': 'Red', 'size': 'Large'}\n"
          ]
        }
      ]
    },
    {
      "cell_type": "code",
      "source": [
        "class Rect_5:\n",
        "  __slots__ = ('_length', '_width', '_colour', 'size')    #Note the underlying private/protected attribute is reference;\n",
        "  number_of_instance = 0                                  #Cannot reference the public facing member (e.g., length) based on the Property/Descriptor Protocol\n",
        "\n",
        "  def __init__(self, length, width):\n",
        "    self.length = length\n",
        "    self.width = width\n",
        "    self.colour = 'Red'\n",
        "    Rect_5.number_of_instance += 1\n",
        "\n",
        "  @property\n",
        "  def length(self):\n",
        "    return self._length\n",
        "\n",
        "  @length.setter\n",
        "  def length(self, value):\n",
        "    if isinstance(value, int):\n",
        "      self._length = value\n",
        "    else:\n",
        "      self._length = 0\n",
        "\n",
        "  @property\n",
        "  def width(self):\n",
        "    return self._width\n",
        "\n",
        "  @width.setter\n",
        "  def width(self, value):\n",
        "    if isinstance(value, int):\n",
        "      self._width = value\n",
        "    else:\n",
        "      self._width = 0\n",
        "\n",
        "  @property\n",
        "  def colour(self):\n",
        "    return self._colour\n",
        "\n",
        "  @colour.setter\n",
        "  def colour(self, value):\n",
        "    self._colour = 'Red'\n",
        "\n",
        "  #Instance methods\n",
        "  def calc_area(self):\n",
        "    return self.length * self.width\n",
        "\n",
        "  def is_square(self):\n",
        "    return self.length == self.width\n",
        "\n",
        "  def __str__(self):\n",
        "    return f'Rectangle with Length {self.length} and Width {self.width}'\n",
        "\n",
        "  def __eq__(self, other):\n",
        "    return self.calc_area() == other.calc_area()\n",
        "\n",
        "  @classmethod\n",
        "  def reset_instance_value(cls):\n",
        "    cls.number_of_instance = 0\n",
        "\n",
        "  '''\n",
        "  @staticmethod\n",
        "  def fnc():\n",
        "    operations\n",
        "  '''\n",
        "\n",
        "rectangle_10 = Rect_5(3, 15)\n",
        "print(rectangle_10.colour, rectangle_10.length, rectangle_10.width)\n",
        "rectangle_10.length = 13\n",
        "print(rectangle_10.colour, rectangle_10.length, rectangle_10.width)\n",
        "rectangle_10.size = 'LG'\n",
        "print(rectangle_10.size)\n",
        "\n",
        "print(rectangle_10.calc_area())\n",
        "\n",
        "print(rectangle_10.is_square())\n",
        "\n",
        "rectangle_10.width = 13\n",
        "print(rectangle_10.is_square())\n",
        "\n",
        "print(rectangle_10)\n",
        "\n",
        "\n",
        "rectangle_11 = Rect_5(13, 13)\n",
        "print(rectangle_11 == rectangle_10)\n",
        "\n",
        "print(Rect_5.number_of_instance)\n",
        "Rect_5.reset_instance_value()\n",
        "print(Rect_5.number_of_instance)"
      ],
      "metadata": {
        "colab": {
          "base_uri": "https://localhost:8080/"
        },
        "id": "OVRpBsk4aJPa",
        "outputId": "c8df8500-75fd-401b-b443-98f0ff591226"
      },
      "execution_count": null,
      "outputs": [
        {
          "output_type": "stream",
          "name": "stdout",
          "text": [
            "Red 3 15\n",
            "Red 13 15\n",
            "LG\n",
            "195\n",
            "False\n",
            "True\n",
            "Rectangle with Length 13 and Width 13\n",
            "True\n",
            "2\n",
            "0\n"
          ]
        }
      ]
    },
    {
      "cell_type": "markdown",
      "source": [
        "Inheritance with Python Classes"
      ],
      "metadata": {
        "id": "IDH06L5giGBi"
      }
    },
    {
      "cell_type": "code",
      "source": [
        "class Employee:\n",
        "  def __init__(self, name, department, hourly_rate):\n",
        "    self.name = name\n",
        "    self.department = department\n",
        "    self.hr_rate = hourly_rate\n",
        "\n",
        "  def perform_review(self, value):\n",
        "    self.rating = value\n",
        "\n",
        "  def calc_pay(self, hours=35):\n",
        "    return self.hr_rate * hours\n",
        "\n",
        "  def __str__(self):\n",
        "    return f'Employee: {self.name} working in {self.department} department.'"
      ],
      "metadata": {
        "id": "JIOMw0U5b9mG"
      },
      "execution_count": null,
      "outputs": []
    },
    {
      "cell_type": "code",
      "source": [
        "joe = Employee('Joe', 'IT', 45)\n",
        "print(joe)\n",
        "print(joe.calc_pay())"
      ],
      "metadata": {
        "colab": {
          "base_uri": "https://localhost:8080/"
        },
        "id": "ERpZvQPSkEib",
        "outputId": "09ed9780-9cff-48f1-9839-55171d6cb4b7"
      },
      "execution_count": null,
      "outputs": [
        {
          "output_type": "stream",
          "name": "stdout",
          "text": [
            "Employee: Joe working in IT department.\n",
            "1575\n"
          ]
        }
      ]
    },
    {
      "cell_type": "code",
      "source": [
        "class Management(Employee):\n",
        "  def __init__(self, name, department, hourly_rate, bonus):\n",
        "    super().__init__(name, department, hourly_rate)\n",
        "    self.bonus = bonus\n",
        "\n",
        "  def calc_pay(self, hours=35):\n",
        "    return (self.hr_rate * hours) + self.bonus\n",
        "\n",
        "  def __str__(self):\n",
        "    return f'Manager: {self.name} running the {self.department} department.'"
      ],
      "metadata": {
        "id": "RcVpKqQKkbX1"
      },
      "execution_count": null,
      "outputs": []
    },
    {
      "cell_type": "code",
      "source": [
        "al = Management('Al', 'IT', 55, 1200)\n",
        "print(al)\n",
        "print(al.calc_pay(40))"
      ],
      "metadata": {
        "colab": {
          "base_uri": "https://localhost:8080/"
        },
        "id": "C8ui3pr1kxA9",
        "outputId": "c45d9302-1f67-4540-8f7e-bae7a901e879"
      },
      "execution_count": null,
      "outputs": [
        {
          "output_type": "stream",
          "name": "stdout",
          "text": [
            "Manager: Al running the IT department.\n",
            "3400\n"
          ]
        }
      ]
    },
    {
      "cell_type": "code",
      "source": [
        "class Shareholder:\n",
        "  def __init__(self, account, shares, dividend):\n",
        "    self.account = account\n",
        "    self.shares = shares\n",
        "    self.dividend = dividend\n",
        "\n",
        "  def dividend_payout(self):\n",
        "    return self.shares * self.dividend"
      ],
      "metadata": {
        "id": "mxclF7ywmw3x"
      },
      "execution_count": null,
      "outputs": []
    },
    {
      "cell_type": "code",
      "source": [
        "marge = Shareholder('34841', 25000, 0.5)\n",
        "print(marge)\n",
        "print(marge.dividend_payout())"
      ],
      "metadata": {
        "colab": {
          "base_uri": "https://localhost:8080/"
        },
        "id": "vILyramAnbOg",
        "outputId": "e3e315a9-c8ec-4860-a83f-67051203c50b"
      },
      "execution_count": null,
      "outputs": [
        {
          "output_type": "stream",
          "name": "stdout",
          "text": [
            "<__main__.Shareholder object at 0x7ea6b0519a20>\n",
            "12500.0\n"
          ]
        }
      ]
    },
    {
      "cell_type": "code",
      "source": [
        "class Executive(Management, Shareholder):\n",
        "  def __init__(self, name, department, hourly_rate, bonus, account, shares, dividend):\n",
        "    Management.__init__(self, name, department, hourly_rate, bonus)\n",
        "    Shareholder.__init__(self, account, shares, dividend)\n",
        "\n",
        "  def calc_pay(self, hours=35):\n",
        "    #return super().calc_pay(hours) + self.dividend_payout()/12\n",
        "    return (self.hr_rate * hours) + self.bonus + self.dividend_payout()/12"
      ],
      "metadata": {
        "id": "pbs2bGVBntK4"
      },
      "execution_count": null,
      "outputs": []
    },
    {
      "cell_type": "code",
      "source": [
        "bob = Executive('Bob', 'IT', 55, 2000, '3452341', 25000, 0.5)\n",
        "print(bob)\n",
        "print(bob.calc_pay(), bob.dividend_payout())"
      ],
      "metadata": {
        "colab": {
          "base_uri": "https://localhost:8080/"
        },
        "id": "2qiBAt9SoHpV",
        "outputId": "6ed0f36b-71ec-4027-de9e-bd1889570483"
      },
      "execution_count": null,
      "outputs": [
        {
          "output_type": "stream",
          "name": "stdout",
          "text": [
            "Manager: Bob running the IT department.\n",
            "4966.666666666667 12500.0\n"
          ]
        }
      ]
    },
    {
      "cell_type": "code",
      "source": [
        "class Executive(Management, Shareholder):\n",
        "  def __init__(self, name, department, hourly_rate, bonus, account, shares, dividend):\n",
        "    super().__init__(name, department, hourly_rate, bonus)\n",
        "    Shareholder.__init__(self, account, shares, dividend)\n",
        "\n",
        "  def calc_pay(self, hours=35):\n",
        "    #return super().calc_pay(hours) + self.dividend_payout()/12\n",
        "    return (self.hr_rate * hours) + self.bonus + self.dividend_payout()/12"
      ],
      "metadata": {
        "id": "VDBa4ROAm6rb"
      },
      "execution_count": null,
      "outputs": []
    },
    {
      "cell_type": "code",
      "source": [
        "bob = Executive('Bob', 'IT', 55, 2000, '3452341', 25000, 0.5)\n",
        "print(bob)\n",
        "print(bob.calc_pay(), bob.dividend_payout())"
      ],
      "metadata": {
        "id": "RKgGvundnJ9G"
      },
      "execution_count": null,
      "outputs": []
    }
  ]
}