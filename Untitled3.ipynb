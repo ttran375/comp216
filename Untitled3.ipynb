{
 "cells": [
  {
   "cell_type": "code",
   "execution_count": 7,
   "metadata": {},
   "outputs": [
    {
     "name": "stdout",
     "output_type": "stream",
     "text": [
      "Print from parent function\n",
      "<function parent_fn.<locals>.child_fn_1 at 0x7de8225b0c20>\n",
      "Print from child function 1\n",
      "Print from parent function\n",
      "<function parent_fn.<locals>.child_fn_2 at 0x7de8225b0a40>\n",
      "Print from child function 2\n"
     ]
    }
   ],
   "source": [
    "def parent_fn(input_value):\n",
    "    print('Print from parent function')\n",
    "\n",
    "    def child_fn_1():\n",
    "        return 'Print from child function 1'\n",
    "\n",
    "    def child_fn_2():\n",
    "        return 'Print from child function 2'\n",
    "\n",
    "    if input_value >= 0:\n",
    "        return child_fn_1\n",
    "    else:\n",
    "        return child_fn_2\n",
    "\n",
    "first_output = parent_fn(4)\n",
    "print(first_output)\n",
    "print(first_output())\n",
    "second_output = parent_fn(-7)\n",
    "print(second_output)\n",
    "print(second_output())"
   ]
  },
  {
   "cell_type": "code",
   "execution_count": null,
   "metadata": {},
   "outputs": [],
   "source": []
  }
 ],
 "metadata": {
  "kernelspec": {
   "display_name": "Python 3",
   "language": "python",
   "name": "python3"
  },
  "language_info": {
   "codemirror_mode": {
    "name": "ipython",
    "version": 3
   },
   "file_extension": ".py",
   "mimetype": "text/x-python",
   "name": "python",
   "nbconvert_exporter": "python",
   "pygments_lexer": "ipython3",
   "version": "3.12.3"
  }
 },
 "nbformat": 4,
 "nbformat_minor": 2
}
