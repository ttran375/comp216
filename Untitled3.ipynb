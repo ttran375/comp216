{
 "cells": [
  {
   "cell_type": "code",
   "execution_count": 7,
   "metadata": {},
   "outputs": [
    {
     "name": "stdout",
     "output_type": "stream",
     "text": [
      "Print from parent function\n",
      "<function parent_fn.<locals>.child_fn_1 at 0x7de8225b0c20>\n",
      "Print from child function 1\n",
      "Print from parent function\n",
      "<function parent_fn.<locals>.child_fn_2 at 0x7de8225b0a40>\n",
      "Print from child function 2\n"
     ]
    }
   ],
   "source": [
    "def parent_fn(input_value):\n",
    "    print('Print from parent function')\n",
    "\n",
    "    def child_fn_1():\n",
    "        return 'Print from child function 1'\n",
    "\n",
    "    def child_fn_2():\n",
    "        return 'Print from child function 2'\n",
    "\n",
    "    if input_value >= 0:\n",
    "        return child_fn_1\n",
    "    else:\n",
    "        return child_fn_2\n",
    "\n",
    "first_output = parent_fn(4)\n",
    "print(first_output)\n",
    "print(first_output())\n",
    "second_output = parent_fn(-7)\n",
    "print(second_output)\n",
    "print(second_output())"
   ]
  },
  {
   "cell_type": "code",
   "execution_count": 8,
   "metadata": {},
   "outputs": [
    {
     "data": {
      "text/plain": [
       "'\\ndef wrapper_fn():\\n  def wrapper_operation_1():\\n    fn_output = func()\\n    operation...\\n    return update_output\\n\\n  return wrapper_operation_1\\n'"
      ]
     },
     "execution_count": 8,
     "metadata": {},
     "output_type": "execute_result"
    }
   ],
   "source": [
    "#Decoractors or Wrapper Functions\n",
    "\n",
    "'''\n",
    "def wrapper_fn():\n",
    "  def wrapper_operation_1():\n",
    "    fn_output = func()\n",
    "    operation...\n",
    "    return update_output\n",
    "\n",
    "  return wrapper_operation_1\n",
    "'''"
   ]
  },
  {
   "cell_type": "code",
   "execution_count": 13,
   "metadata": {},
   "outputs": [
    {
     "name": "stdout",
     "output_type": "stream",
     "text": [
      "Starting wrapper func\n",
      "RISSAN DEVARAJA\n"
     ]
    }
   ],
   "source": [
    "def user_input():\n",
    "  value = input('Enter username: ')\n",
    "  return value\n",
    "\n",
    "def uppercase_transformer(func):\n",
    "  print('Starting wrapper func')\n",
    "  \n",
    "  def wrapper_operation():\n",
    "    org_output = func()\n",
    "    return org_output.upper()\n",
    "  return wrapper_operation\n",
    "\n",
    "a = uppercase_transformer(user_input)\n",
    "b = a()\n",
    "print(b)"
   ]
  },
  {
   "cell_type": "code",
   "execution_count": 15,
   "metadata": {},
   "outputs": [
    {
     "name": "stdout",
     "output_type": "stream",
     "text": [
      "Starting wrapper func\n",
      "RISSAN DEVARAJA\n"
     ]
    }
   ],
   "source": [
    "def uppercase_transformer(func):\n",
    "  print('Starting wrapper func')\n",
    "  \n",
    "  def wrapper_operation():\n",
    "    org_output = func()\n",
    "    return org_output.upper()\n",
    "  return wrapper_operation\n",
    "\n",
    "@uppercase_transformer\n",
    "def user_input():\n",
    "  value = input('Enter username: ')\n",
    "  return value\n",
    "\n",
    "c = user_input()\n",
    "print(c)"
   ]
  },
  {
   "cell_type": "code",
   "execution_count": 21,
   "metadata": {},
   "outputs": [
    {
     "name": "stdout",
     "output_type": "stream",
     "text": [
      "Starting listify wrapper func\n",
      "Starting wrapper func\n"
     ]
    },
    {
     "ename": "TypeError",
     "evalue": "'NoneType' object is not callable",
     "output_type": "error",
     "traceback": [
      "\u001b[0;31m---------------------------------------------------------------------------\u001b[0m",
      "\u001b[0;31mTypeError\u001b[0m                                 Traceback (most recent call last)",
      "Cell \u001b[0;32mIn[21], line 27\u001b[0m\n\u001b[1;32m     24\u001b[0m   value \u001b[38;5;241m=\u001b[39m \u001b[38;5;28minput\u001b[39m(\u001b[38;5;124m'\u001b[39m\u001b[38;5;124mEnter username: \u001b[39m\u001b[38;5;124m'\u001b[39m)\n\u001b[1;32m     25\u001b[0m   \u001b[38;5;28;01mreturn\u001b[39;00m value\n\u001b[0;32m---> 27\u001b[0m d \u001b[38;5;241m=\u001b[39m \u001b[43muser_input\u001b[49m\u001b[43m(\u001b[49m\u001b[43m)\u001b[49m\n\u001b[1;32m     28\u001b[0m \u001b[38;5;28mprint\u001b[39m(d)\n",
      "Cell \u001b[0;32mIn[21], line 9\u001b[0m, in \u001b[0;36muppercase_transformer.<locals>.wrapper_operation\u001b[0;34m()\u001b[0m\n\u001b[1;32m      8\u001b[0m \u001b[38;5;28;01mdef\u001b[39;00m \u001b[38;5;21mwrapper_operation\u001b[39m():\n\u001b[0;32m----> 9\u001b[0m   org_output \u001b[38;5;241m=\u001b[39m \u001b[43mfunc\u001b[49m\u001b[43m(\u001b[49m\u001b[43m)\u001b[49m\n\u001b[1;32m     10\u001b[0m   \u001b[38;5;28;01mreturn\u001b[39;00m org_output\u001b[38;5;241m.\u001b[39mupper()\n",
      "\u001b[0;31mTypeError\u001b[0m: 'NoneType' object is not callable"
     ]
    }
   ],
   "source": [
    "def user_input():\n",
    "  value = input('Enter username: ')\n",
    "  return value\n",
    "\n",
    "def uppercase_transformer(func):\n",
    "  print('Starting wrapper func')\n",
    "  \n",
    "  def wrapper_operation():\n",
    "    org_output = func()\n",
    "    return org_output.upper()\n",
    "  return wrapper_operation\n",
    "\n",
    "def listify(func):\n",
    "  print('Starting listify wrapper func')\n",
    "  \n",
    "  def wrapper_operation():\n",
    "    org_output = func()\n",
    "    list_output = list(org_output)\n",
    "  # return wrapper_operation  # Comment out this line to reproduce the error\n",
    "\n",
    "@uppercase_transformer\n",
    "@listify\n",
    "def user_input():\n",
    "  value = input('Enter username: ')\n",
    "  return value\n",
    "\n",
    "d = user_input()\n",
    "print(d)"
   ]
  },
  {
   "cell_type": "code",
   "execution_count": 24,
   "metadata": {},
   "outputs": [
    {
     "name": "stdout",
     "output_type": "stream",
     "text": [
      "Starting listify wrapper func\n",
      "Starting wrapper func\n",
      "RISSAN\n"
     ]
    }
   ],
   "source": [
    "def user_input():\n",
    "  value = input('Enter username: ')\n",
    "  return value\n",
    "\n",
    "def uppercase_transformer(func):\n",
    "  print('Starting wrapper func')\n",
    "  \n",
    "  '''def wrapper_operation(): -> bad operation\n",
    "    org_output = func()\n",
    "    string_output = ''.join(org_output)  # Join the list into a string\n",
    "    return string_output.upper()\n",
    "  return wrapper_operation\n",
    "  '''\n",
    "\n",
    "def listify_1(func):\n",
    "  print('Starting listify wrapper func')\n",
    "  \n",
    "  def wrapper_operation():\n",
    "    org_output = func()\n",
    "    list_output = list(org_output)\n",
    "    return list_output  # This line was missing\n",
    "  return wrapper_operation\n",
    "\n",
    "@uppercase_transformer\n",
    "@listify_1\n",
    "def user_input():\n",
    "  value = input('Enter username: ')\n",
    "  return value\n",
    "\n",
    "d = user_input()\n",
    "print(d)"
   ]
  },
  {
   "cell_type": "code",
   "execution_count": null,
   "metadata": {},
   "outputs": [],
   "source": []
  }
 ],
 "metadata": {
  "kernelspec": {
   "display_name": "Python 3",
   "language": "python",
   "name": "python3"
  },
  "language_info": {
   "codemirror_mode": {
    "name": "ipython",
    "version": 3
   },
   "file_extension": ".py",
   "mimetype": "text/x-python",
   "name": "python",
   "nbconvert_exporter": "python",
   "pygments_lexer": "ipython3",
   "version": "3.12.3"
  }
 },
 "nbformat": 4,
 "nbformat_minor": 2
}
