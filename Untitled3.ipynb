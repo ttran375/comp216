{
 "cells": [
  {
   "cell_type": "code",
   "execution_count": 7,
   "metadata": {},
   "outputs": [
    {
     "name": "stdout",
     "output_type": "stream",
     "text": [
      "Print from parent function\n",
      "<function parent_fn.<locals>.child_fn_1 at 0x7de8225b0c20>\n",
      "Print from child function 1\n",
      "Print from parent function\n",
      "<function parent_fn.<locals>.child_fn_2 at 0x7de8225b0a40>\n",
      "Print from child function 2\n"
     ]
    }
   ],
   "source": [
    "def parent_fn(input_value):\n",
    "    print('Print from parent function')\n",
    "\n",
    "    def child_fn_1():\n",
    "        return 'Print from child function 1'\n",
    "\n",
    "    def child_fn_2():\n",
    "        return 'Print from child function 2'\n",
    "\n",
    "    if input_value >= 0:\n",
    "        return child_fn_1\n",
    "    else:\n",
    "        return child_fn_2\n",
    "\n",
    "first_output = parent_fn(4)\n",
    "print(first_output)\n",
    "print(first_output())\n",
    "second_output = parent_fn(-7)\n",
    "print(second_output)\n",
    "print(second_output())"
   ]
  },
  {
   "cell_type": "code",
   "execution_count": 8,
   "metadata": {},
   "outputs": [
    {
     "data": {
      "text/plain": [
       "'\\ndef wrapper_fn():\\n  def wrapper_operation_1():\\n    fn_output = func()\\n    operation...\\n    return update_output\\n\\n  return wrapper_operation_1\\n'"
      ]
     },
     "execution_count": 8,
     "metadata": {},
     "output_type": "execute_result"
    }
   ],
   "source": [
    "#Decoractors or Wrapper Functions\n",
    "\n",
    "'''\n",
    "def wrapper_fn():\n",
    "  def wrapper_operation_1():\n",
    "    fn_output = func()\n",
    "    operation...\n",
    "    return update_output\n",
    "\n",
    "  return wrapper_operation_1\n",
    "'''"
   ]
  },
  {
   "cell_type": "code",
   "execution_count": 13,
   "metadata": {},
   "outputs": [
    {
     "name": "stdout",
     "output_type": "stream",
     "text": [
      "Starting wrapper func\n",
      "RISSAN DEVARAJA\n"
     ]
    }
   ],
   "source": [
    "def user_input():\n",
    "  value = input('Enter username: ')\n",
    "  return value\n",
    "\n",
    "def uppercase_transformer(func):\n",
    "  print('Starting wrapper func')\n",
    "  \n",
    "  def wrapper_operation():\n",
    "    org_output = func()\n",
    "    return org_output.upper()\n",
    "  return wrapper_operation\n",
    "\n",
    "a = uppercase_transformer(user_input)\n",
    "b = a()\n",
    "print(b)"
   ]
  },
  {
   "cell_type": "code",
   "execution_count": 16,
   "metadata": {},
   "outputs": [
    {
     "name": "stdout",
     "output_type": "stream",
     "text": [
      "Starting wrapper func\n",
      "Starting listify wrapper func\n"
     ]
    }
   ],
   "source": []
  },
  {
   "cell_type": "code",
   "execution_count": 15,
   "metadata": {},
   "outputs": [
    {
     "name": "stdout",
     "output_type": "stream",
     "text": [
      "Starting wrapper func\n",
      "RISSAN DEVARAJA\n"
     ]
    }
   ],
   "source": [
    "def uppercase_transformer(func):\n",
    "  print('Starting wrapper func')\n",
    "  \n",
    "  def wrapper_operation():\n",
    "    org_output = func()\n",
    "    return org_output.upper()\n",
    "  return wrapper_operation\n",
    "\n",
    "@uppercase_transformer\n",
    "def user_input():\n",
    "  value = input('Enter username: ')\n",
    "  return value\n",
    "\n",
    "c = user_input()\n",
    "print(c)"
   ]
  },
  {
   "cell_type": "code",
   "execution_count": 20,
   "metadata": {},
   "outputs": [
    {
     "ename": "SyntaxError",
     "evalue": "'return' outside function (3487497522.py, line 11)",
     "output_type": "error",
     "traceback": [
      "\u001b[0;36m  Cell \u001b[0;32mIn[20], line 11\u001b[0;36m\u001b[0m\n\u001b[0;31m    return wrapper_operation\u001b[0m\n\u001b[0m    ^\u001b[0m\n\u001b[0;31mSyntaxError\u001b[0m\u001b[0;31m:\u001b[0m 'return' outside function\n"
     ]
    }
   ],
   "source": [
    "def user_input():\n",
    "  value = input('Enter username: ')\n",
    "  return value\n",
    "\n",
    "def uppercase_transformer(func):\n",
    "  print('Starting wrapper func')\n",
    "  \n",
    "  def wrapper_operation():\n",
    "    org_output = func()\n",
    "    return org_output.upper()\n",
    "  return wrapper_operation\n",
    "\n",
    "def listify(func):\n",
    "  print('Starting listify wrapper func')\n",
    "  \n",
    "  def wrapper_operation():\n",
    "    org_output = func()\n",
    "    list_output = list(org_output)\n",
    "  return wrapper_operation\n",
    "\n",
    "\n",
    "@uppercase_transformer\n",
    "@listify\n",
    "def user_input():\n",
    "  value = input('Enter username: ')\n",
    "  return value\n",
    "\n",
    "d = user_input()\n",
    "print(d)"
   ]
  },
  {
   "cell_type": "code",
   "execution_count": null,
   "metadata": {},
   "outputs": [],
   "source": []
  }
 ],
 "metadata": {
  "kernelspec": {
   "display_name": "Python 3",
   "language": "python",
   "name": "python3"
  },
  "language_info": {
   "codemirror_mode": {
    "name": "ipython",
    "version": 3
   },
   "file_extension": ".py",
   "mimetype": "text/x-python",
   "name": "python",
   "nbconvert_exporter": "python",
   "pygments_lexer": "ipython3",
   "version": "3.12.3"
  }
 },
 "nbformat": 4,
 "nbformat_minor": 2
}
