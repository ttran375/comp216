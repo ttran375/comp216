{
 "cells": [
  {
   "cell_type": "code",
   "execution_count": 7,
   "metadata": {},
   "outputs": [
    {
     "name": "stdout",
     "output_type": "stream",
     "text": [
      "Print from parent function\n",
      "<function parent_fn.<locals>.child_fn_1 at 0x7de8225b0c20>\n",
      "Print from child function 1\n",
      "Print from parent function\n",
      "<function parent_fn.<locals>.child_fn_2 at 0x7de8225b0a40>\n",
      "Print from child function 2\n"
     ]
    }
   ],
   "source": [
    "def parent_fn(input_value):\n",
    "    print('Print from parent function')\n",
    "\n",
    "    def child_fn_1():\n",
    "        return 'Print from child function 1'\n",
    "\n",
    "    def child_fn_2():\n",
    "        return 'Print from child function 2'\n",
    "\n",
    "    if input_value >= 0:\n",
    "        return child_fn_1\n",
    "    else:\n",
    "        return child_fn_2\n",
    "\n",
    "first_output = parent_fn(4)\n",
    "print(first_output)\n",
    "print(first_output())\n",
    "second_output = parent_fn(-7)\n",
    "print(second_output)\n",
    "print(second_output())"
   ]
  },
  {
   "cell_type": "code",
   "execution_count": 8,
   "metadata": {},
   "outputs": [
    {
     "data": {
      "text/plain": [
       "'\\ndef wrapper_fn():\\n  def wrapper_operation_1():\\n    fn_output = func()\\n    operation...\\n    return update_output\\n\\n  return wrapper_operation_1\\n'"
      ]
     },
     "execution_count": 8,
     "metadata": {},
     "output_type": "execute_result"
    }
   ],
   "source": [
    "#Decoractors or Wrapper Functions\n",
    "\n",
    "'''\n",
    "def wrapper_fn():\n",
    "  def wrapper_operation_1():\n",
    "    fn_output = func()\n",
    "    operation...\n",
    "    return update_output\n",
    "\n",
    "  return wrapper_operation_1\n",
    "'''"
   ]
  },
  {
   "cell_type": "code",
   "execution_count": 13,
   "metadata": {},
   "outputs": [
    {
     "name": "stdout",
     "output_type": "stream",
     "text": [
      "Starting wrapper func\n",
      "RISSAN DEVARAJA\n"
     ]
    }
   ],
   "source": [
    "def user_input():\n",
    "  value = input('Enter username: ')\n",
    "  return value\n",
    "\n",
    "def uppercase_transformer(func):\n",
    "  print('Starting wrapper func')\n",
    "  \n",
    "  def wrapper_operation():\n",
    "    org_output = func()\n",
    "    return org_output.upper()\n",
    "  return wrapper_operation\n",
    "\n",
    "a = uppercase_transformer(user_input)\n",
    "b = a()\n",
    "print(b)"
   ]
  },
  {
   "cell_type": "code",
   "execution_count": 15,
   "metadata": {},
   "outputs": [
    {
     "name": "stdout",
     "output_type": "stream",
     "text": [
      "Starting wrapper func\n",
      "RISSAN DEVARAJA\n"
     ]
    }
   ],
   "source": [
    "def uppercase_transformer(func):\n",
    "  print('Starting wrapper func')\n",
    "  \n",
    "  def wrapper_operation():\n",
    "    org_output = func()\n",
    "    return org_output.upper()\n",
    "  return wrapper_operation\n",
    "\n",
    "@uppercase_transformer\n",
    "def user_input():\n",
    "  value = input('Enter username: ')\n",
    "  return value\n",
    "\n",
    "c = user_input()\n",
    "print(c)"
   ]
  },
  {
   "cell_type": "code",
   "execution_count": 21,
   "metadata": {},
   "outputs": [
    {
     "name": "stdout",
     "output_type": "stream",
     "text": [
      "Starting listify wrapper func\n",
      "Starting wrapper func\n"
     ]
    },
    {
     "ename": "TypeError",
     "evalue": "'NoneType' object is not callable",
     "output_type": "error",
     "traceback": [
      "\u001b[0;31m---------------------------------------------------------------------------\u001b[0m",
      "\u001b[0;31mTypeError\u001b[0m                                 Traceback (most recent call last)",
      "Cell \u001b[0;32mIn[21], line 27\u001b[0m\n\u001b[1;32m     24\u001b[0m   value \u001b[38;5;241m=\u001b[39m \u001b[38;5;28minput\u001b[39m(\u001b[38;5;124m'\u001b[39m\u001b[38;5;124mEnter username: \u001b[39m\u001b[38;5;124m'\u001b[39m)\n\u001b[1;32m     25\u001b[0m   \u001b[38;5;28;01mreturn\u001b[39;00m value\n\u001b[0;32m---> 27\u001b[0m d \u001b[38;5;241m=\u001b[39m \u001b[43muser_input\u001b[49m\u001b[43m(\u001b[49m\u001b[43m)\u001b[49m\n\u001b[1;32m     28\u001b[0m \u001b[38;5;28mprint\u001b[39m(d)\n",
      "Cell \u001b[0;32mIn[21], line 9\u001b[0m, in \u001b[0;36muppercase_transformer.<locals>.wrapper_operation\u001b[0;34m()\u001b[0m\n\u001b[1;32m      8\u001b[0m \u001b[38;5;28;01mdef\u001b[39;00m \u001b[38;5;21mwrapper_operation\u001b[39m():\n\u001b[0;32m----> 9\u001b[0m   org_output \u001b[38;5;241m=\u001b[39m \u001b[43mfunc\u001b[49m\u001b[43m(\u001b[49m\u001b[43m)\u001b[49m\n\u001b[1;32m     10\u001b[0m   \u001b[38;5;28;01mreturn\u001b[39;00m org_output\u001b[38;5;241m.\u001b[39mupper()\n",
      "\u001b[0;31mTypeError\u001b[0m: 'NoneType' object is not callable"
     ]
    }
   ],
   "source": [
    "def user_input():\n",
    "  value = input('Enter username: ')\n",
    "  return value\n",
    "\n",
    "def uppercase_transformer(func):\n",
    "  print('Starting wrapper func')\n",
    "  \n",
    "  def wrapper_operation():\n",
    "    org_output = func()\n",
    "    return org_output.upper()\n",
    "  return wrapper_operation\n",
    "\n",
    "def listify(func):\n",
    "  print('Starting listify wrapper func')\n",
    "  \n",
    "  def wrapper_operation():\n",
    "    org_output = func()\n",
    "    list_output = list(org_output)\n",
    "  # return wrapper_operation  # Comment out this line to reproduce the error\n",
    "\n",
    "@uppercase_transformer\n",
    "@listify\n",
    "def user_input():\n",
    "  value = input('Enter username: ')\n",
    "  return value\n",
    "\n",
    "d = user_input()\n",
    "print(d)"
   ]
  },
  {
   "cell_type": "code",
   "execution_count": 24,
   "metadata": {},
   "outputs": [
    {
     "name": "stdout",
     "output_type": "stream",
     "text": [
      "Starting listify wrapper func\n",
      "Starting wrapper func\n",
      "RISSAN\n"
     ]
    }
   ],
   "source": [
    "def user_input():\n",
    "  value = input('Enter username: ')\n",
    "  return value\n",
    "\n",
    "def uppercase_transformer(func):\n",
    "  print('Starting wrapper func')\n",
    "  \n",
    "  '''def wrapper_operation(): -> bad operation\n",
    "    org_output = func()\n",
    "    string_output = ''.join(org_output)  # Join the list into a string\n",
    "    return string_output.upper()\n",
    "  return wrapper_operation\n",
    "  '''\n",
    "\n",
    "def listify_1(func):\n",
    "  print('Starting listify wrapper func')\n",
    "  \n",
    "  def wrapper_operation():\n",
    "    org_output = func()\n",
    "    list_output = list(org_output)\n",
    "    return list_output  # This line was missing\n",
    "  return wrapper_operation\n",
    "\n",
    "@uppercase_transformer\n",
    "@listify_1\n",
    "def user_input():\n",
    "  value = input('Enter username: ')\n",
    "  return value\n",
    "\n",
    "d = user_input()\n",
    "print(d)"
   ]
  },
  {
   "cell_type": "code",
   "execution_count": null,
   "metadata": {},
   "outputs": [],
   "source": [
    "def user_input():\n",
    "  value = input('Enter username: ')\n",
    "  return value\n",
    "\n",
    "def uppercase_transformer(func):\n",
    "  print('Starting wrapper func')\n",
    "  \n",
    "  '''def wrapper_operation(): -> bad operation\n",
    "    org_output = func()\n",
    "    string_output = ''.join(org_output)  # Join the list into a string\n",
    "    return string_output.upper()\n",
    "  return wrapper_operation\n",
    "  '''\n",
    "\n",
    "def listify_1(func):\n",
    "  print('Starting listify wrapper func')\n",
    "  \n",
    "  def wrapper_operation():\n",
    "    org_output = func()\n",
    "    list_output = list(org_output)\n",
    "    return list_output  # This line was missing\n",
    "  return wrapper_operation\n",
    "\n",
    "@uppercase_transformer\n",
    "@listify_1\n",
    "def user_input():\n",
    "  value = input('Enter username: ')\n",
    "  return value\n",
    "\n",
    "d = user_input()\n",
    "print(d)"
   ]
  },
  {
   "cell_type": "code",
   "execution_count": 26,
   "metadata": {},
   "outputs": [
    {
     "name": "stdout",
     "output_type": "stream",
     "text": [
      "Starting listify wrapper func\n",
      "Starting wrapper func\n",
      "['A', ' ', 'S', ' ', 'D', ' ']\n"
     ]
    }
   ],
   "source": [
    "def uppercase_transformer(func):\n",
    "  print('Starting wrapper func')\n",
    "  \n",
    "  def wrapper_operation():\n",
    "    org_output = func()\n",
    "    transformed_output = [char.upper() for char in org_output]\n",
    "    return transformed_output\n",
    "  return wrapper_operation\n",
    "\n",
    "def listify_1(func):\n",
    "  print('Starting listify wrapper func')\n",
    "  \n",
    "  def wrapper_operation():\n",
    "    org_output = func()\n",
    "    list_output = list(org_output)\n",
    "    return list_output\n",
    "  return wrapper_operation\n",
    "\n",
    "@uppercase_transformer\n",
    "@listify_1\n",
    "def user_input():\n",
    "  value = input('Enter username: ')\n",
    "  return value\n",
    "\n",
    "d = user_input()\n",
    "print(d)"
   ]
  },
  {
   "cell_type": "code",
   "execution_count": 37,
   "metadata": {},
   "outputs": [
    {
     "name": "stdout",
     "output_type": "stream",
     "text": [
      "Creating a new instance of Rect\n",
      "Initializing Rect with length an width\n",
      "<__main__.Rect object at 0x7de8281479b0>\n",
      "4 6\n",
      "9 6\n",
      "Red\n"
     ]
    }
   ],
   "source": [
    "class Rect:\n",
    "  #Class attributes\n",
    "  def __new__(cls, *args, **kwargs):\n",
    "    print('Creating a new instance of Rect')\n",
    "    return super().__new__(cls)\n",
    "\n",
    "  def __init__(self, length, width):\n",
    "    print('Initializing Rect with length an width')\n",
    "    self.length = length\n",
    "    self.width = width\n",
    "    self.colour = 'Red'\n",
    "\n",
    "rectangle_1 = Rect(4, 6)\n",
    "print(rectangle_1)\n",
    "print(rectangle_1.length, rectangle_1.width)\n",
    "\n",
    "rectangle_1.length = 9\n",
    "print(rectangle_1.length, rectangle_1.width)\n",
    "print(rectangle_1.colour)"
   ]
  },
  {
   "cell_type": "code",
   "execution_count": 38,
   "metadata": {},
   "outputs": [
    {
     "name": "stdout",
     "output_type": "stream",
     "text": [
      "{'__module__': '__main__', '__new__': <staticmethod(<function Rect.__new__ at 0x7de821b256c0>)>, '__init__': <function Rect.__init__ at 0x7de821b26840>, '__dict__': <attribute '__dict__' of 'Rect' objects>, '__weakref__': <attribute '__weakref__' of 'Rect' objects>, '__doc__': None}\n",
      "{'length': 9, 'width': 6, 'colour': 'Red'}\n",
      "{'length': 9, 'width': 6, 'colour': 'Red', 'size': 'large'}\n"
     ]
    }
   ],
   "source": [
    "print(Rect.__dict__)\n",
    "print(rectangle_1.__dict__)\n",
    "rectangle_1.size = 'large'\n",
    "print(rectangle_1.__dict__)"
   ]
  },
  {
   "cell_type": "code",
   "execution_count": 40,
   "metadata": {},
   "outputs": [
    {
     "name": "stdout",
     "output_type": "stream",
     "text": [
      "Initializing Rect with length an width\n",
      "<__main__.Rect object at 0x7de82816f0e0>\n",
      "4\n"
     ]
    }
   ],
   "source": [
    "class Rect:\n",
    "  #Class attributes\n",
    "  \n",
    "  def __init__(self, length, width):\n",
    "    print('Initializing Rect with length an width')\n",
    "    self._length = length\n",
    "    self._width = width\n",
    "\n",
    "rectangle_1 = Rect(4, 6)\n",
    "print(rectangle_1)\n",
    "\n",
    "print(rectangle_1._length)\n",
    "rectangle_1._length = 8\n",
    "print(rectangle_1._length)"
   ]
  },
  {
   "cell_type": "code",
   "execution_count": 45,
   "metadata": {},
   "outputs": [
    {
     "name": "stdout",
     "output_type": "stream",
     "text": [
      "Initializing Rect with length an width\n",
      "<__main__.Rect object at 0x7de82811e090>\n",
      "4\n",
      "4\n",
      "{'_Rect__length': 4, '_Rect__width': 6, '_length': 8}\n"
     ]
    }
   ],
   "source": [
    "class Rect:\n",
    "  #Class attributes\n",
    "  \n",
    "  def __init__(self, length, width):\n",
    "    print('Initializing Rect with length an width')\n",
    "    self.__length = length\n",
    "    self.__width = width\n",
    "\n",
    "rectangle_1 = Rect(4, 6)\n",
    "print(rectangle_1)\n",
    "\n",
    "print(rectangle_1._Rect__length)\n",
    "rectangle_1._length = 8\n",
    "print(rectangle_1._Rect__length)\n",
    "print(rectangle_1.__dict__)"
   ]
  },
  {
   "cell_type": "code",
   "execution_count": null,
   "metadata": {},
   "outputs": [],
   "source": [
    "class Rect:\n",
    "  #Class attributes\n",
    "  \n",
    "  def __init__(self, length, width):\n",
    "    self._length = length\n",
    "    self._width = width\n",
    "\n",
    "    def get_length(self):\n",
    "      return self._length\n",
    "    \n",
    "    def set_length(self, value):\n",
    "      if isinstance(value, int | float):\n",
    "        self._length = value\n",
    "      else:\n",
    "        self._length = 0\n"
   ]
  },
  {
   "cell_type": "code",
   "execution_count": 51,
   "metadata": {},
   "outputs": [
    {
     "ename": "AttributeError",
     "evalue": "'Rect' object has no attribute 'set_length'",
     "output_type": "error",
     "traceback": [
      "\u001b[0;31m---------------------------------------------------------------------------\u001b[0m",
      "\u001b[0;31mAttributeError\u001b[0m                            Traceback (most recent call last)",
      "Cell \u001b[0;32mIn[51], line 17\u001b[0m\n\u001b[1;32m     14\u001b[0m       \u001b[38;5;28;01melse\u001b[39;00m:\n\u001b[1;32m     15\u001b[0m         \u001b[38;5;28mself\u001b[39m\u001b[38;5;241m.\u001b[39m_length \u001b[38;5;241m=\u001b[39m \u001b[38;5;241m0\u001b[39m\n\u001b[0;32m---> 17\u001b[0m rectangle_1 \u001b[38;5;241m=\u001b[39m \u001b[43mRect\u001b[49m\u001b[43m(\u001b[49m\u001b[38;5;241;43m4\u001b[39;49m\u001b[43m,\u001b[49m\u001b[43m \u001b[49m\u001b[38;5;241;43m6\u001b[39;49m\u001b[43m)\u001b[49m\n\u001b[1;32m     18\u001b[0m \u001b[38;5;28mprint\u001b[39m(rectangle_1)\n",
      "Cell \u001b[0;32mIn[51], line 5\u001b[0m, in \u001b[0;36mRect.__init__\u001b[0;34m(self, length, width)\u001b[0m\n\u001b[1;32m      4\u001b[0m \u001b[38;5;28;01mdef\u001b[39;00m \u001b[38;5;21m__init__\u001b[39m(\u001b[38;5;28mself\u001b[39m, length, width):\n\u001b[0;32m----> 5\u001b[0m   \u001b[38;5;28mself\u001b[39m\u001b[38;5;241m.\u001b[39m_length \u001b[38;5;241m=\u001b[39m \u001b[38;5;28;43mself\u001b[39;49m\u001b[38;5;241;43m.\u001b[39;49m\u001b[43mset_length\u001b[49m()\n\u001b[1;32m      6\u001b[0m   \u001b[38;5;28mself\u001b[39m\u001b[38;5;241m.\u001b[39m_width \u001b[38;5;241m=\u001b[39m width\n\u001b[1;32m      8\u001b[0m   \u001b[38;5;28;01mdef\u001b[39;00m \u001b[38;5;21mget_length\u001b[39m(\u001b[38;5;28mself\u001b[39m):\n",
      "\u001b[0;31mAttributeError\u001b[0m: 'Rect' object has no attribute 'set_length'"
     ]
    }
   ],
   "source": [
    "class Rect:\n",
    "  #Class attributes\n",
    "  \n",
    "  def __init__(self, length, width):\n",
    "    self._length = self.set_length()\n",
    "    self._width = width\n",
    "\n",
    "    def get_length(self):\n",
    "      return self._length\n",
    "    \n",
    "    def set_length(self, value):\n",
    "      if isinstance(value, int | float):\n",
    "        self._length = value\n",
    "      else:\n",
    "        self._length = 0\n",
    "\n",
    "rectangle_1 = Rect(4, 6)\n",
    "print(rectangle_1)"
   ]
  },
  {
   "cell_type": "code",
   "execution_count": 54,
   "metadata": {},
   "outputs": [
    {
     "name": "stdout",
     "output_type": "stream",
     "text": [
      "<__main__.Rect object at 0x7de828169460>\n"
     ]
    },
    {
     "ename": "AttributeError",
     "evalue": "'Rect' object has no attribute 'get_length'",
     "output_type": "error",
     "traceback": [
      "\u001b[0;31m---------------------------------------------------------------------------\u001b[0m",
      "\u001b[0;31mAttributeError\u001b[0m                            Traceback (most recent call last)",
      "Cell \u001b[0;32mIn[54], line 19\u001b[0m\n\u001b[1;32m     17\u001b[0m rectangle_2 \u001b[38;5;241m=\u001b[39m Rect(\u001b[38;5;241m8\u001b[39m, \u001b[38;5;241m6\u001b[39m)\n\u001b[1;32m     18\u001b[0m \u001b[38;5;28mprint\u001b[39m(rectangle_2)\n\u001b[0;32m---> 19\u001b[0m \u001b[38;5;28mprint\u001b[39m(\u001b[43mrectangle_2\u001b[49m\u001b[38;5;241;43m.\u001b[39;49m\u001b[43mget_length\u001b[49m())\n",
      "\u001b[0;31mAttributeError\u001b[0m: 'Rect' object has no attribute 'get_length'"
     ]
    }
   ],
   "source": [
    "class Rect:\n",
    "  #Class attributes\n",
    "  \n",
    "  def __init__(self, length, width):\n",
    "    self._length = length\n",
    "    self._width = width\n",
    "\n",
    "    def get_length(self):\n",
    "      return self._length\n",
    "    \n",
    "    def set_length(self, value):\n",
    "      if isinstance(value, int):\n",
    "        self._length = value\n",
    "      else:\n",
    "        self._length = 0\n",
    "\n",
    "rectangle_2 = Rect(8, 6)\n",
    "print(rectangle_2)\n",
    "print(rectangle_2.get_length())"
   ]
  },
  {
   "cell_type": "code",
   "execution_count": 62,
   "metadata": {},
   "outputs": [
    {
     "name": "stdout",
     "output_type": "stream",
     "text": [
      "8 6\n",
      "eigth eigth\n",
      "3 3\n"
     ]
    }
   ],
   "source": [
    "class Rect_2:\n",
    "  #Class attributes\n",
    "  \n",
    "  def __init__(self, length, width):\n",
    "    self._length = length\n",
    "    self._width = width\n",
    "\n",
    "  @property\n",
    "  def length(self):\n",
    "    return self._length\n",
    "\n",
    "  @length.setter\n",
    "  def length(self, value):\n",
    "    if isinstance(value, int):\n",
    "      self._length = value\n",
    "    else:\n",
    "      self._length = 0\n",
    "\n",
    "\n",
    "\n",
    "rectangle_2 = Rect_2(8, 6)\n",
    "print(rectangle_2._length, rectangle_2._width)\n",
    "\n",
    "rectangle_3 = Rect_2('eigth', 6)\n",
    "print(rectangle_3.length, rectangle_3._length)\n",
    "\n",
    "rectangle_4 = Rect_2(3, 9)\n",
    "print(rectangle_4.length, rectangle_4._length)\n"
   ]
  },
  {
   "cell_type": "code",
   "execution_count": 64,
   "metadata": {},
   "outputs": [
    {
     "ename": "NameError",
     "evalue": "name 'length' is not defined",
     "output_type": "error",
     "traceback": [
      "\u001b[0;31m---------------------------------------------------------------------------\u001b[0m",
      "\u001b[0;31mNameError\u001b[0m                                 Traceback (most recent call last)",
      "Cell \u001b[0;32mIn[64], line 1\u001b[0m\n\u001b[0;32m----> 1\u001b[0m \u001b[38;5;28;43;01mclass\u001b[39;49;00m\u001b[43m \u001b[49m\u001b[38;5;21;43;01mRect_4\u001b[39;49;00m\u001b[43m:\u001b[49m\n\u001b[1;32m      2\u001b[0m \u001b[43m  \u001b[49m\u001b[38;5;66;43;03m#Class attributes\u001b[39;49;00m\n\u001b[1;32m      4\u001b[0m \u001b[43m  \u001b[49m\u001b[38;5;28;43;01mdef\u001b[39;49;00m\u001b[43m \u001b[49m\u001b[38;5;21;43m__init__\u001b[39;49m\u001b[43m(\u001b[49m\u001b[38;5;28;43mself\u001b[39;49m\u001b[43m,\u001b[49m\u001b[43m \u001b[49m\u001b[43mlength\u001b[49m\u001b[43m,\u001b[49m\u001b[43m \u001b[49m\u001b[43mwidth\u001b[49m\u001b[43m)\u001b[49m\u001b[43m:\u001b[49m\n\u001b[1;32m      5\u001b[0m \u001b[43m    \u001b[49m\u001b[38;5;28;43mself\u001b[39;49m\u001b[38;5;241;43m.\u001b[39;49m\u001b[43m_length\u001b[49m\u001b[43m \u001b[49m\u001b[38;5;241;43m=\u001b[39;49m\u001b[43m \u001b[49m\u001b[43mlength\u001b[49m\n",
      "Cell \u001b[0;32mIn[64], line 11\u001b[0m, in \u001b[0;36mRect_4\u001b[0;34m()\u001b[0m\n\u001b[1;32m      8\u001b[0m \u001b[38;5;28;01mdef\u001b[39;00m \u001b[38;5;21m_get_length\u001b[39m(\u001b[38;5;28mself\u001b[39m):\n\u001b[1;32m      9\u001b[0m   \u001b[38;5;28;01mreturn\u001b[39;00m \u001b[38;5;28mself\u001b[39m\u001b[38;5;241m.\u001b[39m_length\n\u001b[0;32m---> 11\u001b[0m \u001b[38;5;129m@length\u001b[39m\u001b[38;5;241m.\u001b[39msetter\n\u001b[1;32m     12\u001b[0m \u001b[38;5;28;01mdef\u001b[39;00m \u001b[38;5;21m_set_length\u001b[39m(\u001b[38;5;28mself\u001b[39m, value):\n\u001b[1;32m     13\u001b[0m   \u001b[38;5;28;01mif\u001b[39;00m \u001b[38;5;28misinstance\u001b[39m(value, \u001b[38;5;28mint\u001b[39m):\n\u001b[1;32m     14\u001b[0m     \u001b[38;5;28mself\u001b[39m\u001b[38;5;241m.\u001b[39m_length \u001b[38;5;241m=\u001b[39m value\n",
      "\u001b[0;31mNameError\u001b[0m: name 'length' is not defined"
     ]
    }
   ],
   "source": [
    "class Rect_4:\n",
    "  #Class attributes\n",
    "  \n",
    "  def __init__(self, length, width):\n",
    "    self._length = length\n",
    "    self._width = width\n",
    "\n",
    "  def _get_length(self):\n",
    "    return self._length\n",
    "  \n",
    "  @length.setter\n",
    "  def _set_length(self, value):\n",
    "    if isinstance(value, int):\n",
    "      self._length = value\n",
    "    else:\n",
    "      self._length = 0\n",
    "\n",
    "\n",
    "rectangle_3 = Rect_4(8, 6)\n",
    "print(rectangle_3.length, rectangle_3._length)"
   ]
  },
  {
   "cell_type": "code",
   "execution_count": null,
   "metadata": {},
   "outputs": [],
   "source": [
    "class Rect_4:\n",
    "  #Class attributes\n",
    "  \n",
    "  def __init__(self, length, width):\n",
    "    self._length = length\n",
    "    self._width = width\n",
    "\n",
    "  def _get_length(self):\n",
    "    return self._length\n",
    "  \n",
    "  def _del_length(self):\n",
    "    print('Delete length attribute')\n",
    "    del self._length\n",
    "\n"
   ]
  }
 ],
 "metadata": {
  "kernelspec": {
   "display_name": "Python 3",
   "language": "python",
   "name": "python3"
  },
  "language_info": {
   "codemirror_mode": {
    "name": "ipython",
    "version": 3
   },
   "file_extension": ".py",
   "mimetype": "text/x-python",
   "name": "python",
   "nbconvert_exporter": "python",
   "pygments_lexer": "ipython3",
   "version": "3.12.3"
  }
 },
 "nbformat": 4,
 "nbformat_minor": 2
}
