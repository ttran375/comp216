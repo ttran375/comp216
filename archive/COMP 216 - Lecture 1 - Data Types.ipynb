{
  "cells": [
    {
      "cell_type": "markdown",
      "metadata": {
        "id": "RsUf1dXrhvBH"
      },
      "source": [
        "\n",
        "---  \n",
        "\n",
        "\n",
        "# **Python Built-in Data Types**\n",
        "\n",
        "Everything in Python is an object. Use the following url to [visualize](http://pythontutor.com/visualize.html#mode=display) the code.\n",
        "\n",
        "\n",
        "1. [None](#none)\n",
        "\n",
        "2. [Numbers](#number)\n",
        "   1. Integers\n",
        "   2. Floating Point Numbers\n",
        "   3. Complex Numbers\n",
        "   4. Booleans\n",
        "\n",
        "3. [Sequences](#sequence)\n",
        "   1. Strings\n",
        "   2. Tuples\n",
        "   3. Lists\n",
        "   4. Sets\n",
        "\n",
        "4. [Dictionaries](#dictionary)"
      ]
    },
    {
      "cell_type": "markdown",
      "metadata": {},
      "source": [
        "\n",
        "---"
      ]
    },
    {
      "cell_type": "markdown",
      "metadata": {
        "id": "D4QapRV3F8vy"
      },
      "source": [
        "### 1. None <a class='anchor' id='none'></a>\n",
        "\n",
        "Defines a Null value, or no value at all. Similar to the Null value in other programming languages.\n",
        "\n",
        "It is not the same as 0, False, or an empty collection. "
      ]
    },
    {
      "cell_type": "code",
      "execution_count": 1,
      "metadata": {
        "colab": {
          "base_uri": "https://localhost:8080/"
        },
        "id": "N9-U4R0VQdUl",
        "outputId": "75af67b8-370a-48e1-f904-f22ba2e3586e"
      },
      "outputs": [
        {
          "name": "stdout",
          "output_type": "stream",
          "text": [
            "None -> <class 'NoneType'>\n"
          ]
        }
      ],
      "source": [
        "a = None\n",
        "print(f'{a} -> {type(a)}')"
      ]
    },
    {
      "cell_type": "code",
      "execution_count": 2,
      "metadata": {},
      "outputs": [
        {
          "data": {
            "text/plain": [
              "True"
            ]
          },
          "execution_count": 2,
          "metadata": {},
          "output_type": "execute_result"
        }
      ],
      "source": [
        "#None is a built-in object that is available to the interpreter\n",
        "'None' in dir(__builtins__)"
      ]
    },
    {
      "cell_type": "code",
      "execution_count": 3,
      "metadata": {},
      "outputs": [
        {
          "name": "stdout",
          "output_type": "stream",
          "text": [
            "None -> <class 'NoneType'>\n",
            "140728223046872\n",
            "140728223046872\n"
          ]
        }
      ],
      "source": [
        "#Create new instance of None object\n",
        "b = None\n",
        "print(f'{b} -> {type(b)}')\n",
        "\n",
        "#None adopts singleton pattern; therefore, all None objects point to the same instance \n",
        "print(id(None)) \n",
        "print(id(b))"
      ]
    },
    {
      "cell_type": "markdown",
      "metadata": {},
      "source": [
        "\n",
        "---"
      ]
    },
    {
      "cell_type": "markdown",
      "metadata": {},
      "source": [
        "### 2. Numbers <a class='anchor' id='number'></a>\n",
        "\n",
        "Numbers are immutable.\n",
        "\n",
        "*Why do we say that numbers are immutable?*\n",
        "\n",
        "When you perform an operation on a number, the result is computed and stored in a new memory location but accessed with the same variable. The orginal value remains at the original memory location.\n",
        "\n",
        "Python has four built-in numerical types:\n",
        "\n",
        "1. [Integers](#integer)\n",
        "\n",
        "2. [Floating Point Numbers](#float)   \n",
        "\n",
        "3. [Complex Numbers](#complex)\n",
        "\n",
        "4. [Booleans](#boolean)\n",
        "\n",
        "Python also has two other data types (e.g., Demical and Fractions) which are accessible by importing the respectives modules."
      ]
    },
    {
      "cell_type": "markdown",
      "metadata": {},
      "source": [
        "&nbsp;"
      ]
    },
    {
      "cell_type": "markdown",
      "metadata": {
        "id": "dDE6OmXdPxhk"
      },
      "source": [
        "#### 2.1 Integers <a class='anchor' id='integer'></a>\n",
        "\n",
        "C# has: \n",
        "- 8-bits such as sbyte and byte  \n",
        "- 16-bts such as short and ushort  \n",
        "- 32-bits such as int and uint  \n",
        "- 64-bits such as long and ulong  \n",
        "\n",
        "In Python, Integers are limited only by available memory. Other packages and libraries (e.g., Pandas, Numpy, etc.) may define other Integer data types based on size."
      ]
    },
    {
      "cell_type": "code",
      "execution_count": 4,
      "metadata": {
        "colab": {
          "base_uri": "https://localhost:8080/"
        },
        "id": "-SNEDjDpRTxE",
        "outputId": "c58a127b-c9c4-4577-88bd-d8da803ed9ec"
      },
      "outputs": [
        {
          "name": "stdout",
          "output_type": "stream",
          "text": [
            "11 -> <class 'int'>\n",
            "11 -> <class 'int'>\n",
            "11 -> <class 'int'>\n",
            "11 -> <class 'int'>\n",
            "1100000\n",
            "1197\n",
            "1,100,000\n"
          ]
        }
      ],
      "source": [
        "#Decimal representation (Base 10)\n",
        "a = 11\n",
        "print(f'{a} -> {type(a)}')\n",
        "\n",
        "#Binary representation (using Prefix 0b or 0B); Note: output is in Base 10\n",
        "b = 0b1011\n",
        "print(f'{b} -> {type(b)}')\n",
        "\n",
        "#Octal representation (using Prefix 0o or 0O); Note: output is in Base 10\n",
        "c = 0o13\n",
        "print(f'{c} -> {type(c)}')\n",
        "\n",
        "#Hexadecimal representation (using Prefix 0x or 0X); Note: output is in Base 10\n",
        "d = 0xb\n",
        "print(f'{d} -> {type(d)}')\n",
        "\n",
        "#Allows the use of underscores to make number literals more readable\n",
        "e = 1_100_000\n",
        "print(e)\n",
        "f = 0x_4_ad\n",
        "print(f)\n",
        "\n",
        "#Supports format specifier when printing to terminal\n",
        "print(f'{e:,}')"
      ]
    },
    {
      "cell_type": "code",
      "execution_count": 5,
      "metadata": {
        "colab": {
          "base_uri": "https://localhost:8080/"
        },
        "id": "h3zVQ5yfVHQl",
        "outputId": "2c2be0da-70e8-42f0-de8d-c95ea3a933fc"
      },
      "outputs": [
        {
          "name": "stdout",
          "output_type": "stream",
          "text": [
            "Value: 10 -> Object ID: 2815272512080\n",
            "Value: 11 -> Object ID: 2815272512112\n"
          ]
        }
      ],
      "source": [
        "#Numbers are immutable; therefore, it is not possible to alter a single digit in a single instance; only create new instance\n",
        "g = 10\n",
        "print(f'Value: {g} -> Object ID: {id(g)}')\n",
        "\n",
        "#Variable is re-assigned to new the number object/instance\n",
        "h = g + 1   \n",
        "print(f'Value: {h} -> Object ID: {id(h)}')\n"
      ]
    },
    {
      "cell_type": "markdown",
      "metadata": {
        "id": "rBFQ0CmKQEFG"
      },
      "source": [
        "#### 2.2 Floating Point Numbers <a class='anchor' id='float'></a>\n",
        "\n",
        "C# has:\n",
        "- 32-bits float\n",
        "- 64-bits double\n",
        "\n",
        "In Python, Floating Point numbers has \"unlimited\" precision based on the IEEE 754 standard. Other packages and libraries (e.g., Pandas, Numpy, etc.) may define other Floating Point number data types."
      ]
    },
    {
      "cell_type": "code",
      "execution_count": 6,
      "metadata": {
        "colab": {
          "base_uri": "https://localhost:8080/"
        },
        "id": "sM1nUmvTSW3i",
        "outputId": "f7c5d58c-f56f-46d2-9e46-79166a711e17"
      },
      "outputs": [
        {
          "name": "stdout",
          "output_type": "stream",
          "text": [
            "3.1428 -> <class 'float'>\n",
            "10.0 -> <class 'float'>\n",
            "0.001 -> <class 'float'>\n",
            "23000000000.0\n",
            "5.3e-10\n"
          ]
        }
      ],
      "source": [
        "#Decimal representation (Base 10) with flexible entry\n",
        "a = 3.1428\n",
        "print(f'{a} -> {type(a)}')\n",
        "\n",
        "b = 10.\n",
        "print(f'{b} -> {type(b)}')\n",
        "\n",
        "c = .001\n",
        "print(f'{c} -> {type(c)}')\n",
        "\n",
        "#Decimal representation with exponent notation\n",
        "d = 2.3e10 #Read as 2.3 * 10^10\n",
        "print(d)\n",
        "\n",
        "e = 5.3e-10 #Read as 5.3 * 10^-10\n",
        "print(e)"
      ]
    },
    {
      "cell_type": "code",
      "execution_count": 7,
      "metadata": {},
      "outputs": [
        {
          "name": "stdout",
          "output_type": "stream",
          "text": [
            "Maximum Positive Value: 1.7976931348623157e+308; Infinity: inf\n",
            "Maximum Negative Value: -1.7976931348623157e+308; Infinity: -inf\n",
            "Minimum Non-Zero Value: 2.2250738585072014e-308; Other: 2.225073858507203e-309\n"
          ]
        }
      ],
      "source": [
        "#Floating point values are 64-bit “double-precision” values based on the IEEE 754 standard\n",
        "\n",
        "#Maximum negative and positive value\n",
        "import sys\n",
        "f = sys.float_info.max\n",
        "g = 1.7976931348623159e+308\n",
        "print(f'Maximum Positive Value: {f}; Infinity: {g}')\n",
        "\n",
        "h = sys.float_info.max * -1\n",
        "i = -1.7976931348623159e+308\n",
        "print(f'Maximum Negative Value: {h}; Infinity: {i}')\n",
        "\n",
        "#Minimum non-zero value with maximum precision\n",
        "j = sys.float_info.min\n",
        "k = j/10 # Notice the reduction in precision\n",
        "print(f'Minimum Non-Zero Value: {j}; Other: {k}')"
      ]
    },
    {
      "cell_type": "markdown",
      "metadata": {
        "id": "anb-K-A-Qdsa"
      },
      "source": [
        "#### 2.3 Complex Numbers <a class='anchor' id='complex'></a>\n",
        "\n",
        "Mathematical concept comprised of a real and an imaginary units that are utilzied to explore vector graphics, sound frequency analysis, fractals, etc."
      ]
    },
    {
      "cell_type": "code",
      "execution_count": 8,
      "metadata": {
        "colab": {
          "base_uri": "https://localhost:8080/"
        },
        "id": "SMCNnl5RTw4f",
        "outputId": "f881fc9e-6495-4edc-807d-15592b18a63e"
      },
      "outputs": [
        {
          "name": "stdout",
          "output_type": "stream",
          "text": [
            "2j -> <class 'complex'>\n",
            "(2+3.14j) -> <class 'complex'>\n",
            "(2.178-4j) -> <class 'complex'>\n",
            "2.15e+100j -> <class 'complex'>\n",
            "0.00125j -> <class 'complex'>\n"
          ]
        }
      ],
      "source": [
        "#Complex numbers must have atleast an imaginary unit\n",
        "a = 2j\n",
        "print(f'{a} -> {type(a)}')\n",
        "\n",
        "b = 2 + 3.14j\n",
        "print(f'{b} -> {type(b)}')\n",
        "\n",
        "c = 2.178 - 4j\n",
        "print(f'{c} -> {type(b)}')\n",
        "\n",
        "#Possible to leverage an imaginary exponent\n",
        "d = 2.15e100j\n",
        "print(f'{d} -> {type(d)}')\n",
        "\n",
        "e = 1.25e-3j\n",
        "print(f'{e} -> {type(d)}')\n"
      ]
    },
    {
      "cell_type": "markdown",
      "metadata": {
        "id": "SnPVk39dlTBu"
      },
      "source": [
        "#### Arithmetic Operations"
      ]
    },
    {
      "cell_type": "code",
      "execution_count": 9,
      "metadata": {
        "colab": {
          "base_uri": "https://localhost:8080/"
        },
        "id": "DAdlf0n9lbH8",
        "outputId": "e37ee50d-ba28-4bc9-9b08-d6bda1a639f1"
      },
      "outputs": [
        {
          "name": "stdout",
          "output_type": "stream",
          "text": [
            "Output: 1\n",
            "Output: 5.0 -> <class 'float'>\n",
            "Output: 3 -> <class 'int'>\n",
            "Output: 1\n",
            "Output: 1.12\n"
          ]
        }
      ],
      "source": [
        "#Python supports basic arithmetic (e.g., addition, subtraction, multiplication, division). \n",
        "\n",
        "#Order of operation is based on the BEDMAS rule (Brackets, Exponents, Division/Multiplication/Modulus, Addition/Subtraction)\n",
        "a = (1 + 3) - 4 * 3 + 3**2\n",
        "print(f'Output: {a}')\n",
        "\n",
        "#Division always outputs float\n",
        "b = 10 / 2           \n",
        "print(f'Output: {b} -> {type(b)}')\n",
        "\n",
        "#Integer or floor division operator\n",
        "c = 10 // 3          \n",
        "print(f'Output: {c} -> {type(c)}')\n",
        "\n",
        "#Modulus operator - Outputs the remainder of dividing the left operand by the right operand\n",
        "d = 25 % 3\n",
        "print(f'Output: {d}')\n",
        "\n",
        "e = 7.12 % 3\n",
        "print(f'Output: {e}')"
      ]
    },
    {
      "cell_type": "code",
      "execution_count": 10,
      "metadata": {},
      "outputs": [
        {
          "name": "stdout",
          "output_type": "stream",
          "text": [
            "Output: 0.30000000000000004 -> Floating-point representation error\n",
            "Output: 0.1299999999999999 -> Floating-point representation error\n"
          ]
        }
      ],
      "source": [
        "#Floating Point Representation Error arises due to how Floating Point Numbers are stored in memory\n",
        "f = 0.1 + 0.2\n",
        "print(f'Output: {f} -> Floating-point representation error')\n",
        "\n",
        "g = 6.13 % 3\n",
        "print(f'Output: {g} -> Floating-point representation error')"
      ]
    },
    {
      "cell_type": "code",
      "execution_count": 11,
      "metadata": {},
      "outputs": [
        {
          "name": "stdout",
          "output_type": "stream",
          "text": [
            "Evaluate: 11 ** 2 -> 121\n",
            "Evaluate: 25 ** 0.5 -> 5.0\n",
            "Evaluate: 64 ** (1/3) -> 3.9999999999999996\n",
            "Evaluate: 25 % 4.1 -> 0.40000000000000213\n"
          ]
        }
      ],
      "source": [
        "#Evaluation of arithmetic expressions stored as a String\n",
        "h = '11 ** 2'\n",
        "print(f'Evaluate: {h} -> {eval(h)}')\n",
        "\n",
        "i = '25 ** 0.5'     #Square root\n",
        "print(f'Evaluate: {i} -> {eval(i)}')\n",
        "\n",
        "j = '64 ** (1/3)'   #Cube root     \n",
        "print(f'Evaluate: {j} -> {eval(j)}')\n",
        "\n",
        "k = '25 % 4.1'\n",
        "print(f'Evaluate: {k} -> {eval(k)}')"
      ]
    },
    {
      "cell_type": "code",
      "execution_count": 12,
      "metadata": {},
      "outputs": [
        {
          "name": "stdout",
          "output_type": "stream",
          "text": [
            "Evaluate: 1j + (1+1.2j) -> (1+2.2j)\n",
            "Evaluate: 1j - (1+1.2j) -> (-1-0.19999999999999996j)\n",
            "Evaluate: (2-3j) * (2+3j) -> (13+0j)\n",
            "Evaluate: (2-3j) / (1+1.2j) -> (-0.6557377049180327-2.2131147540983607j)\n",
            "Evaluate: 10 * 1j -> 10j\n",
            "Evaluate: 1j ** 0.5 -> (0.7071067811865476+0.7071067811865476j)\n"
          ]
        }
      ],
      "source": [
        "#Perform (most) arthemtics with complex numbers\n",
        "#Math methods (e.g., Ceiling, Floor, Sin, Cos, Tan, etc.) are not supported\n",
        "a = '1j'\n",
        "b = '(1+1.2j)'\n",
        "c = '(2-3j)'\n",
        "d = '(2+3j)'\n",
        "e = '10'\n",
        "f = '0.5'\n",
        "\n",
        "print(f'Evaluate: {a} + {b} -> {eval(a + \"+ \" + b)}')\n",
        "\n",
        "print(f'Evaluate: {a} - {b} -> {eval(a + \" - \" + b)}')\n",
        "\n",
        "print(f'Evaluate: {c} * {d} -> {eval(c + \" * \" + d)}')\n",
        "\n",
        "print(f'Evaluate: {c} / {b} -> {eval(c + \" / \" + b)}')\n",
        "\n",
        "print(f'Evaluate: {e} * {a} -> {eval(e + \" * \" + a)}')\n",
        "\n",
        "print(f'Evaluate: {a} ** {f} -> {eval(a + \" ** \" + f)}')"
      ]
    },
    {
      "cell_type": "markdown",
      "metadata": {
        "id": "bAXoDJSsQxGI"
      },
      "source": [
        "#### 2.4 Booleans <a class='anchor' id='boolean'></a>\n",
        "\n",
        "There are only two possible Boolean literal values: **True** or **False**. Booleans are considered a numeric type.\n",
        "\n",
        "However, any python object can be tested for truth value. All of the following will be considered **False:**\n",
        "\n",
        "  * None\n",
        "  * False\n",
        "  * Any zero numeric (e.g., 0, 0.0, 0j)\n",
        "  * Any empty sequence (e.g., '', {}, [])\n",
        "\n",
        "Everything else will be considered **True**."
      ]
    },
    {
      "cell_type": "code",
      "execution_count": 13,
      "metadata": {},
      "outputs": [
        {
          "name": "stdout",
          "output_type": "stream",
          "text": [
            "Type of True -> <class 'bool'>\n",
            "Type of False -> <class 'bool'>\n"
          ]
        }
      ],
      "source": [
        "a = True\n",
        "print(f'Type of {a} -> {type(a)}')\n",
        "\n",
        "b = False\n",
        "print(f'Type of {b} -> {type(b)}')"
      ]
    },
    {
      "cell_type": "code",
      "execution_count": 14,
      "metadata": {},
      "outputs": [
        {
          "name": "stdout",
          "output_type": "stream",
          "text": [
            "True\n",
            "True\n"
          ]
        }
      ],
      "source": [
        "#True and False are built-in objects that are available to the interpreter\n",
        "print('True' in dir(__builtins__))\n",
        "print('False' in dir(__builtins__))"
      ]
    },
    {
      "cell_type": "code",
      "execution_count": 15,
      "metadata": {},
      "outputs": [
        {
          "name": "stdout",
          "output_type": "stream",
          "text": [
            "True -> <class 'bool'>\n",
            "True -> 140728222996584\n",
            "Variable \"c\" -> 140728222996584\n"
          ]
        }
      ],
      "source": [
        "#Create new variable for the True object\n",
        "c = True\n",
        "print(f'{c} -> {type(c)}')\n",
        "\n",
        "#True and False instances adopts singleton pattern; therefore, all None objects point to the same instance \n",
        "print(f'True -> {id(True)}') \n",
        "print(f'Variable \"c\" -> {id(c)}')"
      ]
    },
    {
      "cell_type": "code",
      "execution_count": 16,
      "metadata": {},
      "outputs": [
        {
          "name": "stdout",
          "output_type": "stream",
          "text": [
            "Output: 1.0\n",
            "Output: 11\n"
          ]
        }
      ],
      "source": [
        "#Booleans function as a numeric data type, which supports numeric operations (e.g., arithmetic operations)\n",
        "print(f'Output: {True + (False / True)}')\n",
        "print(f'Output: {10 + True ** 4}')"
      ]
    },
    {
      "cell_type": "code",
      "execution_count": 17,
      "metadata": {
        "colab": {
          "base_uri": "https://localhost:8080/"
        },
        "id": "MZ-mf29mOzOH",
        "outputId": "87a19115-4a1f-4f04-d81d-dc48f322f078"
      },
      "outputs": [
        {
          "name": "stdout",
          "output_type": "stream",
          "text": [
            "Boolean Evaluation: None -> False\n",
            "Boolean Evaluation: 0 -> False\n",
            "Boolean Evaluation: 1 -> True\n",
            "Boolean Evaluation: 0.0 -> False\n",
            "Boolean Evaluation: 3.14 -> True\n",
            "Boolean Evaluation:  -> False\n",
            "Boolean Evaluation: Hello -> True\n",
            "Boolean Evaluation: [] -> False\n",
            "Boolean Evaluation: [2, 3] -> True\n",
            "Boolean Evaluation: {} -> False\n",
            "Boolean Evaluation: {1: 'narendra', 2: 'pershad'} -> True\n",
            "Boolean Evaluation: () -> False\n",
            "Boolean Evaluation: [] -> True\n"
          ]
        }
      ],
      "source": [
        "#Most Python objects have a Boolean context\n",
        "d = None\n",
        "print(f'Boolean Evaluation: {d} -> {bool(d)}')\n",
        "\n",
        "e = 0\n",
        "print(f'Boolean Evaluation: {e} -> {bool(e)}')\n",
        "\n",
        "f = 1\n",
        "print(f'Boolean Evaluation: {f} -> {bool(f)}')\n",
        "\n",
        "g = 0.\n",
        "print(f'Boolean Evaluation: {g} -> {bool(g)}')\n",
        "\n",
        "h = 3.14\n",
        "print(f'Boolean Evaluation: {h} -> {bool(h)}')\n",
        "\n",
        "i = ''\n",
        "print(f'Boolean Evaluation: {i} -> {bool(i)}')\n",
        "\n",
        "j = 'Hello'\n",
        "print(f'Boolean Evaluation: {j} -> {bool(j)}')\n",
        "\n",
        "k = []\n",
        "print(f'Boolean Evaluation: {k} -> {bool(k)}')\n",
        "\n",
        "l = [2, 3]\n",
        "print(f'Boolean Evaluation: {l} -> {bool(l)}')\n",
        "\n",
        "m = {}\n",
        "print(f'Boolean Evaluation: {m} -> {bool(m)}')\n",
        "\n",
        "n = {1: 'narendra', 2: 'pershad'}\n",
        "print(f'Boolean Evaluation: {n} -> {bool(n)}')\n",
        "\n",
        "o = ()\n",
        "print(f'Boolean Evaluation: {o} -> {bool(o)}')\n",
        "\n",
        "p = (4, 'comp216')\n",
        "print(f'Boolean Evaluation: {[]} -> {bool(p)}')\n"
      ]
    },
    {
      "cell_type": "markdown",
      "metadata": {},
      "source": [
        "\n",
        "---"
      ]
    },
    {
      "cell_type": "markdown",
      "metadata": {
        "id": "upVrF2yKvPW5"
      },
      "source": [
        "### 3. Sequences <a class='anchor' id='sequence'></a>\n",
        "\n",
        "Python has several built-in sequences data types, which are used to encompass a collection of items. These data types are also classified as Iterables; therefore, the object can be be “iterated over”.\n",
        "\n",
        "Immutable Sequences include:\n",
        "\n",
        "1. [Strings](#string)\n",
        "2. [Tuples](#tuple)\n",
        "\n",
        "Mutable Sequences includes:\n",
        "\n",
        "3. [Lists](#list)\n",
        "4. [Sets](#set)\n"
      ]
    },
    {
      "cell_type": "markdown",
      "metadata": {},
      "source": [
        "&nbsp;"
      ]
    },
    {
      "cell_type": "markdown",
      "metadata": {
        "id": "kMedTzVI2HwJ"
      },
      "source": [
        "#### 3.1 Strings <a class='anchor' id='string'></a>\n",
        "\n",
        "Strings are an immutable sequences of character data. The literal is delimited by single quotes, double quotes, triple single quotes or triple double quotes. By default, the character data are represented in unicode (**UTF-8**).\n",
        "\n",
        "Strings are limited only by available memory. Unlike most modern languages, Python does not have a **Char** type."
      ]
    },
    {
      "cell_type": "code",
      "execution_count": 18,
      "metadata": {
        "colab": {
          "base_uri": "https://localhost:8080/",
          "height": 35
        },
        "id": "_k7WNYDpA37q",
        "outputId": "bda70ed7-0357-4753-ecbc-72b490c4d5d5"
      },
      "outputs": [
        {
          "name": "stdout",
          "output_type": "stream",
          "text": [
            "To be or not to be -> <class 'str'>\n",
            "To be or not to be -> <class 'str'>\n",
            "Are the two expressions the equivalent? True\n",
            "\n",
            "This is a multiple\n",
            "line string.\n",
            "\n",
            "Additional line of text.\n"
          ]
        }
      ],
      "source": [
        "#Use single quotes as the delimiter\n",
        "a = 'To be or not to be'\n",
        "print(f'{a} -> {type(a)}')\n",
        "\n",
        "#Use double quotes as the delimiter\n",
        "b = \"To be or not to be\"\n",
        "print(f'{b} -> {type(b)}')\n",
        "\n",
        "#Note: The use of single and double quotation delimiters does change the instrinc value\n",
        "print(f'Are the two expressions the equivalent? {a == b}')\n",
        "\n",
        "#Triple quotation for multiple line Strings\n",
        "c= '''\n",
        "This is a multiple\n",
        "line string.\n",
        "\n",
        "Additional line of text.'''\n",
        "print(c)"
      ]
    },
    {
      "cell_type": "code",
      "execution_count": 19,
      "metadata": {},
      "outputs": [
        {
          "name": "stdout",
          "output_type": "stream",
          "text": [
            "Output: Narendra's toys\n",
            "Output:\n",
            "\\COMP 216\n",
            "\\Networking\n",
            "Output: Narendra's toys\n",
            "Output:\\COMP 216\tNetworking\\\n"
          ]
        }
      ],
      "source": [
        "#Working with special characters\n",
        "\n",
        "#Use the Escape Sequence (\\) to suppress or apply the special interpretation\n",
        "d = 'Narendra\\'s toys'              #Supress the special meaning of the apostrophe character\n",
        "print(f'Output: {d}')\n",
        "\n",
        "e = '\\n\\\\COMP 216\\n\\\\Networking'    #Apply the special meaning to the new line character\n",
        "print(f'Output:{e}')\n",
        "\n",
        "#Alternative method to supress \"some\" special characters with double quote delimiters\n",
        "f = \"Narendra's toys\"\n",
        "print(f'Output: {f}')\n",
        "\n",
        "#Other special characters always require the Escape Sequence\n",
        "g = \"\\\\COMP 216\\tNetworking\\\\\"\n",
        "print(f'Output:{g}')"
      ]
    },
    {
      "cell_type": "code",
      "execution_count": 20,
      "metadata": {
        "colab": {
          "base_uri": "https://localhost:8080/",
          "height": 35
        },
        "id": "VDxk0XEtGB8R",
        "outputId": "83c173fe-6851-40cd-bfa6-58c6fef5d3cc"
      },
      "outputs": [
        {
          "name": "stdout",
          "output_type": "stream",
          "text": [
            "Output: First line Second line Third line\n"
          ]
        }
      ],
      "source": [
        "#Note: The use of the line continuation symbol\n",
        "#It is illegal to place any character after the slash\n",
        "h = 'First line '\\\n",
        "'Second line '\\\n",
        "'Third line'\n",
        "print(f'Output: {h}')"
      ]
    },
    {
      "cell_type": "code",
      "execution_count": 21,
      "metadata": {
        "colab": {
          "base_uri": "https://localhost:8080/"
        },
        "id": "BBnR7_xitpcx",
        "outputId": "92e4f7ea-21db-4beb-fded-26cb3f8a23b7"
      },
      "outputs": [
        {
          "name": "stdout",
          "output_type": "stream",
          "text": [
            "Non-standard Character: Äè -> <class 'str'>\n",
            "Non-standard Character: Character: Äè -> <class 'str'>\n",
            "Non-standard Character: © -> <class 'str'>\n",
            "ASCII Value for © is 169 -> <class 'int'>\n"
          ]
        }
      ],
      "source": [
        "#Specify non-keyboard character via Hexcode\n",
        "i = '\\u00c4\\u00e8'          #Four digit hex value\n",
        "print(f'Non-standard Character: {i} -> {type(i)}')\n",
        "j = '\\U000000c4\\U000000e8'  #Eight digit hex value\n",
        "print(f'Non-standard Character: Character: {j} -> {type(j)}')\n",
        "\n",
        "#Specify and retrieve non-keyboard character via ASCII\n",
        "k = chr(169)\n",
        "print(f'Non-standard Character: {k} -> {type(k)}')\n",
        "l = ord('©')                #Determine ASCII Integer value of the character\n",
        "print(f'ASCII Value for © is {l} -> {type(l)}')\n",
        "\n",
        "#m = ord('©ABC') #--> Raise an exception (Type Error); chr() and ord() methods only accept one value"
      ]
    },
    {
      "cell_type": "code",
      "execution_count": 22,
      "metadata": {
        "colab": {
          "base_uri": "https://localhost:8080/"
        },
        "id": "fPHRoMjNrqzy",
        "outputId": "db467a73-3c13-4220-9805-53831cf7cb03"
      },
      "outputs": [
        {
          "name": "stdout",
          "output_type": "stream",
          "text": [
            "Normal string -> <class 'str'>\n",
            "['N', 'o', 'r', 'm', 'a', 'l', ' ', 's', 't', 'r', 'i', 'n', 'g']\n",
            "b'Binary string' -> <class 'bytes'>\n",
            "[66, 105, 110, 97, 114, 121, 32, 115, 116, 114, 105, 110, 103]\n"
          ]
        }
      ],
      "source": [
        "#Binary Strings are used for various file types (e.g., images, PDFs, etc.) and sockets\n",
        "n = 'Normal string'\n",
        "print(f'{n} -> {type(n)}')\n",
        "print(list(n))\n",
        "\n",
        "o = b'Binary string'\n",
        "print(f'{o} -> {type(o)}')\n",
        "print(list(o))"
      ]
    },
    {
      "cell_type": "markdown",
      "metadata": {},
      "source": [
        "#### String Operations and Methods"
      ]
    },
    {
      "cell_type": "code",
      "execution_count": 23,
      "metadata": {
        "colab": {
          "base_uri": "https://localhost:8080/"
        },
        "id": "Me0U4fa_vVZg",
        "outputId": "b6bd6465-092f-4b32-f51d-53dca4508c61"
      },
      "outputs": [
        {
          "name": "stdout",
          "output_type": "stream",
          "text": [
            "Output: FooBarBaz\n",
            "Output: FooFooFooFooFoo\n"
          ]
        }
      ],
      "source": [
        "#Utlize numeric operands\n",
        "p = 'Foo'\n",
        "q = 'Bar'\n",
        "r = 'Baz'\n",
        "\n",
        "s = p + q + r               #Return a new String by concatenating other strings\n",
        "print(f'Output: {s}')\n",
        "\n",
        "t = p * 5                   #Return a new String by concatenating other strings\n",
        "print(f'Output: {t}')"
      ]
    },
    {
      "cell_type": "code",
      "execution_count": 24,
      "metadata": {},
      "outputs": [
        {
          "name": "stdout",
          "output_type": "stream",
          "text": [
            "Output: the quick brown fox jumps over the lazy dog -> THE QUICK BROWN FOX JUMPS OVER THE LAZY DOG\n",
            "Output: the quick brown fox jumps over the lazy dog -> The quick brown fox jumps over the lazy dog\n",
            "Output: the quick brown fox jumps over the lazy dog -> The Quick Brown Fox Jumps Over The Lazy Dog\n",
            "Output: ['the', 'quick', 'brown', 'fox', 'jumps', 'over', 'the', 'lazy', 'dog'] -> <class 'list'>\n"
          ]
        }
      ],
      "source": [
        "#Common formatting methods\n",
        "u = 'the quick brown fox jumps over the lazy dog'\n",
        "print(f'Output: {u} -> {u.upper()}')                  #Return a new String with all the letters in upper-case\n",
        "print(f'Output: {u} -> {u.capitalize()}')             #Returm a new String with the first letter of each word in upper-case\n",
        "print(f'Output: {u} -> {u.title()}')                  #Returm a new String with the first character in upper-case\n",
        "print(f'Output: {u.split()} -> {type(u.split())}')    #Convert from String to List by splitting on each space character"
      ]
    },
    {
      "cell_type": "code",
      "execution_count": 25,
      "metadata": {},
      "outputs": [
        {
          "name": "stdout",
          "output_type": "stream",
          "text": [
            "Output: the quick brown fox jumps over the lazy dog -> the:quick:brown:fox:jumps:over:the:lazy:dog\n",
            "Output: ['the', 'quick', 'brown', 'fox', 'jumps', 'over', 'the', 'lazy', 'dog']\n",
            "Number of occurances with substring \"Ba\": 2\n",
            "Lowest index with substring \"Ba\": 3\n",
            "Next index with substring \"Ba\": 6\n",
            "Index with substring \"Zoo\": -1\n",
            "Lowest index with substring \"Ba\": 3\n",
            "Length of FooBarBaz: 9\n"
          ]
        }
      ],
      "source": [
        "#Replace and search methods\n",
        "v = u.replace(' ', ':')             #Replace ' ' (space characters) with ':' (colon character)\n",
        "print(f'Output: {u} -> {v}')\n",
        "print(f'Output: {v.split(\":\")}')    #Return a List by spiltting string on the ':' characters\n",
        "\n",
        "w = 'Ba'\n",
        "x = 'Zoo'\n",
        "print(f'Number of occurances with substring \"{w}\": {s.count(w)}')     #Return Integer that represents the occurances with substring\n",
        "\n",
        "print(f'Lowest index with substring \"{w}\": {s.find(w)}')              #Return Integer that represents the lowest index with substring\n",
        "print(f'Next index with substring \"{w}\": {s.find(w, s.find(w)+1)}')   #Return Integer that represents the next index with substring\n",
        "print(f'Index with substring \"{x}\": {s.find(x)}')                     #Return \"-1\" if the substring is not found\n",
        "\n",
        "print(f'Lowest index with substring \"{w}\": {s.index(w)}')             #Return Integer that represents the lowest index with substring\n",
        "#print(f'Index with substring \"{x}\": {s.index(x)}')                   #--> Raise an exception (Value Error) if the substring is not found\n",
        "\n",
        "print(f'Length of {s}: {len(s)}')                                     #Return Integer that represents length of String"
      ]
    },
    {
      "cell_type": "code",
      "execution_count": 26,
      "metadata": {},
      "outputs": [
        {
          "name": "stdout",
          "output_type": "stream",
          "text": [
            "Output: b'     and a funny name St\\xc3\\xa5le    ' -> <class 'bytes'>\n",
            "Output:      and a funny name Ståle     -> and a funny name Ståle\n",
            "Output: ('     and a ', 'funny', ' name Ståle    ') -> <class 'tuple'>\n",
            "Output: ['C', 'O', 'M', 'P', '2', '1', '6'] -> C-O-M-P-2-1-6\n"
          ]
        }
      ],
      "source": [
        "#Other formatting and conversion methods \n",
        "y = '     and a funny name Ståle    '\n",
        "z = y.encode()\n",
        "print(f'Output: {z} -> {type(z)}')          #Encode to byte string in specified encoding. If no encoding is specified, UTF-8 will be used.\n",
        "print(f'Output: {y} -> {y.strip()}')        #Remove the leading and the trailing spaces\n",
        "\n",
        "aa = y.partition('funny')                   #Search for specified substring and create a 3-item Tuple\n",
        "print(f'Output: {aa} -> {type(aa)}')\n",
        "\n",
        "ab = ['C','O', 'M', 'P', '2', '1', '6']\n",
        "ac = '-'.join(ab)                           #Convert from Iterable (e.g., List) to String by joining characters and place seperator character between each character \n",
        "print(f'Output: {ab} -> {ac}')"
      ]
    },
    {
      "cell_type": "code",
      "execution_count": 27,
      "metadata": {},
      "outputs": [
        {
          "name": "stdout",
          "output_type": "stream",
          "text": [
            "Only letter-based characters? False\n",
            "Only number-based characters? False\n",
            "Letter and number-based characters? True\n"
          ]
        }
      ],
      "source": [
        "#Classification methods\n",
        "ad = 'COMP216'\n",
        "print(f'Only letter-based characters? {ad.isalpha()}')\n",
        "print(f'Only number-based characters? {ad.isdigit()}')\n",
        "print(f'Letter and number-based characters? {ad.isalnum()}')"
      ]
    },
    {
      "cell_type": "code",
      "execution_count": 28,
      "metadata": {},
      "outputs": [
        {
          "name": "stdout",
          "output_type": "stream",
          "text": [
            "Output: o\n",
            "Output: FooBarB\n",
            "Output: FoaB\n",
            "Output: oBarBa\n"
          ]
        }
      ],
      "source": [
        "#String indexing & slicing\n",
        "print(f'Output: {s[1]}')            #Return one character at specified index\n",
        "print(f'Output: {s[0:7]}')          #Return substring within specified index range --> Known as String Slicing\n",
        "print(f'Output: {s[0:7:2]}')        #Return substring within specified index range with skipping step value\n",
        "print(f'Output: {s[-7:-1]}')        #Return substring within specified index range using negative values"
      ]
    },
    {
      "cell_type": "code",
      "execution_count": 29,
      "metadata": {},
      "outputs": [
        {
          "name": "stdout",
          "output_type": "stream",
          "text": [
            "Output: Hello, Peter is 23 years old.\n",
            "Output: Hello, Peter!\n",
            "Output: Hello, Peter is 23 years old.\n",
            "Output: Hello, PETER is 24 years old. Bank account balance is $2,131,324.\n",
            "Output: 3.1416\n",
            "Output: 67.15%\n"
          ]
        }
      ],
      "source": [
        "#String literal formatting\n",
        "ae = 'Peter'\n",
        "af = 23\n",
        "ag = 2131324\n",
        "\n",
        "ah = 'Hello, ' + ae + ' is ' + str(af) + ' years old.'                                   #String literal with non-string data using concatenation and str() constructor\n",
        "print(f'Output: {ah}')\n",
        "\n",
        "ai = 'Hello, %s!' % ae                                                                   #String literal with % operator --> Generally, not recommended\n",
        "print(f'Output: {ai}')\n",
        "ai = 'Hello, %s is %d years old.' % (ae, af)                                             #String literal with % operator --> Generally, not recommended\n",
        "print(f'Output: {ai}')\n",
        "\n",
        "aj = f'Hello, {ae.upper()} is {af+1} years old. Bank account balance is ${ag:,}.'       #F-String with replacement fields which are expressions delimited by {} (curly braces). --> Recommended\n",
        "print(f'Output: {aj}')\n",
        "\n",
        "ak = 3.1415926                  #Number formatting to display a subset of digits after the decimal point\n",
        "print(f'Output: {ak:.4f}')\n",
        "\n",
        "al = 0.6715256456               #Number formatting to display the number as percentage with subset of digits after the decimal point\n",
        "print(f'Output: {al:.2%}')"
      ]
    },
    {
      "cell_type": "code",
      "execution_count": 30,
      "metadata": {},
      "outputs": [
        {
          "name": "stdout",
          "output_type": "stream",
          "text": [
            "Output: Narendra -> 2813213238960\n",
            "Output: Narendra -> 2813213238960\n",
            "Output: Narendra -> 2813213238960\n",
            "Output: NARENDRA -> 2813229903920\n",
            "Output: Narendra -> 2813213238960\n",
            "Output: Narendra -> 2813213238960\n",
            "Output: Narendra -> 2813213238960\n",
            "Output: Narendra -> 2813213238960\n",
            "Output: Narendra -> 2813213238960\n",
            "Output: Narendra -> 2813229905968\n"
          ]
        }
      ],
      "source": [
        "#String immutability and object referencing\n",
        "\n",
        "am = 'Narendra'\n",
        "an = am                                 #Note: Multiple variables can point to the same object \n",
        "print(f'''Output: {am} -> {id(am)}\n",
        "Output: {an} -> {id(an)}''')\n",
        "\n",
        "an = am.upper()                         #Note: Once the String is transformed, a new object is created that is re-assigned to designated variable\n",
        "print(f'''Output: {am} -> {id(am)}\n",
        "Output: {an} -> {id(an)}''')\n",
        "\n",
        "#Create a copy of the String object at a different point in memory\n",
        "ao = am[:]                              #Not achievable via String Slicing; Only creates a Shallow copy that references the original object\n",
        "print(f'''Output: {am} -> {id(am)}\n",
        "Output: {ao} -> {id(ao)}''')\n",
        "\n",
        "import copy\n",
        "ao = copy.copy(am)                      #Not achievable via Copy method; Only creates a Shallow copy that references the original object\n",
        "print(f'''Output: {am} -> {id(am)}\n",
        "Output: {ao} -> {id(ao)}''')\n",
        "\n",
        "ao = ''.join(am)                        #Achievable via Join method with '' as the seperator; Create a Deep copy that references a different object\n",
        "print(f'''Output: {am} -> {id(am)}\n",
        "Output: {ao} -> {id(ao)}''')"
      ]
    },
    {
      "cell_type": "markdown",
      "metadata": {
        "id": "4FBuUL_63l1G"
      },
      "source": [
        "#### 3.2 Tuples <a class='anchor' id='tuple'></a>\n",
        "\n",
        "Immutable, ordered and indexable collection of Python objects which are delimited by parentheses.\n",
        "\n",
        "May hold or nest various object types (e.g., Integers, Strings, Lists, Dictionaries, etc.), and heterogeneous object types can exist in one Tuple. Comprise of arbitrary number of objects and be nested to arbitrary depth (i.e., Only limited by computing resource)."
      ]
    },
    {
      "cell_type": "code",
      "execution_count": 31,
      "metadata": {
        "colab": {
          "base_uri": "https://localhost:8080/"
        },
        "id": "g7XBsCtn4Onj",
        "outputId": "f44a8af6-b102-4aad-e598-4ec00882ae43"
      },
      "outputs": [
        {
          "name": "stdout",
          "output_type": "stream",
          "text": [
            "(-1.0, 0, 1, 2, 3, 4, 'five', 'six', [7.0, 'eight']) -> <class 'tuple'>\n"
          ]
        }
      ],
      "source": [
        "a = (-1.0, 0, 1, 2, 3, 4, 'five', 'six', [7.0, 'eight'])\n",
        "print(f'{a} -> {type(a)}')"
      ]
    },
    {
      "cell_type": "markdown",
      "metadata": {},
      "source": [
        "#### Tuple Operations and Methods"
      ]
    },
    {
      "cell_type": "code",
      "execution_count": 32,
      "metadata": {},
      "outputs": [
        {
          "name": "stdout",
          "output_type": "stream",
          "text": [
            "Output: 4\n",
            "Output: [7.0, 'eight']\n",
            "Output: six\n",
            "Output: (-1.0, 0, 1)\n",
            "Output: (4, 'five', 'six', [7.0, 'eight'])\n",
            "Output: (0, 2, 4)\n"
          ]
        }
      ],
      "source": [
        "#Tuple indexing & slicing\n",
        "print(f'Output: {a[5]}')         #Return one item at specified index\n",
        "print(f'Output: {a[-1]}')        #Return one item at specified negative index (e.g., last item)\n",
        "print(f'Output: {a[-2]}')        #Return one item at specified negative index (e.g., second last item)\n",
        "\n",
        "print(f'Output: {a[:3]}')        #Return sub-collection of items within specified index range --> Known as Tuple Slicing\n",
        "print(f'Output: {a[5:]}')\n",
        "print(f'Output: {a[1:6:2]}')\n",
        "\n",
        "#a[1] = 10                       #--> Raise an exception (Value Error) item re-assignment is not support on Tuples\n",
        "#a[1:3] = (10, 11)               #--> Raise an exception (Value Error) item re-assignment is not support on Tuples"
      ]
    },
    {
      "cell_type": "code",
      "execution_count": 33,
      "metadata": {},
      "outputs": [
        {
          "name": "stdout",
          "output_type": "stream",
          "text": [
            "Length of Tuple (-1.0, 0, 1, 2, 3, 4, 'five', 'six', [7.0, 'eight']) -> 9 items\n",
            "Number of occurances of item \"4\": 1\n",
            "Number of occurances of item \"4\": 1\n",
            "Number of occurances of item \"nine\": 0\n",
            "Lowest index of item \"4\": 5\n",
            "Lowest index of item \"4\": 5\n"
          ]
        }
      ],
      "source": [
        "#Common methods\n",
        "print(f'Length of Tuple {a} -> {len(a)} items')                 #Return Integer that represents the number of items in the Tuple\n",
        "\n",
        "print(f'Number of occurances of item \"4\": {a.count(4)}')        #Return Integer that represents the occurances of the specified item\n",
        "print(f'Number of occurances of item \"4\": {a.count(4.000)}')    #Note: Integer and Floating Point Number treated as same entity\n",
        "print(f'Number of occurances of item \"nine\": {a.count(\"nine\")}')\n",
        "\n",
        "print(f'Lowest index of item \"4\": {a.index(4)}')                #Return Integer that represents the lowest index with the specified item\n",
        "print(f'Lowest index of item \"4\": {a.index(4.000)}')            #Note: Integer and Floating Point Number treated as same entity\n",
        "#print(f'Lowest index of item \"nine\": {a.index(\"nine\")}')       #--> Raise an exception (Value Error) if the item is not found"
      ]
    },
    {
      "cell_type": "code",
      "execution_count": 34,
      "metadata": {
        "colab": {
          "base_uri": "https://localhost:8080/"
        },
        "id": "c_UG7MYgpOYU",
        "outputId": "54f34ee2-f121-47dd-d73c-4fd6b5c46818"
      },
      "outputs": [
        {
          "name": "stdout",
          "output_type": "stream",
          "text": [
            "Output: ('larry', 'curly', 'moe', 'shemp', 'joe')\n",
            "Output: ('larry', 'curly', 'moe', 'joe')\n",
            "Output: ('larry', 'curly', 'moe', ['shemp', 'joe'])\n",
            "Output: ('larry', 'curly', 'joe', ['moe', 'shemp'])\n",
            "Output: ('larry', 'curly', 'moe')\n",
            "Output: ('larry', 'joe')\n"
          ]
        }
      ],
      "source": [
        "#Tuple unpacking to decompose desired values and assign values to variables\n",
        "\n",
        "b = ('larry', 'curly', 'moe', 'shemp', 'joe')\n",
        "c, d, e, f, h = b                               \n",
        "print(f'Output: {c, d, e, f, h}')\n",
        "\n",
        "i, j, k, _, l = b                   #Use '_' operator to ignore or not assign provided value to variable\n",
        "print(f'Output: {i, j, k, l}')\n",
        "\n",
        "m, n, o, *rest = b\n",
        "print(f'Output: {m, n, o, rest}')   #Use '*' operator to capture multiple values from Tuple\n",
        "p, q, *rest, r = b\n",
        "print(f'Output: {p, q, r, rest}')   #Use '*' operator to capture multiple values from Tuple\n",
        "\n",
        "s, t, u, *_ = b                     #Use '_*' operator to capture multiple values from Tuple and ignore the remaining values\n",
        "print(f'Output: {s, t, u}')\n",
        "v, *_, w = b\n",
        "print(f'Output: {v, w}')"
      ]
    },
    {
      "cell_type": "markdown",
      "metadata": {
        "id": "7xveC-AjvSTE"
      },
      "source": [
        "#### 3.3 Lists <a class='anchor' id='list'></a>\n",
        "\n",
        "Mutable, ordered and indexable collection of Python objects which are delimited by [] (square brackets).\n",
        "\n",
        "May hold or nest various object types (e.g., Integers, Strings, Lists, Dictionaries, etc.), and heterogeneous object types can exist in one List. Comprise of arbitrary number of objects and be nested to arbitrary depth (i.e., Only limited by computing resource).\n"
      ]
    },
    {
      "cell_type": "code",
      "execution_count": 35,
      "metadata": {},
      "outputs": [
        {
          "name": "stdout",
          "output_type": "stream",
          "text": [
            "[-1.0, 0, 1, 2, 3, 4, 'five', 'six', [7.0, 'eight']] -> <class 'list'>\n"
          ]
        }
      ],
      "source": [
        "a = [-1.0, 0, 1, 2, 3, 4, 'five', 'six', [7.0, 'eight']]\n",
        "print(f'{a} -> {type(a)}')"
      ]
    },
    {
      "cell_type": "markdown",
      "metadata": {},
      "source": [
        "#### List Operations and Methods"
      ]
    },
    {
      "cell_type": "code",
      "execution_count": 36,
      "metadata": {},
      "outputs": [
        {
          "name": "stdout",
          "output_type": "stream",
          "text": [
            "Output: 4\n",
            "Output: [7.0, 'eight']\n",
            "Output: six\n",
            "Output: eight\n",
            "Output: [-1.0, 0, 1]\n",
            "Output: [4, 'five', 'six', [7.0, 'eight']]\n",
            "Output: [0, 2, 4]\n",
            "Updated List: [-1.0, 10, 1, 2, 3, 4, 'five', 'six', [7.0, 'eight']]\n",
            "Updated List: [-1.0, 10, 11, 12.0, 3, 4, 'five', 'six', [7.0, 'eight']]\n"
          ]
        }
      ],
      "source": [
        "#List indexing & slicing\n",
        "\n",
        "print(f'Output: {a[5]}')            #Return one item at specified index\n",
        "print(f'Output: {a[-1]}')           #Return one item at specified negative index (e.g., last item)\n",
        "print(f'Output: {a[-2]}')           #Return one item at specified negative index (e.g., second last item)\n",
        "print(f'Output: {a[8][1]}')         #Return nested item with list (i.e., items within the sublist)\n",
        "\n",
        "print(f'Output: {a[:3]}')           #Return sub-collection of items within specified index range --> Known as Tuple Slicing\n",
        "print(f'Output: {a[5:]}')\n",
        "print(f'Output: {a[1:6:2]}')\n",
        "\n",
        "a[1] = 10                           #Item re-assignment in List\n",
        "print(f'Updated List: {a}')\n",
        "a[2:4] = (11, 12.0)                 #Multi-item re-assignment in List\n",
        "print(f'Updated List: {a}')"
      ]
    },
    {
      "cell_type": "code",
      "execution_count": 37,
      "metadata": {},
      "outputs": [
        {
          "name": "stdout",
          "output_type": "stream",
          "text": [
            "[1, 2, 3, 4, 5, 4, 6] -> <class 'list'>\n",
            "[5, 4, 6, 5, 4, 6, 5, 4, 6] -> <class 'list'>\n"
          ]
        }
      ],
      "source": [
        "#Utlize numeric operands\n",
        "b = [1, 2, 3, 4]\n",
        "c = [5, 4, 6]\n",
        "\n",
        "d = b + c                       #Return a new List that pools together all of items from the supplied Lists\n",
        "print(f'{d} -> {type(d)}')\n",
        "\n",
        "e = c * 3                       #Return a new List with multiple copies of items from the supplied List\n",
        "print(f'{e} -> {type(e)}')"
      ]
    },
    {
      "cell_type": "code",
      "execution_count": 38,
      "metadata": {},
      "outputs": [
        {
          "name": "stdout",
          "output_type": "stream",
          "text": [
            "Output: [1, 2, 3, 4, 5]\n",
            "Output: [1, 2, 3, 4, 5, [6, 7]]\n",
            "Output: [1, 2, 3, 4, 5, [6, 7], 6, 7, 8, 9, 10]\n",
            "Output: [0, 1, 2, 3, 4, 5, [6, 7], 6, 7, 8, 9, 10]\n",
            "Output: [0, 1, 2, 3, 4, 5, 6, 7, 8, 9, 10]\n",
            "Output: [0, 1, 2, 3, 4, 5, 6, 7, 8, 9]\n",
            "Output: [0, 1, 2, 3, 4, 6, 7, 8, 9]\n",
            "Output: []\n"
          ]
        }
      ],
      "source": [
        "#Common modification methods\n",
        "\n",
        "b.append(5)                 #Add item to end of the existing List\n",
        "print(f'Output: {b}')\n",
        "\n",
        "b.append([6,7])             #Note: Add item (in the original data type) to end of the existing List\n",
        "print(f'Output: {b}')\n",
        "\n",
        "b.extend([6,7])             #Insert each item from iterable to the end of the existing List\n",
        "b.extend((8,9,10))          #Note: Supports any Python iterable as an input\n",
        "print(f'Output: {b}')\n",
        "\n",
        "b.insert(0, 0)              #At the specified index, insert the provided item\n",
        "print(f'Output: {b}')\n",
        "\n",
        "b.remove([6,7])             #Remove specified item\n",
        "print(f'Output: {b}')\n",
        "\n",
        "#b.remove(11)               #-> Raises an exception (Value Error) if the item is not found\n",
        "\n",
        "b.pop()                     #Remove and return last item in the List\n",
        "print(f'Output: {b}')\n",
        "\n",
        "b.pop(5)                    #Remove and return item from the specified index\n",
        "print(f'Output: {b}')\n",
        "\n",
        "b.clear()                   #Remove all items within the List\n",
        "print(f'Output: {b}')\n"
      ]
    },
    {
      "cell_type": "code",
      "execution_count": 39,
      "metadata": {},
      "outputs": [
        {
          "name": "stdout",
          "output_type": "stream",
          "text": [
            "Output: ['Toyota', 'Honda', 'Ford', 'Volvo', 'Tesla', 'Volkswagen', 'Kia'] -> 2813229904960 \n",
            "Output: [1, 2, 3.0, 4, 'five', 'six', 7.0] -> 2813229904576 \n",
            "Length of List: ['Toyota', 'Honda', 'Ford', 'Volvo', 'Tesla', 'Volkswagen', 'Kia'] -> 7 items\n",
            "Number of occurances of item \"Honda\": 1\n",
            "Number of occurances of item \"Mazda\": 0\n",
            "Lowest index of item \"Ford\": 2\n",
            "Output: ['Ford', 'Honda', 'Kia', 'Tesla', 'Toyota', 'Volkswagen', 'Volvo'] -> 2813229904960\n",
            "Output: ['Kia', 'Ford', 'Honda', 'Tesla', 'Volvo', 'Toyota', 'Volkswagen'] -> 2813229904960\n"
          ]
        }
      ],
      "source": [
        "#Other commmon methods\n",
        "\n",
        "f = ['Toyota', 'Honda', 'Ford', 'Volvo', 'Tesla', 'Volkswagen', 'Kia']\n",
        "print(f'Output: {f} -> {id(f)} ')\n",
        "g = [1, 2, 3.0, 4, 'five', 'six', 7.0]\n",
        "print(f'Output: {g} -> {id(g)} ')\n",
        "\n",
        "print(f'Length of List: {f} -> {len(f)} items')                         #Return Integer that represents the number of items in the List\n",
        "\n",
        "print(f'Number of occurances of item \"Honda\": {f.count(\"Honda\")}')      #Return Integer that represents the occurances of the specified item\n",
        "print(f'Number of occurances of item \"Mazda\": {f.count(\"Mazda\")}')      #Return Integer that represents the occurances of the specified item\n",
        "\n",
        "print(f'Lowest index of item \"Ford\": {f.index(\"Ford\")}')                #Return Integer that represents the lowest index with the specified item\n",
        "#print(f'Lowest index of item \"Mazda\": {a.index(\"Mazda\")}')             #--> Raise an exception (Value Error) if the item is not found\n",
        "\n",
        "f.sort()                                                                #Sort items by acending order and update the existing List\n",
        "print(f'Output: {f} -> {id(f)}')\n",
        "f.sort(key=len)                                                         #Sort items based on provided function (e.g., length of string) and update the existing List\n",
        "print(f'Output: {f} -> {id(f)}')\n",
        "#g.sort()                                                               #-> Raise an exception (Type Error) when sorting with different object types"
      ]
    },
    {
      "cell_type": "code",
      "execution_count": 40,
      "metadata": {},
      "outputs": [
        {
          "name": "stdout",
          "output_type": "stream",
          "text": [
            "Output: [1, 2, 3.0, 4, 'five', 'six', 7.0] -> 2813229904576\n",
            "Output: [1, 2, 3.0, 4, 'five', 'six', 7.0] -> 2813229904576\n",
            "Output: [1, 2, 3.0, 4, 'five', 'six', 7.0, [8, 9]] -> 2813229904576\n",
            "Output: [1, 2, 3.0, 4, 'five', 'six', 7.0, [8, 9]] -> 2813229904576\n",
            "Output: [1, 2, 3.0, 4, 'five', 'six', 7.0, [8, 9]] -> 2813229904576\n",
            "Output: [1, 2, 3.0, 4, 'five', 'six', 7.0, [8, 9]] -> 2813229898240\n",
            "Output: [1, 2, 3.0, 4, 'five', 'six', 7.0, [8, 9]] -> 2813229904576\n",
            "Output: [1, 2, 3.0, 4, 'five', 'six', 7.0, [8, 9]] -> 2813212393216\n"
          ]
        }
      ],
      "source": [
        "#List mutability and object referencing\n",
        "\n",
        "#Most operations (seen above) mutate the existing List that is stored at a specific memory point \n",
        "h = g                                   #Note: Multiple variables can point to the same object \n",
        "print(f'''Output: {g} -> {id(g)}\n",
        "Output: {h} -> {id(h)}''')\n",
        "\n",
        "h.append([8,9])                         #Both variables point to the same mutated List object\n",
        "print(f'''Output: {g} -> {id(g)}\n",
        "Output: {h} -> {id(h)}''')\n",
        "\n",
        "#Create a copy of the List object at a different point in memory\n",
        "i = g[:]                                #Achievable via List Slicing\n",
        "print(f'''Output: {g} -> {id(g)}\n",
        "Output: {i} -> {id(i)}''')\n",
        "\n",
        "j = g.copy()                            #Achievable via the Copy method\n",
        "print(f'''Output: {g} -> {id(g)}\n",
        "Output: {j} -> {id(j)}''')"
      ]
    },
    {
      "cell_type": "markdown",
      "metadata": {
        "id": "iZlrPVjg5aKD"
      },
      "source": [
        "#### 3.4 Sets <a class='anchor' id='set'></a>\n",
        "\n",
        "Mutable, unordered and non-indexable collection of unique Python objects which are delimited by {} (curly brackets).\n",
        "\n",
        "May hold or nest various immutable object types (e.g., Integers, Floats, Strings, Tuples, etc.), and heterogeneous object types can exist in one Set. Does not hold mutable object types (e.g., Lists, Dictionaries, Sets, etc.) as members of a Set. Comprise of arbitrary number of objects and be nested to arbitrary depth (i.e., Only limited by computing resource)."
      ]
    },
    {
      "cell_type": "code",
      "execution_count": 41,
      "metadata": {},
      "outputs": [
        {
          "name": "stdout",
          "output_type": "stream",
          "text": [
            "{0, 1, 2, 3, 4, 'five', (9, 'ten'), 7.0, 8.0, 'six'} -> <class 'set'>\n",
            "{'n', 'd', 'e', 'p', 'r', 'h', 'a', ' ', 's'} -> <class 'set'>\n",
            "set() -> <class 'set'>\n",
            "{} -> <class 'dict'>\n",
            "frozenset({9, 'ten'}) -> <class 'frozenset'>\n",
            "{0, 1, 2, 3, 4, 'five', frozenset({9, 'ten'}), 7.0, 8.0, 'six'} -> <class 'set'>\n"
          ]
        }
      ],
      "source": [
        "a = {0, 1, 2, 3, 4, 'five', 'six', 7.0, 8.0, (9, 'ten')}\n",
        "print(f'{a} -> {type(a)}')\n",
        "\n",
        "b = set('narendra pershad')                                     #Create Set from Iterable object (e.g., String) with Set Constructor\n",
        "print(f'{b} -> {type(b)}')\n",
        "\n",
        "c = set()                                                       #Create empty Set with Set Constructor\n",
        "print(f'{c} -> {type(c)}')\n",
        "d = {}                                                          #Not possible to create empty Set with {} delimiter as the delimiter is utlized for Dictionary objects\n",
        "print(f'{d} -> {type(d)}')\n",
        "\n",
        "#e = {0, 1, 2, 3, 4, 'five', 'six', 7.0, 8.0, [9, 'ten']}       #-> Raise an exception (Type Error) as it is not possible to create Set with mutable data type (e.g., List)\n",
        "#f = {0, 1, 2, 3, 4, 'five', 'six', 7.0, 8.0, {9, 'ten'}}       #-> Raise an exception (Type Error) as it is not possible to create Set with mutable data type (e.g., Set)\n",
        "\n",
        "#Frozenset is an immutable variant of a Set\n",
        "g = frozenset([9, 'ten'])\n",
        "print(f'{g} -> {type(g)}')\n",
        "h = {0, 1, 2, 3, 4, 'five', 'six', 7.0, 8.0, g}                 #Create Set with one ore more Frozen Sets as a item in the collection\n",
        "print(f'{h} -> {type(h)}')"
      ]
    },
    {
      "cell_type": "markdown",
      "metadata": {},
      "source": [
        "#### Set Operations and Methods"
      ]
    },
    {
      "cell_type": "code",
      "execution_count": 42,
      "metadata": {},
      "outputs": [],
      "source": [
        "#Set indexing & slicing is not possible\n",
        "\n",
        "#print(f'Output: {h[5]}')            #-> Raise an exception (Type Error) as the operation is not supported\n",
        "#print(f'Output: {h[1:6:2]}')        #-> Raise an exception (Type Error) as the operation is not supported"
      ]
    },
    {
      "cell_type": "code",
      "execution_count": 43,
      "metadata": {},
      "outputs": [
        {
          "name": "stdout",
          "output_type": "stream",
          "text": [
            "Output: {0, 1, 2, 3, 4, 'five', frozenset({9, 'ten'}), 7.0, 8.0, 13.0, 'six', 'twelve'}\n",
            "Intersection of Sets: {0, 2, 4, 8.0, 'six'}\n",
            "Union of Sets: {0, 1, 2, 3, 4, frozenset({9, 'ten'}), 7.0, 8.0, 10, 12, 13.0, 'fourteen', 16.0, 'six', 'five', 'twelve'}\n",
            "Difference between Sets: {frozenset({9, 'ten'}), 1, 'five', 3, 7.0, 13.0, 'twelve'}\n"
          ]
        }
      ],
      "source": [
        "#Utlize numeric operands\n",
        "h = {0, 1, 2, 3, 4, 'five', 'six', 7.0, 8.0, g}\n",
        "\n",
        "i = {'twelve', 1.3*10}\n",
        "h |= i                                  #Insert each item Set into arbitary locations of the another Set (shortcut for Update method)\n",
        "print(f'Output: {h}')\n",
        "\n",
        "k = {0, 2, 4, 'six', 8.0, 10, 12, 'fourteen', 1.6*10}\n",
        "\n",
        "l = h & k                               #Return anew Set that contains the items that exist in both Sets\n",
        "print(f'Intersection of Sets: {l}')\n",
        "\n",
        "m = h | k                               #Return a new Set that contains all items from both Sets without duplicates\n",
        "print(f'Union of Sets: {m}')\n",
        "\n",
        "n = h - k                               #Return a new Set that contains all items the first Set and not the second Set\n",
        "print(f'Difference between Sets: {n}')"
      ]
    },
    {
      "cell_type": "code",
      "execution_count": 44,
      "metadata": {},
      "outputs": [
        {
          "name": "stdout",
          "output_type": "stream",
          "text": [
            "Output: {0, 1, 2, 3, 4, 'five', frozenset({9, 'ten'}), 7.0, 8.0, 11.0, 'six'}\n",
            "Output: {0, 1, 2, 3, 4, 'five', frozenset({9, 'ten'}), 7.0, 8.0, 11.0, 'six'}\n",
            "Output: {0, 1, 2, 3, 4, 'five', frozenset({9, 'ten'}), 7.0, 8.0, 11.0, 13.0, 'six', 'twelve'}\n",
            "Output: {0, 1, 2, 3, 4, 'five', frozenset({9, 'ten'}), 7.0, 8.0, 11.0, 13.0, 14, 15.0, 'six', 'twelve'}\n",
            "Output: {1, 2, 3, 4, 'five', frozenset({9, 'ten'}), 7.0, 8.0, 11.0, 13.0, 14, 15.0, 'six', 'twelve'}\n",
            "Output: {2, 3, 4, 'five', frozenset({9, 'ten'}), 7.0, 8.0, 11.0, 13.0, 14, 15.0, 'six', 'twelve'}\n",
            "Output: {2, 3, 4, 'five', frozenset({9, 'ten'}), 7.0, 8.0, 11.0, 13.0, 14, 15.0, 'six', 'twelve'}\n"
          ]
        }
      ],
      "source": [
        "#Common modification methods\n",
        "h = {0, 1, 2, 3, 4, 'five', 'six', 7.0, 8.0, g}\n",
        "\n",
        "h.add(11.0)                 #Add item into arbitary location of the existing Set \n",
        "print(f'Output: {h}')\n",
        "\n",
        "h.add(1.0)                  #Sets only capture unique values (i.e., No duplicate values present even if the item is provided as seperate data type)\n",
        "print(f'Output: {h}')\n",
        "\n",
        "i = {'twelve', 1.3*10}\n",
        "h.update(i)                 #Insert each item from Iterable (e.g., Set) into arbitary locations of the another Set\n",
        "print(f'Output: {h}')\n",
        "\n",
        "j = [14, 1.5e1]     \n",
        "h.update(j)                 #Insert each item from Iterable (e.g., List) into arbitary locations of the another Set \n",
        "print(f'Output: {h}')\n",
        "\n",
        "h.pop()                     #Remove random item in the Set\n",
        "print(f'Output: {h}')\n",
        "\n",
        "h.discard(1)                #Remove specified item in the Set, if present in the Set\n",
        "print(f'Output: {h}')\n",
        "\n",
        "h.discard(20.000)           #Remove specified item in the Set, if present in the Set (i.e., No exception raised)\n",
        "print(f'Output: {h}')"
      ]
    },
    {
      "cell_type": "code",
      "execution_count": 45,
      "metadata": {},
      "outputs": [
        {
          "name": "stdout",
          "output_type": "stream",
          "text": [
            "Intersection of Sets: {8.0, 2, 'six', 4}\n",
            "Union of Sets: {frozenset({9, 'ten'}), 0, 2, 3, 4, 7.0, 8.0, 10, 11.0, 12, 13.0, 14, 15.0, 'fourteen', 16.0, 'six', 'five', 'twelve'}\n",
            "Difference between Sets: {frozenset({9, 'ten'}), 'five', 3, 7.0, 11.0, 13.0, 14, 15.0, 'twelve'}\n",
            "Length of Set: {2, 3, 4, 'five', frozenset({9, 'ten'}), 7.0, 8.0, 11.0, 13.0, 14, 15.0, 'six', 'twelve'} -> 13 items\n",
            "Output: {2, 3, 4, 'five', frozenset({9, 'ten'}), 7.0, 8.0, 11.0, 13.0, 14, 15.0, 'six', 'twelve'} -> 2813229953088\n",
            "Output: {frozenset({9, 'ten'}), 2, 3, 4, 'five', 7.0, 8.0, 11.0, 13.0, 14, 15.0, 'six', 'twelve'} -> 2813229886592\n"
          ]
        }
      ],
      "source": [
        "#Other commmon methods\n",
        "k = {0, 2, 4, 'six', 8.0, 10, 12, 'fourteen', 1.6*10}\n",
        "\n",
        "l = h.intersection(k)                               #Return anew Set that contains the items that exist in both Sets\n",
        "print(f'Intersection of Sets: {l}')\n",
        "\n",
        "m = h.union(k)                                      #Return a new Set that contains all items from both Sets without duplicates\n",
        "print(f'Union of Sets: {m}')\n",
        "\n",
        "n = h.difference(k)                                 #Return a new Set that contains all items the first Set and not the second Set\n",
        "print(f'Difference between Sets: {n}')\n",
        "\n",
        "print(f'Length of Set: {h} -> {len(h)} items')      #Return Integer that represents the number of items in the Set\n",
        "\n",
        "o = h.copy()                                        #Create a copy of the Set object at a different point in memory\n",
        "print(f'''Output: {h} -> {id(h)}\n",
        "Output: {o} -> {id(o)}''')"
      ]
    },
    {
      "cell_type": "markdown",
      "metadata": {},
      "source": [
        "\n",
        "---"
      ]
    },
    {
      "cell_type": "markdown",
      "metadata": {
        "id": "3sIL-86H5ukn"
      },
      "source": [
        "### 4. Dictionaries <a class='anchor' id='dictionary'></a>\n",
        "\n",
        "Mutable and ordered collection of key-value pairs which are delimited by {} (curly brackets). However, Python’s implementation of a data structure does not suport indexing.\n",
        "\n",
        "Each key must be unique and immutable (e.g., Strings, Integers, Tuples, etc.) and cannot utilize mutable object types. One value can be associated with each key, which may hold or nest various object types (e.g., Integers, Strings, Lists, Dictionaries, etc.). Keys and values may be heterogeneous object types. Seperate each key from its associated value using a  : (colon)."
      ]
    },
    {
      "cell_type": "code",
      "execution_count": 46,
      "metadata": {},
      "outputs": [
        {
          "name": "stdout",
          "output_type": "stream",
          "text": [
            "{'red': 'Danger', 1: 'first', 'second': 2, (3, 4): ['6', '7', '8', '9']} -> <class 'dict'>\n",
            "{'red': 'Danger', 1: 'first', 'second': 2, (3, 4): ['6', '7', '8', '9']} -> <class 'dict'>\n",
            "{'red': 'Danger', 1: 'first', 'second': 2, (3, 4): ['6', '7', '8', '9']} -> <class 'dict'>\n"
          ]
        }
      ],
      "source": [
        "a = {'red': 'Danger', 1: 'first', 'second': 2, (3,4): '6 7 8 9'.split()}\n",
        "print(f'{a} -> {type(a)}')\n",
        "\n",
        "b = dict([                                          #Alternative approach for defining Dictionary objects with the constructor and key-value pairs specified in a List of Tuples structure\n",
        "    ('red', 'Danger'), \n",
        "    (1, 'first'),\n",
        "    ('second',  2),\n",
        "    ((3,4), '6 7 8 9'.split())\n",
        "])\n",
        "print(f'{b} -> {type(b)}')\n",
        "\n",
        "c = dict(zip(                                       #Alternative approach for defining Dictionary objects with the constructor and the Zip method\n",
        "    ['red', 1, 'second', (3,4)], \n",
        "    ['Danger', 'first', 2, '6 7 8 9'.split()]\n",
        "))\n",
        "print(f'{c} -> {type(c)}')"
      ]
    },
    {
      "cell_type": "markdown",
      "metadata": {},
      "source": [
        "#### Dictionary Operations and Methods"
      ]
    },
    {
      "cell_type": "code",
      "execution_count": 47,
      "metadata": {},
      "outputs": [
        {
          "name": "stdout",
          "output_type": "stream",
          "text": [
            "Output: 2\n",
            "Output: 2\n",
            "Output: None\n",
            "Output: Key is not Available\n"
          ]
        }
      ],
      "source": [
        "#Access Dictionary values\n",
        "\n",
        "d = a['second']                                 #Retrieve and return value from Dictionary by specifying the key\n",
        "print(f'Output: {d}')\n",
        "\n",
        "#e = a['third']                                 #-> Raise an exception (Key Error) as Key does not exist in the Dictionary\n",
        "#print(f'Output: {e}')\n",
        "\n",
        "f = a.get('second')                             #Retrieve and return value from Dictionary by specifying the key, if the key is present\n",
        "print(f'Output: {f}')\n",
        "\n",
        "g = a.get('third')                              #Retrieve and return value from Dictionary by specifying the key, if the key is present or return None\n",
        "print(f'Output: {g}')\n",
        "\n",
        "h = a.get('third', 'Key is not Available')      #If the key is not present, return specified the value\n",
        "print(f'Output: {h}')"
      ]
    },
    {
      "cell_type": "code",
      "execution_count": 48,
      "metadata": {},
      "outputs": [],
      "source": [
        "#Dictionary indexing & slicing is not possible\n",
        "\n",
        "#print(f'Output: {a[1]}')            #-> Raise an exception (Key Error) as the operation is not supported\n",
        "#print(f'Output: {a[1:4:2]}')        #-> Raise an exception (Key Error) as the operation is not supported"
      ]
    },
    {
      "cell_type": "code",
      "execution_count": 49,
      "metadata": {},
      "outputs": [
        {
          "name": "stdout",
          "output_type": "stream",
          "text": [
            "Output: {'red': 'Danger', 1: 'first', 'second': 2, (3, 4): ['6', '7', '8', '9'], 'yellow': 'Caution'}\n",
            "Output: {'red': 'Hazard', 1: 'first', 'second': 2, (3, 4): ['6', '7', '8', '9'], 'yellow': 'Caution'}\n",
            "Output: {'red': 'Hazard', 1: 'first', 'second': 2, (3, 4): ['6', '7', '8', '9'], 'yellow': 'Caution', 3.0: ['third', 'tertiary'], ('f', 'o', 'u', 'r', 't', 'h'): 4.0, '5th': {5, '5'}, '6th': {6, '6'}}\n",
            "Item Removed: ['third', 'tertiary'] -> Output: {'red': 'Hazard', 1: 'first', 'second': 2, (3, 4): ['6', '7', '8', '9'], 'yellow': 'Caution', ('f', 'o', 'u', 'r', 't', 'h'): 4.0, '5th': {5, '5'}, '6th': {6, '6'}}\n",
            "Item Removed: Key is not Available -> Output: {'red': 'Hazard', 1: 'first', 'second': 2, (3, 4): ['6', '7', '8', '9'], 'yellow': 'Caution', ('f', 'o', 'u', 'r', 't', 'h'): 4.0, '5th': {5, '5'}, '6th': {6, '6'}}\n",
            "Item Removed: ('6th', {6, '6'}) -> Output: {'red': 'Hazard', 1: 'first', 'second': 2, (3, 4): ['6', '7', '8', '9'], 'yellow': 'Caution', ('f', 'o', 'u', 'r', 't', 'h'): 4.0, '5th': {5, '5'}}\n"
          ]
        }
      ],
      "source": [
        "#Modify Dictionary values\n",
        "\n",
        "a['yellow'] = 'Caution'                         #Add new key-value pair to the existing Dictionary (i.e., last entry)\n",
        "print(f'Output: {a}')\n",
        "\n",
        "a['red'] = 'Hazard'                             #Update and associate new value for the existing key\n",
        "print(f'Output: {a}')\n",
        "\n",
        "a.update({                                      #Insert each key-value pair in the Dictionary to the end of the existing Dictionary\n",
        "    3.0: ['third', 'tertiary'],\n",
        "    tuple('fourth'): 4.0\n",
        "})\n",
        "a.update([                                      #Insert each key-value pair (specified in a List of Tuples) to the end of the existing Dictionary\n",
        "    ('5th', {5, '5'}), \n",
        "    ('6th', {6, '6'})\n",
        "])\n",
        "print(f'Output: {a}')\n",
        "\n",
        "i = a.pop(3.0)                                  #Remove and return the specified key-value from the Dictionary\n",
        "print(f'Item Removed: {i} -> Output: {a}')\n",
        "j = a.pop(7.0, 'Key is not Available')          #Remove and return the specified key-value from the Dictionary or return alternative value (i.e., No error is raised) \n",
        "print(f'Item Removed: {j} -> Output: {a}')\n",
        "\n",
        "k = a.popitem()                                 #Remove and return the last inserted key-value from the Dictionary\n",
        "print(f'Item Removed: {k} -> Output: {a}')"
      ]
    },
    {
      "cell_type": "code",
      "execution_count": 50,
      "metadata": {},
      "outputs": [
        {
          "name": "stdout",
          "output_type": "stream",
          "text": [
            "dict_items([('red', 'Hazard'), (1, 'first'), ('second', 2), ((3, 4), ['6', '7', '8', '9']), ('yellow', 'Caution'), (('f', 'o', 'u', 'r', 't', 'h'), 4.0), ('5th', {5, '5'})]) -> <class 'dict_items'>\n",
            "dict_keys(['red', 1, 'second', (3, 4), 'yellow', ('f', 'o', 'u', 'r', 't', 'h'), '5th']) -> <class 'dict_keys'>\n",
            "dict_values(['Hazard', 'first', 2, ['6', '7', '8', '9'], 'Caution', 4.0, {5, '5'}]) -> <class 'dict_values'>\n"
          ]
        }
      ],
      "source": [
        "#Convert Dictionary to an Array-like object\n",
        "\n",
        "l = a.items()                   #Returns Array-like or Iterable object with each key-value pair stored as Tuples\n",
        "print(f'{l} -> {type(l)}')\n",
        "\n",
        "m = a.keys()                    #Returns Array-like or Iterable object with each key from the Dictionary\n",
        "print(f'{m} -> {type(m)}')\n",
        "\n",
        "n = a.values()                  #Returns Array-like or Iterable object with each value from the Dictionary\n",
        "print(f'{n} -> {type(n)}')"
      ]
    },
    {
      "cell_type": "code",
      "execution_count": 51,
      "metadata": {},
      "outputs": [
        {
          "name": "stdout",
          "output_type": "stream",
          "text": [
            "Length of Dictionary: {'red': 'Hazard', 1: 'first', 'second': 2, (3, 4): ['6', '7', '8', '9'], 'yellow': 'Caution', ('f', 'o', 'u', 'r', 't', 'h'): 4.0, '5th': {5, '5'}} -> 7 key-value pairs\n",
            "Output: {'red': 'Hazard', 1: 'first', 'second': 2, (3, 4): ['6', '7', '8', '9'], 'yellow': 'Caution', ('f', 'o', 'u', 'r', 't', 'h'): 4.0, '5th': {5, '5'}} -> 2813213274496\n",
            "Output: {'red': 'Hazard', 1: 'first', 'second': 2, (3, 4): ['6', '7', '8', '9'], 'yellow': 'Caution', ('f', 'o', 'u', 'r', 't', 'h'): 4.0, '5th': {5, '5'}} -> 2813229904832\n"
          ]
        }
      ],
      "source": [
        "#Other commmon methods\n",
        "\n",
        "print(f'Length of Dictionary: {a} -> {len(a)} key-value pairs')     #Return Integer that represents the number of items in the Set\n",
        "\n",
        "o = a.copy()                                                        #Create a copy of the Dictionary object at a different point in memory\n",
        "print(f'''Output: {a} -> {id(a)}\n",
        "Output: {o} -> {id(o)}''')"
      ]
    }
  ],
  "metadata": {
    "colab": {
      "collapsed_sections": [
        "TrCZ5HoNPWGk",
        "anb-K-A-Qdsa",
        "SnPVk39dlTBu",
        "bAXoDJSsQxGI",
        "fFO7cK_0LRID",
        "kMedTzVI2HwJ",
        "3sIL-86H5ukn",
        "peqriMjXbTUu"
      ],
      "provenance": []
    },
    "kernelspec": {
      "display_name": "Python 3",
      "name": "python3"
    },
    "language_info": {
      "codemirror_mode": {
        "name": "ipython",
        "version": 3
      },
      "file_extension": ".py",
      "mimetype": "text/x-python",
      "name": "python",
      "nbconvert_exporter": "python",
      "pygments_lexer": "ipython3",
      "version": "3.9.12"
    }
  },
  "nbformat": 4,
  "nbformat_minor": 0
}
