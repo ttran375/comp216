{
 "cells": [
  {
   "cell_type": "markdown",
   "metadata": {
    "id": "6w3V1_on-1b8"
   },
   "source": [
    "\n",
    "---  \n",
    "\n",
    "\n",
    "# **Control Structures**\n",
    "\n",
    "By understanding control structures, it is possible to implement the appropriate computational logic and validate the effects of a set of code statements.\n",
    "\n",
    "1. [Sequences](#sequence)\n",
    "\n",
    "2. [Conditionals](#conditional)\n",
    "\n",
    "3. [Loops](#loop)\n",
    "   1. While Loops\n",
    "   2. For Loops\n",
    "\n",
    "4. [Functions](#function)"
   ]
  },
  {
   "cell_type": "markdown",
   "metadata": {},
   "source": [
    "\n",
    "---"
   ]
  },
  {
   "cell_type": "markdown",
   "metadata": {
    "id": "MSgRfqJK_pCS"
   },
   "source": [
    "### 1. Sequence <a class='anchor' id='sequence'></a>\n",
    "\n",
    "This is the natural order of processing, where each statement is processed sequentially until the end of the instruction set.Statements are not skipped, jumped and/or repeated.\n",
    "\n",
    "This control structure always produces the same effect because the same set of statements are processed in the same order."
   ]
  },
  {
   "cell_type": "code",
   "execution_count": 1,
   "metadata": {
    "id": "_B37-kb_-phS"
   },
   "outputs": [
    {
     "name": "stdout",
     "output_type": "stream",
     "text": [
      "Output: [1, 2, 3, 4, 5]\n"
     ]
    }
   ],
   "source": [
    "num_list = [1, 2, 3, 4]\n",
    "num_list.append(5)\n",
    "print(f'Output: {num_list}')"
   ]
  },
  {
   "cell_type": "markdown",
   "metadata": {},
   "source": [
    "\n",
    "---"
   ]
  },
  {
   "cell_type": "markdown",
   "metadata": {
    "id": "hTUhVvZo_1qG"
   },
   "source": [
    "### 2. Conditionals (Branching or Selection Logic) <a class='anchor' id='conditional'></a>\n",
    "\n",
    "Allows for the creation and execution of alternative flows (i.e., group of statements) based on a value, evaluation, state, etc. Only one branch is processed and the other are ignored (i.e., not executed).\n",
    "\n",
    "Several variants includes:  \n",
    "* Simple IF block without ELSE block\n",
    "* IF and ELSE blocks are present\n",
    "* One IF and one or more ELSE IF block(s) without ELSE block\n",
    "* One IF and one or more ELSE IF block(s) with ELSE block\n",
    "\n",
    "Python supports nested IF statements, where conditional logic is nested withing IF, ELIF and/or ELSE blocks.  \n",
    "\n",
    "Unlike C# and JavaScript, Python does not have a CASE or SWITCH construct.\n",
    "\n",
    "Syntax for Conditionals:\n",
    "\n",
    "     if EXPRESSION_1:\n",
    "          BODY_1\n",
    "     elif EXPRESSION_2:\n",
    "          BODY_2\n",
    "     else: \n",
    "          BODY_3\n",
    "          \n",
    "Note: The syntax mandates the use of the : (colon) and indentation due to the Off-set Rule."
   ]
  },
  {
   "cell_type": "code",
   "execution_count": 2,
   "metadata": {
    "colab": {
     "base_uri": "https://localhost:8080/"
    },
    "id": "Xl_N5k4IMxQk",
    "outputId": "c9bf87b7-490b-4d01-8279-5b3a83f98053"
   },
   "outputs": [
    {
     "name": "stdout",
     "output_type": "stream",
     "text": [
      "Warm\n"
     ]
    }
   ],
   "source": [
    "#Simple IF block without ELSE block\n",
    "\n",
    "temp = 25\n",
    "\n",
    "if temp > 20:\n",
    "  print('Warm')"
   ]
  },
  {
   "cell_type": "code",
   "execution_count": 3,
   "metadata": {
    "colab": {
     "base_uri": "https://localhost:8080/"
    },
    "id": "S2Ta9Lt8NaiQ",
    "outputId": "1a91bc7b-caa2-42e8-f938-ce51c3544c11"
   },
   "outputs": [
    {
     "name": "stdout",
     "output_type": "stream",
     "text": [
      "Cool\n"
     ]
    }
   ],
   "source": [
    "#IF and ELSE blocks are present\n",
    "\n",
    "temp = 18\n",
    "\n",
    "if temp > 20:\n",
    "  print('Warm')\n",
    "else:\n",
    "  print('Cool')"
   ]
  },
  {
   "cell_type": "code",
   "execution_count": 4,
   "metadata": {
    "colab": {
     "base_uri": "https://localhost:8080/"
    },
    "id": "JlPfrEPNOs9e",
    "outputId": "6804ffb4-32fb-47de-bd67-910da03db2a2"
   },
   "outputs": [
    {
     "name": "stdout",
     "output_type": "stream",
     "text": [
      "Concerning Weight\n",
      "See Physician\n"
     ]
    }
   ],
   "source": [
    "#One IF and one or more ELSE IF block(s) with ELSE block\n",
    "\n",
    "weight = 140\n",
    "\n",
    "if weight < 100:\n",
    "  print('Under Weight')\n",
    "  print('See Dietician')\n",
    "elif weight < 140:\n",
    "  print('Normal Weight')\n",
    "elif weight < 180:\n",
    "  print('Concerning Weight')\n",
    "  print('See Physician')\n",
    "else:\n",
    "  print('Over Weight')\n",
    "  print('!!!!')"
   ]
  },
  {
   "cell_type": "code",
   "execution_count": 5,
   "metadata": {},
   "outputs": [
    {
     "name": "stdout",
     "output_type": "stream",
     "text": [
      "Under Weight\n",
      "See Dietician\n"
     ]
    }
   ],
   "source": [
    "#Python supports One-line IF statements\n",
    "\n",
    "weight = 90\n",
    "\n",
    "if weight < 100: print('Under Weight'); print('See Dietician')\n",
    "\n",
    "#Note: The semicolon separating the statements has higher precedence than the colon following expression (i.e., Semicolon is more bind more tightly than the colon)\n",
    "#Thus, the statements are treated as a block or suite"
   ]
  },
  {
   "cell_type": "code",
   "execution_count": 6,
   "metadata": {
    "colab": {
     "base_uri": "https://localhost:8080/"
    },
    "id": "4iqDPpyakHvh",
    "outputId": "4a3465c4-ed0e-440f-8fc3-54f8c47576fa"
   },
   "outputs": [
    {
     "name": "stdout",
     "output_type": "stream",
     "text": [
      "General IF ELSE statement -- Student Status: Elementary\n",
      "\n",
      "Ternary Expression -- Student Status: Elementary\n",
      "\n",
      "Chained Ternary Expression -- Output: Quz\n"
     ]
    }
   ],
   "source": [
    "#Python supports Ternary expressions or operators\n",
    "#Syntax: EXPRESSION_1 if CONDITION else EXPRESSION_2\n",
    "#Evaluate the middle component, the CONDITION\" --> If the CONDITION is TRUE, execute EXPRESSION_1 --> if the CONDITION is FALSE, execute EXPRESSION_2\n",
    "\n",
    "#Standard IF ELSE statements\n",
    "age = 12\n",
    "if age < 13:\n",
    "  student_status = 'Elementary'\n",
    "else:\n",
    "  student_status = 'Highschool'\n",
    "print(f'General IF ELSE statement -- Student Status: {student_status}\\n')\n",
    "\n",
    "#Ternary expression\n",
    "student_status = 'Elementary' if age < 13 else 'Highschool'     #Note: Colons are not utilized\n",
    "print(f'Ternary Expression -- Student Status: {student_status}\\n')\n",
    "\n",
    "#Chained Ternary expression\n",
    "init_value = 0\n",
    "sample = ('Foo' if init_value == 1 else\n",
    "          'Bar' if init_value == 2 else\n",
    "          'Baz' if init_value == 3 else\n",
    "          'Quz')\n",
    "print(f'Chained Ternary Expression -- Output: {sample}')\n"
   ]
  },
  {
   "cell_type": "markdown",
   "metadata": {},
   "source": [
    "#### 2.1 Boolean Context and Operators for Conditionals\n",
    "\n",
    "Construct various expressions utilizing special symbols, keywords and operands to return a Boolean value.\n",
    "\n",
    "Operators include:\n",
    "* Comparison Operators\n",
    "* Logical Operators\n",
    "* Bitwise Operators\n",
    "* Identity Operators\n",
    "* Membership Operators\n"
   ]
  },
  {
   "cell_type": "code",
   "execution_count": 7,
   "metadata": {},
   "outputs": [
    {
     "name": "stdout",
     "output_type": "stream",
     "text": [
      "Comparison Output: True\n",
      "Comparison Output: True\n",
      "Comparison Output: False\n",
      "\n",
      "\n",
      "Addition Output: 0.30000000000000004\n",
      "Comparison Output 0.30000000000000004 == 0.3: False\n",
      "Alternative Comparison Output: True\n"
     ]
    }
   ],
   "source": [
    "#Comparison operators to compare and constrast two or more Numerical and data types\n",
    "\n",
    "#Comparison operators with Numbers\n",
    "print(f'Comparison Output: {2 <= 5.5}')                # Operators support comparison between similar data types (e.g., Numbers)\n",
    "print(f'Comparison Output: {2 == 2.0000000}')          # Operators support comparison between similar data types (e.g., Numbers)\n",
    "print(f'Comparison Output: {2 == \"2\"}')                # == and != operators support comparison between different data types\n",
    "#print(f'Output: {2 < \"3\"}')                #--> Raise exception (Type Error) due to unsupported operation between different data types\n",
    "#print(f'Output: {2 >=  [5, 7, 9]}')        #--> Raise exception (Type Error) due to unsupported operation between different data types\n",
    "print('\\n')\n",
    "\n",
    "#Comparison operation may not be appropriate in all situations\n",
    "addition = 0.1 + 0.2\n",
    "print(f'Addition Output: {addition}')\n",
    "print(f'Comparison Output {addition} == 0.3: {addition == 0.3}')        #Issue arises due to Floating Point Representation Error\n",
    "\n",
    "from math import isclose\n",
    "print(f'Alternative Comparison Output: {isclose(addition, 0.3)}')                   #Address limitations utilizing the imported function"
   ]
  },
  {
   "cell_type": "code",
   "execution_count": 8,
   "metadata": {},
   "outputs": [
    {
     "name": "stdout",
     "output_type": "stream",
     "text": [
      "String Comparison Output: False\n",
      "String Comparison Output: True\n",
      "String Comparison Output: True\n",
      "\n",
      "\n",
      "Collelction Comparison Output: False\n",
      "Collelction Comparison Output: True\n",
      "Collelction Comparison Output: True\n"
     ]
    }
   ],
   "source": [
    "#Comparison operators with other data types\n",
    "\n",
    "print(f'String Comparison Output: {\"A\" > \"a\"}')                 #Character by character comparison by each character’s Unicode number value (e.g., 65 > 97)\n",
    "print(f'String Comparison Output: {\"BC\" <= \"BDE\"}')             #Utilize lexicographical ordering to compare character in the same index, until either String is exhausted\n",
    "print(f'String Comparison Output: {\"hello\" != \"HELLO\"}')\n",
    "print('\\n')\n",
    "\n",
    "print(f'Collelction Comparison Output: {[1, 2, 3, 4] == [1, 2, 3, 5]}')         #Item by item comparison until sequence/collelction is exhausted\n",
    "print(f'Collelction Comparison Output: {[1, 2, 3, 4] >= [1, 2]}')       \n",
    "print(f'Collelction Comparison Output: {[1, 2, 3, 4] >= [1, 2]}')               #Item by item comparison with collections with varying lengths\n",
    "#print(f'Collelction Comparison Output: {[6, 7, 8, 9] >= (7, 8, 9, 10)}')       #--> Raise exception (Type Error) due to unsupported operation between different data types"
   ]
  },
  {
   "cell_type": "code",
   "execution_count": 9,
   "metadata": {},
   "outputs": [
    {
     "name": "stdout",
     "output_type": "stream",
     "text": [
      "Compound Comparison Output: True\n",
      "Compound Comparison Output: False\n",
      "\n",
      "\n",
      "Compound Operand Output: 4\n",
      "Compound Operand Output: 3\n",
      "\n",
      "\n",
      "Compound Operand Output: 0\n",
      "Compound Operand Output: 0\n",
      "Compound Operand Output: 4\n",
      "\n",
      "\n",
      "Compound Operand Output: 0\n",
      "Compound Operand Output: []\n"
     ]
    }
   ],
   "source": [
    "#Logical operators to create compound conditions with Boolean values or other objects as the operands\n",
    "\n",
    "print(f'Compound Comparison Output: {3.14 < 5.56 and 5.6 == 5.60}')     #True and True --> True\n",
    "print(f'Compound Comparison Output: {2.58 > 8.70 or 6.40 != 6.400}')    #False or False --> False\n",
    "print('\\n')\n",
    "\n",
    "value_a = 1 + 2\n",
    "value_b = 3 + 1\n",
    "value_c = 0\n",
    "print(f'Compound Operand Output: {value_a and value_b}')                #3 and 4 --> Both are non-zero operands which evaluate as \"truthy\", so return last \"truthy\" value\n",
    "print(f'Compound Operand Output: {value_a or value_b}')                 #3 or 4 --> Both are non-zero operands which evaluate as \"truthy\", however, the \"OR\" operand uses short-circuit evaluation, so the first \"truthy\" operand is found and returned without checking the next operand\n",
    "print('\\n')\n",
    "\n",
    "print(f'Compound Operand Output: {value_c and value_a}')                #0 and 3 --> 0 evaluates as \"falsy\"; due to the \"AND\" operand uses short-circuit evaluation, so if the first operand \"falsy\" value is found and returned without checking the next operand\n",
    "print(f'Compound Operand Output: {value_b and value_c}')                #4 and 0 --> 0 evaluates as \"falsy\"; \"truthy\" and \"falsy\" which returns the falsy operand\n",
    "print(f'Compound Operand Output: {value_b or value_c}')                 #4 or 0 --> The \"OR\" operand uses short-circuit evaluation, so the first \"truthy\" operand is found and returned without checking the next operand\n",
    "print('\\n')\n",
    "\n",
    "print(f'Compound Operand Output: {value_c and []}')                     #0 and [] --> Both are non-zero operands which evaluate as \"falsy\"; however, the \"AND\" operand uses short-circuit evaluation, so if the first operand \"falsy\" value is found and returned without checking the next operand\n",
    "print(f'Compound Operand Output: {value_c or []}')                      #0 and [] --> Both are non-zero operands which evaluate as \"falsy\"; \"falsy\" or \"falsy\" which returns the last falsy operand"
   ]
  },
  {
   "cell_type": "code",
   "execution_count": 10,
   "metadata": {},
   "outputs": [
    {
     "name": "stdout",
     "output_type": "stream",
     "text": [
      "Identity Output: True\n",
      "Identity Output: False\n",
      "Identity Output: True\n",
      "\n",
      "\n",
      "Identity Output: True\n",
      "Identity Output: True\n"
     ]
    }
   ],
   "source": [
    "#Identity operators to determine whether two operands have the same identity (i.e., refer to the same object); not the same as equality comparison\n",
    "\n",
    "current_year = 2024\n",
    "latest_year = 2024\n",
    "print(f'Identity Output: {current_year == latest_year}')\n",
    "print(f'Identity Output: {current_year is latest_year}')        #The current_year and latest_year variables point to two different objects\n",
    "print(f'Identity Output: {current_year is not latest_year}')    #The current_year and latest_year variables point to two different objects\n",
    "print('\\n')\n",
    "\n",
    "next_year = 2025\n",
    "future_year = next_year\n",
    "print(f'Identity Output: {next_year == future_year}')\n",
    "print(f'Identity Output: {next_year is future_year}')           #The next_year and future_year variables point to the same object"
   ]
  },
  {
   "cell_type": "code",
   "execution_count": 11,
   "metadata": {},
   "outputs": [
    {
     "name": "stdout",
     "output_type": "stream",
     "text": [
      "Membership Output: True\n",
      "Membership Output: False\n",
      "Membership Output: False\n"
     ]
    }
   ],
   "source": [
    "#Membership operators to determine whether a item/value is present in a collection or sequence (e.g., String, List, Tuple, etc.)\n",
    "\n",
    "print(f'Membership Output: {5 in [7, 4, 0, 5, 8]}')             #Determine if 5 is present in the list\n",
    "print(f'Membership Output: {\"ca\" in \"contradiction\"}')          #Determine if the substring (ca) is present in the string (contradiction)\n",
    "\n",
    "print(f'Membership Output: {\"ing\" not in \"understanding\"}')     #Determine if the substring (ing) is not present in the string (understanding)"
   ]
  },
  {
   "cell_type": "markdown",
   "metadata": {},
   "source": [
    "\n",
    "---"
   ]
  },
  {
   "cell_type": "markdown",
   "metadata": {
    "id": "tBxgf2AwAQep"
   },
   "source": [
    "### 3. Loops <a class='anchor' id='loop'></a>\n",
    "\n",
    "Python supports two main loop constructs:\n",
    "\n",
    "   1. [While Loops](#while)\n",
    "   2. [For Loops](#for)\n",
    "\n",
    "The code block may be processed zero, one or multiple times. Referred as iteration or repetition."
   ]
  },
  {
   "cell_type": "markdown",
   "metadata": {},
   "source": [
    "#### 3.1 While Loops <a class='anchor' id='while'></a>\n",
    "\n",
    "Supports the need for indefinite iteration, where the number of times the code block is executed is not specified explicitly in advance. The code block is repeated if a specified condition is satisfied.\n",
    "\n",
    "Unlike C# and JavaScript, Python does not support a DO ... WHILE construct. Rather, a similar logic can be implemented with a simple WHILE loop.\n",
    "\n",
    "\n",
    "Syntax associated with While Loops:\n",
    "    \n",
    "    while EXPRESSION:\n",
    "        BODY\n",
    "\n",
    "Syntax associated with While ... Else Loops:\n",
    "    \n",
    "    while EXPRESSION:\n",
    "        BODY_1\n",
    "    else:\n",
    "        BODY_2\n",
    "\n",
    "Note: The syntax mandates the use of the : (colon) and indentation due to the Off-set Rule."
   ]
  },
  {
   "cell_type": "code",
   "execution_count": 12,
   "metadata": {},
   "outputs": [
    {
     "name": "stdout",
     "output_type": "stream",
     "text": [
      "Current Value: 10\n",
      "Current Value: 9\n",
      "Current Value: 8\n",
      "Current Value: 7\n",
      "Current Value: 6\n",
      "Current Value: 5\n",
      "Current Value: 4\n",
      "Current Value: 3\n",
      "Current Value: 2\n",
      "Current Value: 1\n"
     ]
    }
   ],
   "source": [
    "num = 10\n",
    "while num > 0:\n",
    "  print(f'Current Value: {num}')\n",
    "  num -= 1"
   ]
  },
  {
   "cell_type": "code",
   "execution_count": 13,
   "metadata": {},
   "outputs": [
    {
     "name": "stdout",
     "output_type": "stream",
     "text": [
      "Removed Item: 23412\n",
      "Updated List: [34234, 12643, 89768]\n",
      "\n",
      "Removed Item: 89768\n",
      "Updated List: [34234, 12643]\n",
      "\n",
      "Removed Item: 12643\n",
      "Updated List: [34234]\n",
      "\n",
      "Removed Item: 34234\n",
      "Updated List: []\n",
      "\n"
     ]
    }
   ],
   "source": [
    "sample_list = [34234, 12643, 89768, 23412]\n",
    "while sample_list:\n",
    "  item = sample_list.pop(-1)\n",
    "  print(f'Removed Item: {item}')\n",
    "  print(f'Updated List: {sample_list}\\n')"
   ]
  },
  {
   "cell_type": "code",
   "execution_count": 14,
   "metadata": {},
   "outputs": [
    {
     "name": "stdout",
     "output_type": "stream",
     "text": [
      "Removed Number: 886712 -- Remaining List: [34234, 126447, 89769, 23412, 465124]\n",
      "New Sub-Total: 886712\n",
      "\n",
      "Removed Number: 465124 -- Remaining List: [34234, 126447, 89769, 23412]\n",
      "New Sub-Total: 1351836\n",
      "\n",
      "Removed Number: 23412 -- Remaining List: [34234, 126447, 89769]\n",
      "New Sub-Total: 1375248\n",
      "\n",
      "Removed Number: 89769 -- Remaining List: [34234, 126447]\n",
      "Odd Value Detected\n",
      "\n",
      "Removed Number: 126447 -- Remaining List: [34234]\n",
      "Odd Value Detected\n",
      "\n",
      "Removed Number: 34234 -- Remaining List: []\n",
      "New Sub-Total: 1409482\n",
      "\n",
      "Total for Even Numbers: 1409482\n"
     ]
    }
   ],
   "source": [
    "#While loops support Continue and Break statements\n",
    "\n",
    "#Continue statement stops the current iteration, and the loop skips to next iteration --> This allows the loop to complete exhaustive termination\n",
    "sample_list = [34234, 126447, 89769, 23412, 465124, 886712]\n",
    "total = 0\n",
    "\n",
    "while sample_list:\n",
    "  num_value = sample_list.pop(-1)\n",
    "  print(f'Removed Number: {num_value} -- Remaining List: {sample_list}')\n",
    "\n",
    "  if num_value % 2 == 1:\n",
    "    print(f'Odd Value Detected\\n')\n",
    "    continue\n",
    "  total += num_value\n",
    "  print(f'New Sub-Total: {total}\\n')\n",
    "\n",
    "print(f'Total for Even Numbers: {total}')\n"
   ]
  },
  {
   "cell_type": "code",
   "execution_count": 15,
   "metadata": {},
   "outputs": [
    {
     "name": "stdout",
     "output_type": "stream",
     "text": [
      "Even Number: 86712\n",
      "Remaining List: [34234, 12646, 89767, 23412, 46234]\n",
      "\n",
      "Even Number: 46234\n",
      "Remaining List: [34234, 12646, 89767, 23412]\n",
      "\n",
      "Even Number: 23412\n",
      "Remaining List: [34234, 12646, 89767]\n",
      "\n",
      "Odd Value Detected\n",
      "Program Terminated\n"
     ]
    }
   ],
   "source": [
    "#Break statement (immediately) terminates the loop and moves on to the next set of instructions  --> This causes orced termination\n",
    "sample_list = [34234, 12646, 89767, 23412, 46234, 86712]      #Modify all values to even numbers in the list\n",
    "\n",
    "while sample_list:\n",
    "  num_value = sample_list.pop(-1)\n",
    "  #print(f'Removed Number: {num_value} -- Remaining List: {sample_list}')\n",
    "  if num_value % 2 == 1:\n",
    "    print('Odd Value Detected')\n",
    "    break\n",
    "  print(f'Even Number: {num_value}')\n",
    "  print(f'Remaining List: {sample_list}\\n')\n",
    "\n",
    "print('Program Terminated')"
   ]
  },
  {
   "cell_type": "code",
   "execution_count": 16,
   "metadata": {},
   "outputs": [
    {
     "name": "stdout",
     "output_type": "stream",
     "text": [
      "Even Number: 1409482\n",
      "Remaining List: [34234, 12646, 89768, 23412, 46234]\n",
      "\n",
      "Even Number: 1409482\n",
      "Remaining List: [34234, 12646, 89768, 23412]\n",
      "\n",
      "Even Number: 1409482\n",
      "Remaining List: [34234, 12646, 89768]\n",
      "\n",
      "Even Number: 1409482\n",
      "Remaining List: [34234, 12646]\n",
      "\n",
      "Even Number: 1409482\n",
      "Remaining List: [34234]\n",
      "\n",
      "Even Number: 1409482\n",
      "Remaining List: []\n",
      "\n",
      "All Values are Even\n",
      "Program Terminated\n"
     ]
    }
   ],
   "source": [
    "#Python suppots a unique the While ... Else construct\n",
    "#While loop is conducted under the same principles discussed above; however, the Else block is only executed if there is an exhaustive termination\n",
    "\n",
    "sample_list = [34234, 12646, 89768, 23412, 46234, 86712]\n",
    "\n",
    "while sample_list:\n",
    "  num_value = sample_list.pop(-1)\n",
    "  if num_value % 2 == 1:\n",
    "    print('Odd Value Detected')\n",
    "    break\n",
    "  print(f'Even Number: {total}')\n",
    "  print(f'Remaining List: {sample_list}\\n')\n",
    "else:\n",
    "  print('All Values are Even')\n",
    "\n",
    "print('Program Terminated')"
   ]
  },
  {
   "cell_type": "code",
   "execution_count": 17,
   "metadata": {},
   "outputs": [
    {
     "name": "stdout",
     "output_type": "stream",
     "text": [
      "Even Number: 1409482\n",
      "Remaining List: [43876, 12095, 92650, 12892, 63478]\n",
      "\n",
      "Even Number: 1409482\n",
      "Remaining List: [43876, 12095, 92650, 12892]\n",
      "\n",
      "Even Number: 1409482\n",
      "Remaining List: [43876, 12095, 92650]\n",
      "\n",
      "Even Number: 1409482\n",
      "Remaining List: [43876, 12095]\n",
      "\n",
      "Odd Value Detected\n",
      "Program Terminated\n"
     ]
    }
   ],
   "source": [
    "sample_list = [43876, 12095, 92650, 12892, 63478, 55098]\n",
    "\n",
    "while sample_list:\n",
    "  num_value = sample_list.pop(-1)\n",
    "  if num_value % 2 == 1:\n",
    "    print('Odd Value Detected')\n",
    "    break\n",
    "  print(f'Even Number: {total}')\n",
    "  print(f'Remaining List: {sample_list}\\n')\n",
    "else:\n",
    "  print('All Values are Even')\n",
    "\n",
    "print('Program Terminated')"
   ]
  },
  {
   "cell_type": "markdown",
   "metadata": {},
   "source": [
    "#### 3.2 For Loops <a class='anchor' id='for'></a>\n",
    "\n",
    "Supports the need for definite iteration, where the number of times the code block is executed is specified explicitly when the loop starts. The code block is repeated upto a specified number of times.\n",
    "\n",
    "Unlike , the standard For Loop in Python is based on iterating over a collection or sequence of objects/items. Rather than using:\n",
    "\n",
    "* Numeric Range Loops **<<for i=0 to 10>>** in languages, such as BASIC and Pascal \n",
    "* Three-Expression Loops **<<for (i = 0; i <= 10; i++)>>** in C# and JavaScript.\n",
    "\n",
    "\n",
    "Syntax associated with For Loops:\n",
    "    \n",
    "    for ITEM in COLLECTION:\n",
    "        BODY\n",
    "\n",
    "Syntax associated with For ... Else Loops:\n",
    "    \n",
    "    for ITEM in COLLECTION:\n",
    "        BODY_1\n",
    "    else:\n",
    "        BODY_2\n",
    "\n",
    "Note: The syntax mandates the use of the : (colon) and indentation due to the Off-set Rule."
   ]
  },
  {
   "cell_type": "code",
   "execution_count": 18,
   "metadata": {},
   "outputs": [
    {
     "name": "stdout",
     "output_type": "stream",
     "text": [
      "Value: 24\n",
      "Value: 67\n",
      "Value: 12\n",
      "Value: 40\n",
      "Value: 74\n"
     ]
    }
   ],
   "source": [
    "number_line = [24, 67, 12, 40, 74]\n",
    "\n",
    "for number in number_line:\n",
    "  print(f'Value: {number}')"
   ]
  },
  {
   "cell_type": "code",
   "execution_count": 19,
   "metadata": {},
   "outputs": [
    {
     "name": "stdout",
     "output_type": "stream",
     "text": [
      "Iterator: <list_iterator object at 0x000001FE52E21A30>\n",
      "Iterator: <str_iterator object at 0x000001FE52E210A0>\n",
      "Iterator: <tuple_iterator object at 0x000001FE52E21250>\n",
      "\n",
      "Iterator: <list_iterator object at 0x000001FE52E21A30>\n",
      "First Value: 24\n",
      "Second Value: 67\n",
      "Third Value: 12\n",
      "Fourth Value: 40\n",
      "Fifth Value: 74\n"
     ]
    }
   ],
   "source": [
    "#Underlying mechanism in For Loop: First, the For Loop must create an Iterator\n",
    "\n",
    "#Collection or sequence based objects (e.g., Strings, Tuples, Dictionaries, etc.) are deemed iterable\n",
    "number_line_iter = iter(number_line)\n",
    "print(f'Iterator: {number_line_iter}')\n",
    "string_iter = iter('COMP216')\n",
    "print(f'Iterator: {string_iter}')\n",
    "tuple_iter = iter(('a', 'b', 'c', 'd', 'e'))\n",
    "print(f'Iterator: {tuple_iter}')\n",
    "\n",
    "#Non-collection or Non-sequence based objects are not iterable\n",
    "number_value = 235.87912\n",
    "#number_iter = iter(235.87912)      #-->Raise an exception (Type Error) as the data type (e.g., Float) is not iterable\n",
    "\n",
    "\n",
    "#Iterator objects generate or produce one value at a time, when it is required by calling the \"Next\" function\n",
    "#I.e., With each repetition/cycle of the For Loop a value is produced and passed into the code block\n",
    "print(f'\\nIterator: {number_line_iter}')\n",
    "print(f'First Value: {next(number_line_iter)}')\n",
    "print(f'Second Value: {next(number_line_iter)}')\n",
    "print(f'Third Value: {next(number_line_iter)}')\n",
    "print(f'Fourth Value: {next(number_line_iter)}')\n",
    "print(f'Fifth Value: {next(number_line_iter)}')\n",
    "#Raise an exception (StopIteration Error) which informs the For Loop that are no more items in the collection/sequence and terminate the loop\n",
    "#print(f'Sixth Value: {next(number_line_iter)}')"
   ]
  },
  {
   "cell_type": "code",
   "execution_count": 20,
   "metadata": {},
   "outputs": [
    {
     "name": "stdout",
     "output_type": "stream",
     "text": [
      "Range 1: 0 - 9\n",
      "Value: 0\n",
      "Value: 1\n",
      "Value: 2\n",
      "Value: 3\n",
      "Value: 4\n",
      "Value: 5\n",
      "Value: 6\n",
      "Value: 7\n",
      "Value: 8\n",
      "Value: 9\n",
      "\n",
      "Range 1: 11 - 19\n",
      "Value: 11\n",
      "Value: 12\n",
      "Value: 13\n",
      "Value: 14\n",
      "Value: 15\n",
      "Value: 16\n",
      "Value: 17\n",
      "Value: 18\n",
      "Value: 19\n",
      "\n",
      "Range 1: 21 - 29 Skip every 2nd value\n",
      "Value: 21\n",
      "Value: 23\n",
      "Value: 25\n",
      "Value: 27\n",
      "Value: 29\n"
     ]
    }
   ],
   "source": [
    "#Iterables objects are not limited to standard collection/sequence objects and can be generated (e.g., Range object, Enumeration, etc.)\n",
    "\n",
    "#Range objects: range([start,] stop [, step])\n",
    "print('Range 1: 0 - 9')\n",
    "for number in range(10):\n",
    "  print(f'Value: {number}')\n",
    "\n",
    "print('\\nRange 1: 11 - 19')\n",
    "for number in range(11, 20):\n",
    "  print(f'Value: {number}')\n",
    "\n",
    "print('\\nRange 1: 21 - 29 Skip every 2nd value')\n",
    "for number in range(21, 30, 2):\n",
    "  print(f'Value: {number}')\n"
   ]
  },
  {
   "cell_type": "code",
   "execution_count": 21,
   "metadata": {},
   "outputs": [
    {
     "name": "stdout",
     "output_type": "stream",
     "text": [
      "Enumeration of Professor Names\n",
      "0 Ilia\n",
      "1 Yin\n",
      "2 Arben\n",
      "3 Narendra\n",
      "\n",
      "Enumeration of Professor Names and Start Counter at 10\n",
      "10 Ilia\n",
      "11 Yin\n",
      "12 Arben\n",
      "13 Narendra\n"
     ]
    }
   ],
   "source": [
    "#Enumerate function: enumerate(iterable, start=0)\n",
    "\n",
    "print(f'Enumeration of Professor Names')\n",
    "profs='Ilia Yin Arben Narendra'.split()\n",
    "\n",
    "for position, name in enumerate(profs):\n",
    "  print(f'{position} {name}')  \n",
    "\n",
    "start = 10\n",
    "print(f'\\nEnumeration of Professor Names and Start Counter at {start}')\n",
    "for position, name in enumerate(profs, start):\n",
    "  print(f'{position} {name}')  \n",
    "\n"
   ]
  },
  {
   "cell_type": "code",
   "execution_count": 22,
   "metadata": {},
   "outputs": [
    {
     "name": "stdout",
     "output_type": "stream",
     "text": [
      "Number Divisible by 5 Detected\n",
      "Program Terminated\n"
     ]
    }
   ],
   "source": [
    "#For Loops support the Break, Continue and Else constructs\n",
    "\n",
    "sample_list = [34234, 126440, 89769, 23412, 465124, 886712]   #Modify the second value to a different value\n",
    "total = 0\n",
    "\n",
    "for num_value in sample_list:\n",
    "  if num_value % 2 == 1:\n",
    "    print(f'Odd Value Detected')\n",
    "    continue\n",
    "  elif num_value % 5 == 0:\n",
    "    print(f'Number Divisible by 5 Detected')\n",
    "    break\n",
    "  total += num_value\n",
    "  #print(f'Output: {total}')\n",
    "else:\n",
    "  print(f'Total: {total}')\n",
    "\n",
    "print('Program Terminated')"
   ]
  },
  {
   "cell_type": "code",
   "execution_count": 23,
   "metadata": {
    "colab": {
     "base_uri": "https://localhost:8080/",
     "height": 176
    },
    "id": "7MX1oaxBYaGX",
    "outputId": "ffd342c9-d82c-406f-8933-532005bbc326"
   },
   "outputs": [
    {
     "name": "stdout",
     "output_type": "stream",
     "text": [
      "Nested For Loops:\n",
      "Ubuntu 32-bit\n",
      "Ubuntu 64-bit\n",
      "--------------\n",
      "Redhat 32-bit\n",
      "Redhat 64-bit\n",
      "--------------\n",
      "Centos 32-bit\n",
      "Centos 64-bit\n",
      "--------------\n",
      "\n",
      "\n",
      "Nested While Loops:\n",
      "1 2 3 4 5 6 7 8 9 \n",
      "2 3 4 5 6 7 8 9 \n",
      "3 4 5 6 7 8 9 \n",
      "4 5 6 7 8 9 \n",
      "5 6 7 8 9 \n",
      "6 7 8 9 \n",
      "7 8 9 \n",
      "8 9 \n",
      "9 \n",
      "Complete!\n"
     ]
    }
   ],
   "source": [
    "#Similar to other programming languages, Python, supports nested structures with loops\n",
    "\n",
    "print('Nested For Loops:')\n",
    "distros = 'Ubuntu Redhat Centos'.split()\n",
    "arch = '32-bit 64-bit'.split()\n",
    "for d in distros:\n",
    "  for a in arch:\n",
    "    print(d, a)\n",
    "  print('--------------')\n",
    "print('\\n')\n",
    "\n",
    "print('Nested While Loops:')\n",
    "i = 1\n",
    "while i < 10:\n",
    "    j = i\n",
    "    while j < 10:\n",
    "        print(f'{j} ', end='')\n",
    "        j = j + 1\n",
    "    print('')\n",
    "    i = i + 1\n",
    "print('Complete!')"
   ]
  },
  {
   "cell_type": "markdown",
   "metadata": {
    "id": "e48YlC-cAWUi"
   },
   "source": [
    "### 4. Functions <a class='anchor' id='function'></a>\n",
    "\n",
    "In Python, Functions embody the following characteristics:\n",
    "* Deemed \"first-class\" objects so you may use it like any other variable\n",
    "* Defined to complete a single task\n",
    "* Excuete instruction set or run operations when \"called\" or \"invoked\"\n",
    "* Receive zero, one or more inputs (arguments)\n",
    "* Return zero, one or more outputs\n",
    "* Declare its own variables\n",
    "* Contain a docstring or descriptions to support development/maintenance\n",
    "* \n",
    "* \n",
    "\n",
    "Syntax for Functions:\n",
    "```\n",
    "def FUNCTION_NAME (ARGUMENT(S)):\n",
    "    BODY\n",
    "```"
   ]
  },
  {
   "cell_type": "code",
   "execution_count": 24,
   "metadata": {},
   "outputs": [
    {
     "name": "stdout",
     "output_type": "stream",
     "text": [
      "apple -- QTY: 2000 -- PRICE: 0.3\n",
      "Output for the \"inventory_1\" function: None -> <class 'NoneType'>\n",
      "\n",
      "Output for the \"inventory_2\" function: apple -- QTY: 2000 -- PRICE: 0.3 -> <class 'str'>\n",
      "\n",
      "Output for the \"inventory_3\" function: ('ITEM: apple', 'QTY: 2000', 'PRICE: 0.3') -> <class 'tuple'>\n"
     ]
    }
   ],
   "source": [
    "def inventory_1(item, qty, price):                            #Functions can be defined with zero, on more parameters\n",
    "  print(f'{item} -- QTY: {qty} -- PRICE: {price}')            #Displays message to terminal without returning value (None Object)\n",
    "\n",
    "def inventory_2(item, qty, price):                            #Functions can be defined with zero, on more parameters\n",
    "  return(f'{item} -- QTY: {qty} -- PRICE: {price}')           #Return a value/output\n",
    "\n",
    "def inventory_3(item, qty, price):                            #Functions can be defined with zero, on more parameters\n",
    "  return f'ITEM: {item}', f'QTY: {qty}', f'PRICE: {price}'    #Return multiple values/outputs as a Tuple\n",
    "\n",
    "print_output = inventory_1('apple', 2000, 0.3)\n",
    "print(f'Output for the \"inventory_1\" function: {print_output} -> {type(print_output)}')\n",
    "\n",
    "return_output = inventory_2('apple', 2000, 0.3)\n",
    "print(f'\\nOutput for the \"inventory_2\" function: {return_output} -> {type(return_output)}')\n",
    "\n",
    "return_multi_outputs = inventory_3('apple', 2000, 0.3)\n",
    "print(f'\\nOutput for the \"inventory_3\" function: {return_multi_outputs} -> {type(return_multi_outputs)}')"
   ]
  },
  {
   "cell_type": "markdown",
   "metadata": {},
   "source": [
    "#### 4.1 Function Parameters and Arguments\n",
    "\n",
    "Zero ore more Parameters are created and passed into the Function when defining a Function. While, Arguments are the \"real\" values that are passed into a Function. Various constructs are applied to Parameters and Arguments:\n",
    "* Positional Arguments\n",
    "* Keyword Arguments\n",
    "* Tuple and Dictionary Packing Arguments\n",
    "* Positional- or Keyword-Only Arguments"
   ]
  },
  {
   "cell_type": "code",
   "execution_count": 25,
   "metadata": {},
   "outputs": [
    {
     "name": "stdout",
     "output_type": "stream",
     "text": [
      "apple -- QTY: 2000 -- PRICE: 0.3\n",
      "orange -- QTY: 1000 -- PRICE: 0.6\n",
      "orange -- QTY: 1000 -- PRICE: 0.6\n"
     ]
    }
   ],
   "source": [
    "#Functions may use the of positional and/or keyword arguments when the function is invoked \n",
    "\n",
    "inventory_1('apple', 2000, 0.3)                     #Positional arguments must be supplied in the order based on the Function Definition; the Function call must be supplied with the exact number of parameters\n",
    "inventory_1(qty=1000, item='orange', price=0.6)     #Keyword arguments can be supplied in any order; however, the Function call must be supplied with the exact number of parameters\n",
    "inventory_1('orange', price=0.6, qty=1000)          #Python supports the use of both Positional and Keyword arguments; however, Positional arguments must be supplied first, then Keyword arguments"
   ]
  },
  {
   "cell_type": "code",
   "execution_count": 26,
   "metadata": {},
   "outputs": [
    {
     "name": "stdout",
     "output_type": "stream",
     "text": [
      "Output - All Default Values: no name -- QTY: 0 -- PRICE: 0.01\n",
      "\n",
      "Output - Partial Default Values: pineapple -- QTY: 3500 -- PRICE: 0.01\n",
      "\n",
      "Output - Partial Default Values: no name -- QTY: 2600 -- PRICE: 0.6\n",
      "\n"
     ]
    }
   ],
   "source": [
    "#Fucntions may be supplied parameters that have default values; if a function is called without one or more arguments, these values are automatically supplied\n",
    "\n",
    "#Working with immutable default values when defining paramters\n",
    "\n",
    "def inventory_updated(item='no name', qty=0, price=0.01):\n",
    "  return f'{item} -- QTY: {qty} -- PRICE: {price}'\n",
    "\n",
    "output_missing_inputs_1 = inventory_updated()                               #No arguments supplied --> item='no name', qty=0, price=0.01\n",
    "print(f'Output - All Default Values: {output_missing_inputs_1}\\n')\n",
    "\n",
    "output_missing_inputs_2 = inventory_updated('pineapple', 3500)              #Not all Positional arguments supplied -->  item='pineapple', qty=3500, price=0.01\n",
    "print(f'Output - Partial Default Values: {output_missing_inputs_2}\\n')\n",
    "\n",
    "output_missing_inputs_3 = inventory_updated(qty=2600, price=0.6)            #Not all Keyword arguments supplied -->  item='no name', qty=2600, price=0.6\n",
    "print(f'Output - Partial Default Values: {output_missing_inputs_3}\\n')"
   ]
  },
  {
   "cell_type": "code",
   "execution_count": 27,
   "metadata": {},
   "outputs": [
    {
     "name": "stdout",
     "output_type": "stream",
     "text": [
      "Expected Output: [1, 2, 3, 4, 5]\n",
      "\n",
      "Expected Output: ['a']\n",
      "Unxpected Output: ['a', 'a']\n",
      "Unxpected Output: ['a', 'a', 'b']\n",
      "\n",
      "Expected Output: [4, 5, 6, 7, 8]\n",
      "\n",
      "Unxpected Output: ['a', 'a', 'b', 1]\n"
     ]
    }
   ],
   "source": [
    "#Working with mutable default values when defining paramters\n",
    "\n",
    "def append_to_list(list_input=[], item=''):\n",
    "  list_input.append(item)\n",
    "  return list_input\n",
    "\n",
    "normal_output = append_to_list([1,2,3,4], 5)                    #Correct arguments supplied\n",
    "print(f'Expected Output: {normal_output}\\n')\n",
    "\n",
    "print(f'Expected Output: {append_to_list(item=\"a\")}')           #One or more of the arguments are not supplied\n",
    "print(f'Unxpected Output: {append_to_list(item=\"a\")}')          #When the Function is defined, the default value is also defined and set (in the namespace) as an accessible object;\n",
    "print(f'Unxpected Output: {append_to_list(item=\"b\")}\\n')          #Everytime the default value is required, the same object is retrieved/used with the previous mutations;\n",
    "print(f'Expected Output: {append_to_list([4,5,6,7], 8)}\\n')       #Even when the Function is called correctly, it does not reset the default value;\n",
    "print(f'Unxpected Output: {append_to_list(item=1)}')            #Common pitfall of mutable objects as default values and it should be avoided"
   ]
  },
  {
   "cell_type": "code",
   "execution_count": 28,
   "metadata": {},
   "outputs": [
    {
     "name": "stdout",
     "output_type": "stream",
     "text": [
      "Expected Output: [1, 2, 3, 4, 5]\n",
      "\n",
      "Expected Output: ['']\n",
      "\n",
      "Expected Output: ['a']\n",
      "\n",
      "Expected Output: [1]\n",
      "\n"
     ]
    }
   ],
   "source": [
    "#Working with mutable default values\n",
    "\n",
    "def append_to_list_updated(list_input=None, item=''):       #Implement workaround by with immutable value (e.g., None is a common choice)\n",
    "  if list_input is None:\n",
    "    list_input = []\n",
    "  list_input.append(item)\n",
    "  return list_input\n",
    "\n",
    "normal_output = append_to_list_updated([1,2,3,4], 5)        #Correct arguments supplied\n",
    "print(f'Expected Output: {normal_output}\\n')\n",
    "\n",
    "print(f'Expected Output: {append_to_list_updated()}\\n')             #One or more of the arguments are not supplied\n",
    "print(f'Expected Output: {append_to_list_updated(item=\"a\")}\\n')     #One or more of the arguments are not supplied\n",
    "print(f'Expected Output: {append_to_list_updated(item=1)}\\n')       #One or more of the arguments are not supplied"
   ]
  },
  {
   "cell_type": "code",
   "execution_count": 29,
   "metadata": {},
   "outputs": [
    {
     "name": "stdout",
     "output_type": "stream",
     "text": [
      "Output: orange -- QTY: 5000 -- PRICE: 0.4\n",
      "Output: orange\n",
      "Output: orange -- QTY: 5000 -- PRICE: 0.4--> NEW ITEM for SALE\n",
      "Output: ['ORANGE', 'QTY: 5000', 'PRICE: 0.4']\n",
      "\n",
      "\n",
      "Output: [3, 4, 5]\n",
      "Output: [5, 4, 3, 2, 1]\n",
      "Output: 5\n",
      "\n",
      "Unpexpected Output: None\n",
      "Fixed Output: [1, 2, 3, 4, 5, 6]\n"
     ]
    }
   ],
   "source": [
    "#Working with return values and objects\n",
    "\n",
    "#May support the chaining of one or more permitted operators and methods based on the data type that is returned \n",
    "def inventory_2(item, qty, price):\n",
    "  return(f'{item} -- QTY: {qty} -- PRICE: {price}')\n",
    "\n",
    "print(f'Output: {inventory_2(\"orange\", 5000, 0.4)}')\n",
    "print(f'Output: {inventory_2(\"orange\", 5000, 0.4)[:6]}')\n",
    "print(f'Output: {inventory_2(\"orange\", 5000, 0.4) + \"--> NEW ITEM for SALE\"}')\n",
    "print(f'Output: {inventory_2(\"orange\", 5000, 0.4).upper().split(\" -- \")}')\n",
    "print('\\n')\n",
    "\n",
    "#May support the chaining of one or more permitted operators and methods based on the data type that is returned \n",
    "def append_to_list_updated(list_input=None, item=''):\n",
    "  if list_input is None:\n",
    "    list_input = []\n",
    "  list_input.append(item)\n",
    "  return list_input\n",
    "\n",
    "print(f'Output: {append_to_list_updated([1,2,3,4], 5)[2:]}')\n",
    "print(f'Output: {sorted(append_to_list_updated([1,2,3,4], 5),  reverse=True)}')\n",
    "print(f'Output: {append_to_list_updated([1,2,3,4], 5).pop()}\\n')\n",
    "\n",
    "print(f'Unpexpected Output: {append_to_list_updated([1,2,3,4], 5).append(6)}')      #Note: Unexpected output for this operation\n",
    "\n",
    "updated_list = append_to_list_updated([1,2,3,4], 5)\n",
    "updated_list.append(6)                                                              #Append method modifies the list object in place and returns None \n",
    "print(f'Fixed Output: {updated_list}')                                              #Return the underlying list object rather than the None object from the Append operation\n"
   ]
  },
  {
   "cell_type": "code",
   "execution_count": 30,
   "metadata": {},
   "outputs": [
    {
     "name": "stdout",
     "output_type": "stream",
     "text": [
      "Output: 1.0\n",
      "Output: 2.5\n",
      "Output: 3.6666666666666665\n",
      "Output: 5.6\n"
     ]
    }
   ],
   "source": [
    "#Multiple approaches available unknown number of arguments or \"variable length\" arguments\n",
    "\n",
    "#Force the input to be supplied as into a collection/sequence based object --> Not ideal\n",
    "def avg(list_nums):\n",
    "    total = 0\n",
    "    for num in list_nums:\n",
    "        total += num\n",
    "    \n",
    "    return total/len(list_nums)\n",
    "\n",
    "print(f'Output: {avg([1])}')\n",
    "print(f'Output: {avg([2,3])}')\n",
    "print(f'Output: {avg([2,3,6])}')\n",
    "print(f'Output: {avg([2,3,6,8,9])}')"
   ]
  },
  {
   "cell_type": "code",
   "execution_count": 31,
   "metadata": {},
   "outputs": [
    {
     "name": "stdout",
     "output_type": "stream",
     "text": [
      "Input: (3,) -> <class 'tuple'>\n",
      "Output: 3.0\n",
      "\n",
      "Input: (2, 3) -> <class 'tuple'>\n",
      "Output: 2.5\n",
      "\n",
      "Input: (2, 3, 6) -> <class 'tuple'>\n",
      "Output: 3.6666666666666665\n",
      "\n",
      "Input: (2, 3, 6, 8, 9) -> <class 'tuple'>\n",
      "Output: 5.6\n",
      "\n",
      "Output: 5\n"
     ]
    }
   ],
   "source": [
    "#Utilize Argument Tuple Packing which groups all pf the individual inputs/arguments (separated by a comma) into a Tuple\n",
    "def avg_2(*args):                           #Use * operator for Argument Tuple Packing on the Function definition\n",
    "  print(f'Input: {args} -> {type(args)}')   #Check the input value(s) and data type\n",
    "  \n",
    "  total = 0\n",
    "  for num in args:\n",
    "    total += num\n",
    "  \n",
    "  return total/len(args)\n",
    "\n",
    "print(f'Output: {avg_2(3)}\\n')\n",
    "print(f'Output: {avg_2(2,3)}\\n')\n",
    "print(f'Output: {avg_2(2,3,6)}\\n')\n",
    "print(f'Output: {avg_2(2,3,6,8,9)}\\n')\n",
    "\n",
    "\n",
    "#Utilize Argument Tuple Packing to collect unwanted or unneeded inputs\n",
    "def basic_fn(a=0, b=0, *c):\n",
    "  #print(c, type(c))\n",
    "  return a + b                #Operation only performed on the first two Positional arguments\n",
    "\n",
    "print(f'Output: {basic_fn(2,3,7,9,\"a\",\"b\",{5,6,7})}')"
   ]
  },
  {
   "cell_type": "code",
   "execution_count": 32,
   "metadata": {},
   "outputs": [
    {
     "name": "stdout",
     "output_type": "stream",
     "text": [
      "Output: apple -- QTY: 6500 -- PRICE: 0.4\n",
      "Output: apple -- QTY: 6500 -- PRICE: 0.4\n"
     ]
    }
   ],
   "source": [
    "#Utilize Argument Tuple Unpacking which extract individual values from a Tuple or collection-based object and supply the Positional arguments\n",
    "def inventory_updated(item='no name', qty=0, price=0.01):\n",
    "  return f'{item} -- QTY: {qty} -- PRICE: {price}'\n",
    "\n",
    "inv_item_tuple = ('apple', 6500, 0.4)\n",
    "print(f'Output: {inventory_updated(inv_item_tuple[0], inv_item_tuple[1], inv_item_tuple[2])}')    #Extract valuses using indexes --> Inefficient and loweres readability\n",
    "print(f'Output: {inventory_updated(*inv_item_tuple)}')                                            #Use * operator for Argument Tuple Unpacking during the Function call"
   ]
  },
  {
   "cell_type": "code",
   "execution_count": 33,
   "metadata": {},
   "outputs": [
    {
     "name": "stdout",
     "output_type": "stream",
     "text": [
      "Input: {'a': 1, 'b': 2, 'c': 3} -> <class 'dict'>\n",
      "Key: a --> New Value: 1\n",
      "Key: b --> New Value: 16\n",
      "Key: c --> New Value: 81\n",
      "\n",
      "\n",
      "Output: apple -- QTY: 6500 -- PRICE: 0.4\n"
     ]
    }
   ],
   "source": [
    "#Utilize Argument Dictionary Packing which groups all pf the individual keyword arguments (separated by a comma) into a Dictionary\n",
    "def processor(**kwargs):                                        #Use ** operator for Argument Dictionary Packing on the Function definition\n",
    "  print(f'Input: {kwargs} -> {type(kwargs)}')\n",
    "  \n",
    "  for key, value in kwargs.items():\n",
    "    print(f'Key: {key} --> New Value: {value ** 4}')\n",
    "\n",
    "processor(a=1, b=2, c=3)\n",
    "print('\\n')\n",
    "\n",
    "#Utilize Argument Dictionary Unpacking which extract individual values from a Dictionary and supply the Keyword arguments\n",
    "def inventory_updated(item='no name', qty=0, price=0.01):\n",
    "  return f'{item} -- QTY: {qty} -- PRICE: {price}'\n",
    "\n",
    "inv_item_dict = {'item': 'apple', 'qty': 6500, 'price': 0.4}\n",
    "print(f'Output: {inventory_updated(**inv_item_dict)}')          #Use ** operator for Argument Dictionary Unpacking during the Function call"
   ]
  },
  {
   "cell_type": "code",
   "execution_count": 34,
   "metadata": {},
   "outputs": [
    {
     "name": "stdout",
     "output_type": "stream",
     "text": [
      "Output: 12\n",
      "Output: 24\n",
      "\n",
      "Output: 10\n",
      "Output: 32\n"
     ]
    }
   ],
   "source": [
    "#Restrict Functions inputs to Keyword-only or Positional-only arguments\n",
    "\n",
    "#Utilize the bare * operator within Function definition to indicate any parameters supplied after the * operator must be provided as a Keyword argument when the Function is called\n",
    "def compute(val_1, val_2, *, operator):\n",
    "  if operator == \"+\":\n",
    "    return val_1 + val_2\n",
    "  elif operator == \"-\":\n",
    "    return val_1 - val_2\n",
    "  elif operator == \"*\":\n",
    "    return val_1 * val_2\n",
    "\n",
    "compute_output = compute(3, 4, operator='*')\n",
    "print(f'Output: {compute_output}')\n",
    "compute_output_1 = compute(val_1=4, val_2=6, operator='*')      #Note: The parameters infront of the * operator can be supplied as Positional or Keyword arguments\n",
    "print(f'Output: {compute_output_1}\\n')\n",
    "\n",
    "#Utilize the bare / operator within Function definition to indicate any parameters supplied before the / operator must be provided as a Positional argument when the Function is called\n",
    "def compute_2(val_1, val_2, /, operator):\n",
    "  if operator == \"+\":\n",
    "    return val_1 + val_2\n",
    "  elif operator == \"-\":\n",
    "    return val_1 - val_2\n",
    "  elif operator == \"*\":\n",
    "    return val_1 * val_2\n",
    "\n",
    "compute_output_2 = compute_2(5, 2, operator='*')\n",
    "print(f'Output: {compute_output_2}')\n",
    "compute_output_3 = compute_2(4, 8, '*')                         #Note: The parameters after of the / operator can be supplied as Positional or Keyword arguments\n",
    "print(f'Output: {compute_output_3}')"
   ]
  },
  {
   "cell_type": "markdown",
   "metadata": {},
   "source": [
    "#### 4.2 Nested Functions\n",
    "\n",
    "Similar to many different other Python constructs, Functions support nesting, which support defining child Functions within parent Functions. These child Functions can be accessed and utilized by directly calling them within the parent function or returning the child Functions are objects."
   ]
  },
  {
   "cell_type": "code",
   "execution_count": 35,
   "metadata": {},
   "outputs": [
    {
     "name": "stdout",
     "output_type": "stream",
     "text": [
      "Output from Child Function 1\n",
      "Output from Child Function 2\n"
     ]
    }
   ],
   "source": [
    "#Child Functions defined within a Parent Function and called within the Parent Function\n",
    "\n",
    "def parent_function():\n",
    "\n",
    "  def child_function_1():       #Child functions are only available locally within the parent Function \n",
    "    print('Output from Child Function 1')\n",
    "\n",
    "  def child_function_2():       #Child functions are only available locally within the parent Function\n",
    "    print('Output from Child Function 2')\n",
    "\n",
    "  child_function_1()            #Child Functions are not executed until the parent Function is called \n",
    "  child_function_2()            #Child Functions are not executed until the parent Function is called\n",
    "\n",
    "\n",
    "parent_function()\n",
    "#child_function_1()             #--> Raise Exception (NameError) since the child Function is locally available within the parent Function and is not present within the Gobal namespace"
   ]
  },
  {
   "cell_type": "code",
   "execution_count": 36,
   "metadata": {},
   "outputs": [
    {
     "name": "stdout",
     "output_type": "stream",
     "text": [
      "Object Pointing to Child Function 1: <function parent_function.<locals>.child_function_1 at 0x000001FE52E26AF0>\n",
      "Calling Child Function 1: Output from Child Function 1\n",
      "\n",
      "Object Pointing to Child Function 2: <function parent_function.<locals>.child_function_2 at 0x000001FE53E041F0>\n",
      "Calling Child Function 2: Output from Child Function 2\n"
     ]
    }
   ],
   "source": [
    "#Child Functions defined within a Parent Function and returned as object from the Parent Function\n",
    "\n",
    "def parent_function(input_value):\n",
    "  #print('Print from parent function')\n",
    "\n",
    "  def child_function_1():\n",
    "    return 'Output from Child Function 1'\n",
    "\n",
    "  def child_function_2():\n",
    "    return 'Output from Child Function 2'\n",
    "\n",
    "  if input_value >= 0:\n",
    "    return child_function_1                                     #Child Functions are not executed;\n",
    "  else:                                                         #However, are returned as objects that are available to higher order namespace (e.g., Gobal namesapce)\n",
    "    return child_function_2\n",
    "\n",
    "first_output = parent_function(4)\n",
    "print(f'Object Pointing to Child Function 1: {first_output}')\n",
    "print(f'Calling Child Function 1: {first_output()}\\n')          #Once the Function object is associated with the variable, it can be called/invoked under the \"new name\"\n",
    "\n",
    "second_output = parent_function(-7)\n",
    "print(f'Object Pointing to Child Function 2: {second_output}')\n",
    "print(f'Calling Child Function 2: {second_output()}')"
   ]
  },
  {
   "cell_type": "code",
   "execution_count": 1,
   "metadata": {},
   "outputs": [
    {
     "name": "stdout",
     "output_type": "stream",
     "text": [
      "Starting Wrapper Func...\n",
      "Enter username: john doe\n",
      "Output: JOHN DOE\n"
     ]
    }
   ],
   "source": [
    "#Decorators are support the addition, modification and extension of Functions (and Classes).\n",
    "#This is achieved by developing and utilizing Wrapper Functions, which can be applied to other Functions that augment the underlying behaviour\n",
    "\n",
    "#Warpper Function Template\n",
    "'''\n",
    "def wrapper_fn(func):                               #Given that Functions are objects, Functions can be passed as  arguments into other Functions (i.e., Callable Objects)\n",
    "  \n",
    "  def wrapper_operation_1():\n",
    "    fn_ouput = func()\n",
    "    update_output = 1+ operations on fn_ouput\n",
    "    return update_output\n",
    "\n",
    "  return wrapper_operation_1\n",
    "'''\n",
    "\n",
    "#Build and utilize Wrapper Function without Decorators\n",
    "def user_input():\n",
    "  value = input('Enter username: ')\n",
    "  return value\n",
    "\n",
    "def uppercase_transformer(func):\n",
    "  print('Starting Wrapper Func...')\n",
    "\n",
    "  def wrapper_operation():\n",
    "    org_output = func()\n",
    "    new_output = org_output.upper()\n",
    "    return new_output\n",
    "\n",
    "  return wrapper_operation\n",
    "\n",
    "transform_user_input = uppercase_transformer(user_input)\n",
    "user_name = transform_user_input()\n",
    "print(f'Output: {user_name}')"
   ]
  },
  {
   "cell_type": "code",
   "execution_count": 2,
   "metadata": {},
   "outputs": [
    {
     "name": "stdout",
     "output_type": "stream",
     "text": [
      "Starting Wrapper Func...\n",
      "Enter username: john doe\n",
      "JOHN DOE\n"
     ]
    }
   ],
   "source": [
    "#Build and utilize Wrapper Function with Decorators\n",
    "def uppercase_transformer(func):\n",
    "  print('Starting Wrapper Func...')\n",
    "\n",
    "  def wrapper_operation():\n",
    "    org_output = func()\n",
    "    new_output = org_output.upper()\n",
    "    return new_output\n",
    "\n",
    "  return wrapper_operation\n",
    "\n",
    "@uppercase_transformer\n",
    "def user_input():\n",
    "  value = input('Enter username: ')\n",
    "  return value\n",
    "\n",
    "transform_user_input = user_input()   #Achieved the same output as above; however, the Function call was simplified\n",
    "print(transform_user_input)"
   ]
  },
  {
   "cell_type": "code",
   "execution_count": 3,
   "metadata": {},
   "outputs": [
    {
     "name": "stdout",
     "output_type": "stream",
     "text": [
      "Starting Wrapper Func...\n",
      "Enter username: john doe\n",
      "['JOHN', 'DOE']\n"
     ]
    }
   ],
   "source": [
    "#Build and utilize Multiple Wrapper Functions with Decorators\n",
    "def uppercase_transformer(func):\n",
    "  print('Starting Wrapper Func...')\n",
    "\n",
    "  def wrapper_operation():\n",
    "    org_output = func()\n",
    "    new_str_output = org_output.upper()\n",
    "    return new_str_output\n",
    "\n",
    "  return wrapper_operation\n",
    "\n",
    "def listify(func):\n",
    "  def wrapper_operation():\n",
    "      org_output = func()\n",
    "      list_output = org_output.split()\n",
    "      return list_output\n",
    "  return wrapper_operation\n",
    "\n",
    "@listify                                  #Multiple Decorators can be added a Function definition;\n",
    "@uppercase_transformer                    #However, order matters as closest Decorator to <<def FUNCTION_NAME()>> is applied first\n",
    "def user_input():\n",
    "  value = input('Enter username: ')\n",
    "  return value\n",
    "\n",
    "transform_user_input = user_input()\n",
    "print(transform_user_input)"
   ]
  },
  {
   "cell_type": "code",
   "execution_count": 1,
   "metadata": {
    "colab": {
     "base_uri": "https://localhost:8080/",
     "height": 35
    },
    "id": "-gPvQ9K8W5Qp",
    "outputId": "1422955c-639f-4938-c9ab-3a6b5dc1c16c"
   },
   "outputs": [
    {
     "name": "stdout",
     "output_type": "stream",
     "text": [
      "Output: The factorial of 4 is 24.\n"
     ]
    }
   ],
   "source": [
    "#Function Recursion is a special case for Nested Functions where a Function calls itself\n",
    "def factorial(n):\n",
    "  if n == 0 or n == 1:\n",
    "    return 1\n",
    "  else:\n",
    "    return n * factorial(n-1)   #Function calls itself with a smaller argument eventually this will drop to 1 and then the recursion stops\n",
    "\n",
    "number_value = 4\n",
    "print(f'Output: The factorial of {number_value} is {factorial(number_value)}.')"
   ]
  },
  {
   "cell_type": "markdown",
   "metadata": {
    "id": "tOpIQtoW82c4"
   },
   "source": [
    "#### 4.3 Documenting a Function"
   ]
  },
  {
   "cell_type": "code",
   "execution_count": 9,
   "metadata": {
    "colab": {
     "base_uri": "https://localhost:8080/"
    },
    "id": "NQWSELXsYA3K",
    "outputId": "c8bea428-08c4-43ba-9ff5-534f49b74a06"
   },
   "outputs": [
    {
     "name": "stdout",
     "output_type": "stream",
     "text": [
      "Help on function commission_calc in module __main__:\n",
      "\n",
      "commission_calc(amount)\n",
      "    The first line should briefly describe the function.\n",
      "    Subsequent lines should be more detailed, explaning\n",
      "    every aspect of the function\n",
      "    \n",
      "    e.g.,\n",
      "    Calculates and return the sales commission given the sales ammount.\n",
      "    If the sales amount is below 5000, commission is zero\n",
      "    Sales between 5000 and 10000 rate is 0.1%\n",
      "    Sales above 1000 rate is 0.15% of the entire amount\n",
      "\n",
      "Output: The commission on 2300 is 0.00.\n",
      "Output: The commission on 8000 is 800.00.\n",
      "Output: The commission on 12000 is 1800.00.\n"
     ]
    }
   ],
   "source": [
    "#Utilize Docstring and single or multi- line Comments where appropriate\n",
    "\n",
    "def commission_calc(amount):\n",
    "  \n",
    "  '''\n",
    "  The first line should briefly describe the function.\n",
    "  Subsequent lines should be more detailed, explaning\n",
    "  every aspect of the function\n",
    "  \n",
    "  e.g.,\n",
    "  Calculates and return the sales commission given the sales ammount.\n",
    "  If the sales amount is below 5000, commission is zero\n",
    "  Sales between 5000 and 10000 rate is 0.1%\n",
    "  Sales above 1000 rate is 0.15% of the entire amount\n",
    "  '''\n",
    "\n",
    "  if amount < 5000:\n",
    "    return 0                #No commission\n",
    "  elif amount < 10000:\n",
    "    return 0.10 * amount    #First tier commission\n",
    "  else:\n",
    "    return 0.15 * amount    #Second tier commission\n",
    "\n",
    "\n",
    "help(commission_calc)       #prints information on the function\n",
    "\n",
    "\n",
    "sale_1 = 2300\n",
    "print(f'Output: The commission on {sale_1} is {commission_calc(sale_1):.2f}.')\n",
    "sale_2 = 8000\n",
    "print(f'Output: The commission on {sale_2} is {commission_calc(sale_2):.2f}.')\n",
    "sale_3 = 12000\n",
    "print(f'Output: The commission on {sale_3} is {commission_calc(sale_3):.2f}.')\n"
   ]
  }
 ],
 "metadata": {
  "colab": {
   "provenance": []
  },
  "kernelspec": {
   "display_name": "Python 3 (ipykernel)",
   "language": "python",
   "name": "python3"
  },
  "language_info": {
   "codemirror_mode": {
    "name": "ipython",
    "version": 3
   },
   "file_extension": ".py",
   "mimetype": "text/x-python",
   "name": "python",
   "nbconvert_exporter": "python",
   "pygments_lexer": "ipython3",
   "version": "3.9.12"
  }
 },
 "nbformat": 4,
 "nbformat_minor": 1
}
