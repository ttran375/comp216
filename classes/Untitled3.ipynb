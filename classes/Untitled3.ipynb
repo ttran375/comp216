{
  "cells": [
    {
      "cell_type": "markdown",
      "metadata": {
        "id": "_3i9JDAfMM4I"
      },
      "source": [
        "Advanced Functions"
      ]
    },
    {
      "cell_type": "code",
      "execution_count": null,
      "metadata": {
        "colab": {
          "base_uri": "https://localhost:8080/"
        },
        "id": "QdzkBjhiL6F9",
        "outputId": "353ec220-cacb-43c8-d429-1ebfb6e8190f"
      },
      "outputs": [
        {
          "name": "stdout",
          "output_type": "stream",
          "text": [
            "Print from parent function\n"
          ]
        },
        {
          "data": {
            "text/plain": [
              "('Print from child function 1', 'Print from child function 2')"
            ]
          },
          "execution_count": 4,
          "metadata": {},
          "output_type": "execute_result"
        }
      ],
      "source": [
        "def parent_fn():\n",
        "  print('Print from parent function')\n",
        "\n",
        "  def child_fn_1():\n",
        "    return 'Print from child function 1'\n",
        "\n",
        "  def child_fn_2():\n",
        "    return 'Print from child function 2'\n",
        "\n",
        "  return (child_fn_1(), child_fn_2())\n",
        "\n",
        "parent_fn()"
      ]
    },
    {
      "cell_type": "code",
      "execution_count": null,
      "metadata": {
        "colab": {
          "base_uri": "https://localhost:8080/"
        },
        "id": "-WrgrPwoNonF",
        "outputId": "f9787d76-4983-4aba-858f-14b4d2bc06c5"
      },
      "outputs": [
        {
          "name": "stdout",
          "output_type": "stream",
          "text": [
            "Print from parent function\n",
            "<function parent_fn.<locals>.child_fn_1 at 0x7c703d309510>\n",
            "Print from child function 1\n",
            "Print from parent function\n",
            "<function parent_fn.<locals>.child_fn_2 at 0x7c703d309630>\n",
            "Print from child function 2\n"
          ]
        }
      ],
      "source": [
        "def parent_fn(input_value):\n",
        "  print('Print from parent function')\n",
        "\n",
        "  def child_fn_1():\n",
        "    return 'Print from child function 1'\n",
        "\n",
        "  def child_fn_2():\n",
        "    return 'Print from child function 2'\n",
        "\n",
        "  if input_value >= 0:\n",
        "    return child_fn_1\n",
        "  else:\n",
        "    return child_fn_2\n",
        "\n",
        "first_output = parent_fn(4)\n",
        "print(first_output)\n",
        "print(first_output())\n",
        "second_output = parent_fn(-7)\n",
        "print(second_output)\n",
        "print(second_output())"
      ]
    },
    {
      "cell_type": "code",
      "execution_count": null,
      "metadata": {
        "id": "X9dX54fkPKzx"
      },
      "outputs": [],
      "source": [
        "#Decoractor or Wrapper Functions\n",
        "\n",
        "'''\n",
        "def wrapper_fn(func):\n",
        "  def wrapper_operation_1():\n",
        "    fn_ouput = func()\n",
        "    operation...\n",
        "    return update_output\n",
        "\n",
        "  return wrapper_operation_1\n",
        "'''"
      ]
    },
    {
      "cell_type": "code",
      "execution_count": null,
      "metadata": {
        "colab": {
          "base_uri": "https://localhost:8080/"
        },
        "id": "pI6XoHBqQGNl",
        "outputId": "e94e639b-f48f-49b1-b443-f40aaeb64147"
      },
      "outputs": [
        {
          "name": "stdout",
          "output_type": "stream",
          "text": [
            "Starting wrapper func\n",
            "Enter username: rissan devaraja\n",
            "RISSAN DEVARAJA\n"
          ]
        }
      ],
      "source": [
        "def user_input():\n",
        "  value = input('Enter username: ')\n",
        "  return value\n",
        "\n",
        "def uppercase_transformer(func):\n",
        "  print('Starting wrapper func')\n",
        "\n",
        "  def wrapper_operation():\n",
        "    org_output = func()\n",
        "    new_output = org_output.upper()\n",
        "    return new_output\n",
        "\n",
        "  return wrapper_operation\n",
        "\n",
        "a = uppercase_transformer(user_input)\n",
        "b = a()\n",
        "print(b)"
      ]
    },
    {
      "cell_type": "code",
      "execution_count": null,
      "metadata": {
        "colab": {
          "base_uri": "https://localhost:8080/"
        },
        "id": "lUPk5B-6R3eu",
        "outputId": "51214948-7bba-461a-868d-ffecccc6362c"
      },
      "outputs": [
        {
          "name": "stdout",
          "output_type": "stream",
          "text": [
            "Starting wrapper func\n",
            "Enter username: rissan devaraja\n",
            "RISSAN DEVARAJA\n"
          ]
        }
      ],
      "source": [
        "def uppercase_transformer(func):\n",
        "  print('Starting wrapper func')\n",
        "\n",
        "  def wrapper_operation():\n",
        "    org_output = func()\n",
        "    new_output = org_output.upper()\n",
        "    return new_output\n",
        "\n",
        "  return wrapper_operation\n",
        "\n",
        "@uppercase_transformer\n",
        "def user_input():\n",
        "  value = input('Enter username: ')\n",
        "  return value\n",
        "\n",
        "c = user_input()\n",
        "print(c)"
      ]
    },
    {
      "cell_type": "code",
      "execution_count": null,
      "metadata": {
        "colab": {
          "base_uri": "https://localhost:8080/"
        },
        "id": "cAUnSxbDSfgp",
        "outputId": "e3c333db-5fd1-4461-838d-73037a47684b"
      },
      "outputs": [
        {
          "name": "stdout",
          "output_type": "stream",
          "text": [
            "Starting wrapper func\n",
            "Enter username: r i s s a n d e v a\n"
          ]
        },
        {
          "data": {
            "text/plain": [
              "['R', 'I', 'S', 'S', 'A', 'N', 'D', 'E', 'V', 'A']"
            ]
          },
          "execution_count": 28,
          "metadata": {},
          "output_type": "execute_result"
        }
      ],
      "source": [
        "def uppercase_transformer(func):\n",
        "  print('Starting wrapper func')\n",
        "  def wrapper_operation():\n",
        "    org_output = func()\n",
        "    new_output = org_output.upper()\n",
        "    return new_output\n",
        "\n",
        "  return wrapper_operation\n",
        "\n",
        "'''def listify(func): --> Bad implementation because none obj is returned\n",
        "  def wrapper_operation():\n",
        "    org_output = func()\n",
        "    list_output = org_output.split()\n",
        "    return list_output'''\n",
        "\n",
        "def listify_1(func):\n",
        "  def wrapper_operation():\n",
        "      org_output = func()\n",
        "      list_output = org_output.split()\n",
        "      return list_output\n",
        "  return wrapper_operation\n",
        "\n",
        "@listify_1\n",
        "@uppercase_transformer\n",
        "def user_input_1():\n",
        "  value = input('Enter username: ')\n",
        "  return value\n",
        "\n",
        "user_input_1()\n"
      ]
    },
    {
      "cell_type": "markdown",
      "metadata": {
        "id": "foUJodMgV92R"
      },
      "source": [
        "Classes & Objects"
      ]
    },
    {
      "cell_type": "code",
      "execution_count": null,
      "metadata": {
        "colab": {
          "base_uri": "https://localhost:8080/"
        },
        "id": "7M4zNYLvUtxw",
        "outputId": "9b85dda0-4feb-467a-968f-2c49a1fc7151"
      },
      "outputs": [
        {
          "name": "stdout",
          "output_type": "stream",
          "text": [
            "<__main__.Rect object at 0x7c70276521d0>\n"
          ]
        }
      ],
      "source": [
        "class Rect:\n",
        "  #Class attributes\n",
        "\n",
        "  def __init__(self, length, width):\n",
        "    self.length = length\n",
        "    self.width = width\n",
        "\n",
        "rectangle_1 = Rect(4,6)\n",
        "print(rectangle_1)"
      ]
    },
    {
      "cell_type": "code",
      "execution_count": null,
      "metadata": {
        "colab": {
          "base_uri": "https://localhost:8080/"
        },
        "id": "nldO1Js9W9g5",
        "outputId": "76f82af9-b12f-4f23-9a6a-2b0a1f981fc6"
      },
      "outputs": [
        {
          "name": "stdout",
          "output_type": "stream",
          "text": [
            "Creating new instance of Rect\n",
            "Initializing Rect with length and width\n",
            "4 6\n",
            "9 6\n",
            "Red\n"
          ]
        }
      ],
      "source": [
        "class Rect:\n",
        "  #Class attributes\n",
        "  def __new__(cls, *args, **kwargs):\n",
        "    print('Creating new instance of Rect')\n",
        "    return super().__new__(cls)\n",
        "\n",
        "  def __init__(self, length, width):\n",
        "    print('Initializing Rect with length and width')\n",
        "    self.length = length\n",
        "    self.width = width\n",
        "    self.colour = 'Red'\n",
        "\n",
        "rectangle_1 = Rect(4,6)\n",
        "#print(rectangle_1)\n",
        "print(rectangle_1.length, rectangle_1.width)\n",
        "\n",
        "rectangle_1.length = 9\n",
        "print(rectangle_1.length, rectangle_1.width)\n",
        "print(rectangle_1.colour)"
      ]
    },
    {
      "cell_type": "code",
      "execution_count": null,
      "metadata": {
        "colab": {
          "base_uri": "https://localhost:8080/"
        },
        "id": "asDByPohYWiD",
        "outputId": "705d7852-a0e3-4820-dabc-4736db3c9305"
      },
      "outputs": [
        {
          "name": "stdout",
          "output_type": "stream",
          "text": [
            "{'__module__': '__main__', '__new__': <staticmethod(<function Rect.__new__ at 0x7c7027708ca0>)>, '__init__': <function Rect.__init__ at 0x7c7027709090>, '__dict__': <attribute '__dict__' of 'Rect' objects>, '__weakref__': <attribute '__weakref__' of 'Rect' objects>, '__doc__': None, '__annotations__': {}}\n",
            "{'length': 9, 'width': 6, 'colour': 'Red'}\n",
            "{'length': 9, 'width': 6, 'colour': 'Red', 'size': 'large'}\n"
          ]
        }
      ],
      "source": [
        "print(Rect.__dict__)\n",
        "print(rectangle_1.__dict__)\n",
        "rectangle_1.size = 'large'\n",
        "print(rectangle_1.__dict__)"
      ]
    },
    {
      "cell_type": "code",
      "execution_count": null,
      "metadata": {
        "colab": {
          "base_uri": "https://localhost:8080/"
        },
        "id": "D4xDbEfyZFxE",
        "outputId": "c5f0a673-99d0-4193-c5ce-bb83e67a897b"
      },
      "outputs": [
        {
          "name": "stdout",
          "output_type": "stream",
          "text": [
            "<__main__.Rect object at 0x7c7027823250>\n",
            "4\n",
            "8\n"
          ]
        }
      ],
      "source": [
        "class Rect:\n",
        "  #Class attributes\n",
        "\n",
        "  def __init__(self, length, width):\n",
        "    self._length = length\n",
        "    self._width = width\n",
        "\n",
        "rectangle_1 = Rect(4,6)\n",
        "print(rectangle_1)\n",
        "\n",
        "print(rectangle_1._length)\n",
        "rectangle_1._length = 8\n",
        "print(rectangle_1._length)"
      ]
    },
    {
      "cell_type": "code",
      "execution_count": null,
      "metadata": {
        "colab": {
          "base_uri": "https://localhost:8080/"
        },
        "id": "TTZMOXJEZccE",
        "outputId": "f5dca723-bbb6-4463-c5a7-436b5ea87a71"
      },
      "outputs": [
        {
          "name": "stdout",
          "output_type": "stream",
          "text": [
            "<__main__.Rect object at 0x7c70278221d0>\n",
            "4\n",
            "8\n",
            "{'_Rect__length': 8, '_Rect__width': 6}\n"
          ]
        }
      ],
      "source": [
        "class Rect:\n",
        "  #Class attributes\n",
        "\n",
        "  def __init__(self, length, width):\n",
        "    self.__length = length\n",
        "    self.__width = width\n",
        "\n",
        "rectangle_1 = Rect(4,6)\n",
        "print(rectangle_1)\n",
        "\n",
        "print(rectangle_1._Rect__length)\n",
        "rectangle_1._Rect__length = 8\n",
        "print(rectangle_1._Rect__length)\n",
        "print(rectangle_1.__dict__)"
      ]
    },
    {
      "cell_type": "code",
      "execution_count": null,
      "metadata": {
        "id": "6E7OzmW3Z-q8"
      },
      "outputs": [],
      "source": [
        "class Rect_1:\n",
        "  #Class attributes\n",
        "\n",
        "  def __init__(self, length, width):\n",
        "    self._length = length\n",
        "    self._width = width\n",
        "\n",
        "    def get_length(self):\n",
        "      return self._length\n",
        "\n",
        "    def set_length(self, value):\n",
        "      if isinstance(value, int):\n",
        "        self._length = value\n",
        "      else:\n",
        "        self._length = 0\n",
        "\n",
        "\n",
        "rectangle_2 = Rect_1(8,6)\n",
        "print(rectangle_2)\n",
        "print(rectangle_2.get_length())"
      ]
    },
    {
      "cell_type": "code",
      "execution_count": null,
      "metadata": {
        "colab": {
          "base_uri": "https://localhost:8080/"
        },
        "id": "n7ZqQMIBbDJ_",
        "outputId": "d84de5aa-c270-4bfa-ab6a-1c70c1fa0615"
      },
      "outputs": [
        {
          "name": "stdout",
          "output_type": "stream",
          "text": [
            "8 8\n",
            "0 0\n",
            "3 3\n",
            "10 10\n",
            "0 0\n"
          ]
        }
      ],
      "source": [
        "class Rect_2:\n",
        "  #Class attributes\n",
        "\n",
        "  def __init__(self, length, width):\n",
        "    self.length = length\n",
        "    self._width = width\n",
        "\n",
        "  @property\n",
        "  def length(self):\n",
        "    return self._length\n",
        "\n",
        "  @length.setter\n",
        "  def length(self, value):\n",
        "    if isinstance(value, int):\n",
        "      self._length = value\n",
        "    else:\n",
        "      self._length = 0\n",
        "\n",
        "\n",
        "rectangle_3 = Rect_2(8,6)\n",
        "print(rectangle_3.length, rectangle_3._length)\n",
        "\n",
        "rectangle_3 = Rect_2('eigth',6)\n",
        "print(rectangle_3.length, rectangle_3._length)\n",
        "\n",
        "rectangle_4 = Rect_2(3,9)\n",
        "print(rectangle_4.length, rectangle_4._length)\n",
        "\n",
        "rectangle_4.length = 10\n",
        "print(rectangle_4.length, rectangle_4._length)\n",
        "\n",
        "rectangle_4.length = 'BAD Value'\n",
        "print(rectangle_4.length, rectangle_4._length)\n",
        "\n",
        "#del rectangle_4.length"
      ]
    },
    {
      "cell_type": "code",
      "execution_count": null,
      "metadata": {
        "colab": {
          "base_uri": "https://localhost:8080/"
        },
        "id": "uVyekwNhc3V-",
        "outputId": "998f5029-d847-4d56-a2fb-ccf895bbdbfe"
      },
      "outputs": [
        {
          "name": "stdout",
          "output_type": "stream",
          "text": [
            "8 8\n",
            "18 18\n",
            "Delete length attribute\n"
          ]
        }
      ],
      "source": [
        "class Rect_3:\n",
        "\n",
        "  def __init__(self, length, width):\n",
        "    self.length = length\n",
        "    self._width = width\n",
        "\n",
        "  def _get_length(self):\n",
        "    return self._length\n",
        "\n",
        "  def _set_length(self, value):\n",
        "    if isinstance(value, int):\n",
        "      self._length = value\n",
        "    else:\n",
        "      self._length = 0\n",
        "\n",
        "  def _del_length(self):\n",
        "    print('Delete length attribute')\n",
        "    del self._length\n",
        "\n",
        "  length = property(fget=_get_length, fset=_set_length, fdel=_del_length)\n",
        "\n",
        "\n",
        "rectangle_5 = Rect_3(8,3)\n",
        "print(rectangle_5.length, rectangle_5._length)\n",
        "rectangle_5.length = 18\n",
        "print(rectangle_5.length, rectangle_5._length)\n",
        "del rectangle_5.length"
      ]
    },
    {
      "cell_type": "code",
      "execution_count": null,
      "metadata": {
        "colab": {
          "base_uri": "https://localhost:8080/"
        },
        "id": "JXVGbQFmet8x",
        "outputId": "4086d3d5-6114-485d-ec15-e2500a7db02f"
      },
      "outputs": [
        {
          "name": "stdout",
          "output_type": "stream",
          "text": [
            "16 16\n",
            "Sixteen Sixteen\n"
          ]
        }
      ],
      "source": [
        "rectangle_4._length = 16\n",
        "print(rectangle_4.length, rectangle_4._length)\n",
        "\n",
        "rectangle_4._length = 'Sixteen'\n",
        "print(rectangle_4.length, rectangle_4._length)"
      ]
    },
    {
      "cell_type": "code",
      "execution_count": null,
      "metadata": {
        "colab": {
          "base_uri": "https://localhost:8080/"
        },
        "id": "sg8ialHlgDzL",
        "outputId": "6281bda9-a770-454c-fd02-05617a8070db"
      },
      "outputs": [
        {
          "name": "stdout",
          "output_type": "stream",
          "text": [
            "3\n",
            "3\n"
          ]
        }
      ],
      "source": [
        "class Rect_4:\n",
        "  #Class attributes\n",
        "  number_of_instance = 0\n",
        "\n",
        "  def __init__(self, length, width):\n",
        "    self.length = length\n",
        "    self._width = width\n",
        "    Rect_4.number_of_instance += 1\n",
        "\n",
        "  @property\n",
        "  def length(self):\n",
        "    return self._length\n",
        "\n",
        "  @length.setter\n",
        "  def length(self, value):\n",
        "    if isinstance(value, int):\n",
        "      self._length = value\n",
        "    else:\n",
        "      self._length = 0\n",
        "\n",
        "rectangle_6 = Rect_4(8,3)\n",
        "rectangle_7 = Rect_4(8,3)\n",
        "rectangle_8 = Rect_4(9,6)\n",
        "\n",
        "print(Rect_4.number_of_instance)\n",
        "print(rectangle_8.number_of_instance)"
      ]
    }
  ],
  "metadata": {
    "colab": {
      "provenance": []
    },
    "kernelspec": {
      "display_name": "Python 3",
      "name": "python3"
    },
    "language_info": {
      "name": "python",
      "version": "3.12.3"
    }
  },
  "nbformat": 4,
  "nbformat_minor": 0
}
