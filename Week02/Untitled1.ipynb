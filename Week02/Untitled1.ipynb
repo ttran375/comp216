{
 "cells": [
  {
   "cell_type": "markdown",
   "metadata": {},
   "source": [
    "Control Structures"
   ]
  },
  {
   "cell_type": "code",
   "execution_count": 41,
   "metadata": {},
   "outputs": [
    {
     "name": "stdout",
     "output_type": "stream",
     "text": [
      "warm\n"
     ]
    }
   ],
   "source": [
    "# Conditional/Branching\n",
    "\n",
    "temp_1 = temp_2 = 21\n",
    "\n",
    "if temp_1 > 20:\n",
    "  print('warm')\n",
    "else:\n",
    "  print('cold')\n"
   ]
  },
  {
   "cell_type": "code",
   "execution_count": 42,
   "metadata": {},
   "outputs": [
    {
     "name": "stdout",
     "output_type": "stream",
     "text": [
      "True\n",
      "False\n",
      "0.30000000000000004\n",
      "False\n",
      "True\n",
      "True\n",
      "True\n",
      "True\n",
      "True\n",
      "False\n",
      "True\n",
      "4\n",
      "0\n",
      "0\n",
      "3\n",
      "0\n",
      "[]\n",
      "True\n",
      "False\n"
     ]
    }
   ],
   "source": [
    "# Operators\n",
    "print(2 == 2.000000)\n",
    "print(2 == '2')\n",
    "# print(2 < '3') --> Type Error\n",
    "\n",
    "a = 0.1 + 0.2\n",
    "print(a)\n",
    "print(a == 0.3)\n",
    "from math import isclose\n",
    "print(isclose(a, 0.3))\n",
    "\n",
    "print('A'<'a')\n",
    "\n",
    "print([1,2,3,4] != [2,3,4,5])\n",
    "\n",
    "print([1,2,3,4] != [1,2,3,5])\n",
    "print([1,2,3,4] <= [1,2,3,5])\n",
    "print([1,2,3,4] <= [0])\n",
    "\n",
    "print(3.14 < 5.56 and 5.6 == 5.60)\n",
    "\n",
    "a = 1 + 2\n",
    "b = 3 + 1\n",
    "c = 0\n",
    "print(a and b)\n",
    "print(a and c)\n",
    "print(b and c)\n",
    "print(a or b)\n",
    "print(c and [])\n",
    "print(c or [])\n",
    "\n",
    "num_1 = 2024\n",
    "num_2 = 2024\n",
    "\n",
    "print(num_1 == num_2)\n",
    "print(num_1 is num_2)"
   ]
  },
  {
   "cell_type": "code",
   "execution_count": 43,
   "metadata": {},
   "outputs": [
    {
     "name": "stdout",
     "output_type": "stream",
     "text": [
      "concerning weight\n"
     ]
    }
   ],
   "source": [
    "weight = 150\n",
    "\n",
    "if weight < 100:\n",
    "  print('under weight')\n",
    "  print('see Dietitian')\n",
    "elif weight < 140:\n",
    "  print('appr. weight')\n",
    "elif weight < 180:\n",
    "  print('concerning weight')\n",
    "else:\n",
    "  print('!!!!')\n"
   ]
  },
  {
   "cell_type": "code",
   "execution_count": 44,
   "metadata": {},
   "outputs": [
    {
     "name": "stdout",
     "output_type": "stream",
     "text": [
      "!!!!\n"
     ]
    }
   ],
   "source": [
    "weight = 150\n",
    "age = 12\n",
    "\n",
    "if weight < 100 and age > 20:\n",
    "  print('under weight')\n",
    "  print('see Dietitian')\n",
    "elif weight < 140 and age > 30:\n",
    "  print('appr. weight')\n",
    "elif weight < 180 and age > 40:\n",
    "  print('converning weight')\n",
    "else:\n",
    "  print('!!!!')\n"
   ]
  },
  {
   "cell_type": "code",
   "execution_count": 45,
   "metadata": {},
   "outputs": [
    {
     "name": "stdout",
     "output_type": "stream",
     "text": [
      "under weight\n",
      "see Dietitian\n"
     ]
    }
   ],
   "source": [
    "weight = 150\n",
    "age = 12\n",
    "\n",
    "if weight < 100 and age > 20 or ...:\n",
    "  print('under weight')\n",
    "  print('see Dietitian')\n",
    "elif weight < 140 and age > 30:\n",
    "  print('appr. weight')\n",
    "elif weight < 180 and age > 40:\n",
    "  print('converning weight')\n",
    "else:\n",
    "  print('!!!!')\n"
   ]
  },
  {
   "cell_type": "code",
   "execution_count": 46,
   "metadata": {},
   "outputs": [
    {
     "name": "stdout",
     "output_type": "stream",
     "text": [
      "under weight\n",
      "see Dietitian\n",
      "elementary\n",
      "elementary\n",
      "quz\n"
     ]
    }
   ],
   "source": [
    "weight_2 = 90\n",
    "if weight_2 < 100: print('under weight'); print('see Dietitian')\n",
    "\n",
    "'EXPR1 if CONDITION else EXPR2'\n",
    "age = 12\n",
    "if age < 13:\n",
    "  print('elementary')\n",
    "else:\n",
    "  print('highschool')\n",
    "\n",
    "status = 'elementary' if age < 13 else 'highschool'\n",
    "print(status)\n",
    "\n",
    "x = 0\n",
    "sample = ('foo' if x == 1 else \n",
    "          'bar' if x == 2 else\n",
    "          'baz' if x == 3 else\n",
    "          'quz')\n",
    "print(sample)"
   ]
  },
  {
   "cell_type": "markdown",
   "metadata": {},
   "source": [
    "Loops"
   ]
  },
  {
   "cell_type": "code",
   "execution_count": 47,
   "metadata": {},
   "outputs": [
    {
     "name": "stdout",
     "output_type": "stream",
     "text": [
      "10\n",
      "9\n",
      "8\n",
      "7\n",
      "6\n",
      "5\n",
      "4\n",
      "3\n",
      "2\n",
      "1\n",
      "23412\n",
      "[34234, 12643, 89768]\n",
      "89768\n",
      "[34234, 12643]\n",
      "12643\n",
      "[34234]\n",
      "34234\n",
      "[]\n"
     ]
    }
   ],
   "source": [
    "# While Loops\n",
    "\n",
    "n = 10\n",
    "while n > 0:\n",
    "  print(n)\n",
    "  n -= 1\n",
    "\n",
    "sample_list = [34234, 12643, 89768, 23412]\n",
    "while sample_list:\n",
    "  a = sample_list.pop(-1)\n",
    "  print(a)\n",
    "  print(sample_list)"
   ]
  },
  {
   "cell_type": "code",
   "execution_count": 52,
   "metadata": {},
   "outputs": [
    {
     "name": "stdout",
     "output_type": "stream",
     "text": [
      "886712\n",
      "[34234, 12642, 89768, 23412, 4651234]\n",
      "4651234\n",
      "[34234, 12642, 89768, 23412]\n",
      "23412\n",
      "[34234, 12642, 89768]\n",
      "89768\n",
      "[34234, 12642]\n",
      "12642\n",
      "[34234]\n",
      "34234\n",
      "[]\n",
      "All values are even\n"
     ]
    }
   ],
   "source": [
    "sample_list = [34234, 12642, 89768, 23412, 4651234, 886712]\n",
    "while sample_list:\n",
    "  a = sample_list.pop(-1)\n",
    "  if a % 2 == 1:\n",
    "    print('odd value')\n",
    "    break\n",
    "  print(a)\n",
    "  print(sample_list)\n",
    "else:\n",
    "  print('All values are even')\n",
    "\n",
    "print('Program Terminated')"
   ]
  },
  {
   "cell_type": "code",
   "execution_count": 54,
   "metadata": {},
   "outputs": [
    {
     "name": "stdout",
     "output_type": "stream",
     "text": [
      "886712\n",
      "[34234, 12642, 89769, 23412, 4651234]\n",
      "4651234\n",
      "[34234, 12642, 89769, 23412]\n",
      "23412\n",
      "[34234, 12642, 89769]\n",
      "odd value\n",
      "12642\n",
      "[34234]\n",
      "34234\n",
      "[]\n",
      "All values are even\n",
      "Program Terminated\n"
     ]
    }
   ],
   "source": [
    "sample_list = [34234, 12642, 89769, 23412, 4651234, 886712]\n",
    "while sample_list:\n",
    "  a = sample_list.pop(-1)\n",
    "  if a % 2 == 1:\n",
    "    print('odd value')\n",
    "    continue\n",
    "  print(a)\n",
    "  print(sample_list)\n",
    "else:\n",
    "  print('All values are even')\n",
    "\n",
    "print('Program Terminated')"
   ]
  },
  {
   "cell_type": "code",
   "execution_count": null,
   "metadata": {},
   "outputs": [],
   "source": []
  }
 ],
 "metadata": {
  "kernelspec": {
   "display_name": "Python 3",
   "language": "python",
   "name": "python3"
  },
  "language_info": {
   "codemirror_mode": {
    "name": "ipython",
    "version": 3
   },
   "file_extension": ".py",
   "mimetype": "text/x-python",
   "name": "python",
   "nbconvert_exporter": "python",
   "pygments_lexer": "ipython3",
   "version": "3.10.13"
  }
 },
 "nbformat": 4,
 "nbformat_minor": 2
}
