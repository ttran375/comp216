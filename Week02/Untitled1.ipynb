{
 "cells": [
  {
   "cell_type": "markdown",
   "metadata": {},
   "source": [
    "Control Structures"
   ]
  },
  {
   "cell_type": "code",
   "execution_count": 18,
   "metadata": {},
   "outputs": [
    {
     "name": "stdout",
     "output_type": "stream",
     "text": [
      "warm\n"
     ]
    }
   ],
   "source": [
    "# Conditional/Branching\n",
    "\n",
    "temp_1 = temp_2 = 21\n",
    "\n",
    "if temp_1 > 20:\n",
    "  print('warm')\n",
    "else:\n",
    "  print('cold')\n"
   ]
  },
  {
   "cell_type": "code",
   "execution_count": 19,
   "metadata": {},
   "outputs": [
    {
     "name": "stdout",
     "output_type": "stream",
     "text": [
      "True\n",
      "False\n",
      "0.30000000000000004\n",
      "False\n",
      "True\n",
      "True\n",
      "True\n",
      "True\n",
      "True\n",
      "False\n",
      "True\n",
      "4\n",
      "0\n",
      "0\n",
      "3\n",
      "0\n",
      "[]\n",
      "True\n",
      "False\n"
     ]
    }
   ],
   "source": [
    "# Operators\n",
    "print(2 == 2.000000)\n",
    "print(2 == '2')\n",
    "# print(2 < '3') --> Type Error\n",
    "\n",
    "a = 0.1 + 0.2\n",
    "print(a)\n",
    "print(a == 0.3)\n",
    "from math import isclose\n",
    "print(isclose(a, 0.3))\n",
    "\n",
    "print('A'<'a')\n",
    "\n",
    "print([1,2,3,4] != [2,3,4,5])\n",
    "\n",
    "print([1,2,3,4] != [1,2,3,5])\n",
    "print([1,2,3,4] <= [1,2,3,5])\n",
    "print([1,2,3,4] <= [0])\n",
    "\n",
    "print(3.14 < 5.56 and 5.6 == 5.60)\n",
    "\n",
    "a = 1 + 2\n",
    "b = 3 + 1\n",
    "c = 0\n",
    "print(a and b)\n",
    "print(a and c)\n",
    "print(b and c)\n",
    "print(a or b)\n",
    "print(c and [])\n",
    "print(c or [])\n",
    "\n",
    "num_1 = 2024\n",
    "num_2 = 2024\n",
    "\n",
    "print(num_1 == num_2)\n",
    "print(num_1 is num_2)"
   ]
  },
  {
   "cell_type": "code",
   "execution_count": 21,
   "metadata": {},
   "outputs": [
    {
     "name": "stdout",
     "output_type": "stream",
     "text": [
      "concerning weight\n"
     ]
    }
   ],
   "source": [
    "weight = 150\n",
    "\n",
    "if weight < 100:\n",
    "  print('under weight')\n",
    "  print('see Dietitian')\n",
    "elif weight < 140:\n",
    "  print('appr. weight')\n",
    "elif weight < 180:\n",
    "  print('concerning weight')\n",
    "else:\n",
    "  print('!!!!')\n"
   ]
  },
  {
   "cell_type": "code",
   "execution_count": 17,
   "metadata": {},
   "outputs": [
    {
     "name": "stdout",
     "output_type": "stream",
     "text": [
      "!!!!\n"
     ]
    }
   ],
   "source": [
    "weight = 150\n",
    "age = 12\n",
    "\n",
    "if weight < 100 and age > 20:\n",
    "  print('under weight')\n",
    "  print('see Dietitian')\n",
    "elif weight < 140 and age > 30:\n",
    "  print('appr. weight')\n",
    "elif weight < 180 and age > 40:\n",
    "  print('converning weight')\n",
    "else:\n",
    "  print('!!!!')\n"
   ]
  },
  {
   "cell_type": "code",
   "execution_count": 23,
   "metadata": {},
   "outputs": [
    {
     "name": "stdout",
     "output_type": "stream",
     "text": [
      "under weight\n",
      "see Dietitian\n"
     ]
    }
   ],
   "source": [
    "weight = 150\n",
    "age = 12\n",
    "\n",
    "if weight < 100 and age > 20 or ...:\n",
    "  print('under weight')\n",
    "  print('see Dietitian')\n",
    "elif weight < 140 and age > 30:\n",
    "  print('appr. weight')\n",
    "elif weight < 180 and age > 40:\n",
    "  print('converning weight')\n",
    "else:\n",
    "  print('!!!!')\n"
   ]
  },
  {
   "cell_type": "code",
   "execution_count": null,
   "metadata": {},
   "outputs": [],
   "source": []
  }
 ],
 "metadata": {
  "kernelspec": {
   "display_name": "Python 3",
   "language": "python",
   "name": "python3"
  },
  "language_info": {
   "codemirror_mode": {
    "name": "ipython",
    "version": 3
   },
   "file_extension": ".py",
   "mimetype": "text/x-python",
   "name": "python",
   "nbconvert_exporter": "python",
   "pygments_lexer": "ipython3",
   "version": "3.10.13"
  }
 },
 "nbformat": 4,
 "nbformat_minor": 2
}
