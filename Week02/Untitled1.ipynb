{
 "cells": [
  {
   "cell_type": "markdown",
   "metadata": {},
   "source": [
    "Control Structures"
   ]
  },
  {
   "cell_type": "code",
   "execution_count": 4,
   "metadata": {},
   "outputs": [
    {
     "name": "stdout",
     "output_type": "stream",
     "text": [
      "cold\n"
     ]
    }
   ],
   "source": [
    "# Conditional/Branching\n",
    "\n",
    "temp_1 = temp_2 = 21\n",
    "\n",
    "if temp_1 > 20:\n",
    "  print('warm')\n",
    "else:\n",
    "  print('cold')\n"
   ]
  },
  {
   "cell_type": "code",
   "execution_count": 8,
   "metadata": {},
   "outputs": [
    {
     "name": "stdout",
     "output_type": "stream",
     "text": [
      "True\n",
      "False\n",
      "0.30000000000000004\n",
      "False\n",
      "True\n",
      "True\n",
      "True\n",
      "True\n",
      "True\n",
      "False\n"
     ]
    }
   ],
   "source": [
    "# Operators\n",
    "print(2 == 2.000000)\n",
    "print(2 == '2')\n",
    "# print(2 < '3') --> Type Error\n",
    "\n",
    "a = 0.1 + 0.2\n",
    "print(a)\n",
    "print(a == 0.3)\n",
    "from math import isclose\n",
    "print(isclose(a, 0.3))\n",
    "\n",
    "print('A'<'a')\n",
    "\n",
    "print([1,2,3,4] != [2,3,4,5])\n",
    "\n",
    "print([1,2,3,4] != [1,2,3,5])\n",
    "print([1,2,3,4] <= [1,2,3,5])\n",
    "print([1,2,3,4] <= [0])"
   ]
  },
  {
   "cell_type": "markdown",
   "metadata": {},
   "source": []
  }
 ],
 "metadata": {
  "kernelspec": {
   "display_name": "Python 3",
   "language": "python",
   "name": "python3"
  },
  "language_info": {
   "codemirror_mode": {
    "name": "ipython",
    "version": 3
   },
   "file_extension": ".py",
   "mimetype": "text/x-python",
   "name": "python",
   "nbconvert_exporter": "python",
   "pygments_lexer": "ipython3",
   "version": "3.10.13"
  }
 },
 "nbformat": 4,
 "nbformat_minor": 2
}
