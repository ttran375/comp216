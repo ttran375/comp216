{
 "cells": [
  {
   "cell_type": "markdown",
   "metadata": {},
   "source": [
    "Control Structures"
   ]
  },
  {
   "cell_type": "code",
   "execution_count": 41,
   "metadata": {},
   "outputs": [
    {
     "name": "stdout",
     "output_type": "stream",
     "text": [
      "warm\n"
     ]
    }
   ],
   "source": [
    "# Conditional/Branching\n",
    "\n",
    "temp_1 = temp_2 = 21\n",
    "\n",
    "if temp_1 > 20:\n",
    "  print('warm')\n",
    "else:\n",
    "  print('cold')\n"
   ]
  },
  {
   "cell_type": "code",
   "execution_count": 42,
   "metadata": {},
   "outputs": [
    {
     "name": "stdout",
     "output_type": "stream",
     "text": [
      "True\n",
      "False\n",
      "0.30000000000000004\n",
      "False\n",
      "True\n",
      "True\n",
      "True\n",
      "True\n",
      "True\n",
      "False\n",
      "True\n",
      "4\n",
      "0\n",
      "0\n",
      "3\n",
      "0\n",
      "[]\n",
      "True\n",
      "False\n"
     ]
    }
   ],
   "source": [
    "# Operators\n",
    "print(2 == 2.000000)\n",
    "print(2 == '2')\n",
    "# print(2 < '3') --> Type Error\n",
    "\n",
    "a = 0.1 + 0.2\n",
    "print(a)\n",
    "print(a == 0.3)\n",
    "from math import isclose\n",
    "print(isclose(a, 0.3))\n",
    "\n",
    "print('A'<'a')\n",
    "\n",
    "print([1,2,3,4] != [2,3,4,5])\n",
    "\n",
    "print([1,2,3,4] != [1,2,3,5])\n",
    "print([1,2,3,4] <= [1,2,3,5])\n",
    "print([1,2,3,4] <= [0])\n",
    "\n",
    "print(3.14 < 5.56 and 5.6 == 5.60)\n",
    "\n",
    "a = 1 + 2\n",
    "b = 3 + 1\n",
    "c = 0\n",
    "print(a and b)\n",
    "print(a and c)\n",
    "print(b and c)\n",
    "print(a or b)\n",
    "print(c and [])\n",
    "print(c or [])\n",
    "\n",
    "num_1 = 2024\n",
    "num_2 = 2024\n",
    "\n",
    "print(num_1 == num_2)\n",
    "print(num_1 is num_2)"
   ]
  },
  {
   "cell_type": "code",
   "execution_count": 43,
   "metadata": {},
   "outputs": [
    {
     "name": "stdout",
     "output_type": "stream",
     "text": [
      "concerning weight\n"
     ]
    }
   ],
   "source": [
    "weight = 150\n",
    "\n",
    "if weight < 100:\n",
    "  print('under weight')\n",
    "  print('see Dietitian')\n",
    "elif weight < 140:\n",
    "  print('appr. weight')\n",
    "elif weight < 180:\n",
    "  print('concerning weight')\n",
    "else:\n",
    "  print('!!!!')\n"
   ]
  },
  {
   "cell_type": "code",
   "execution_count": 44,
   "metadata": {},
   "outputs": [
    {
     "name": "stdout",
     "output_type": "stream",
     "text": [
      "!!!!\n"
     ]
    }
   ],
   "source": [
    "weight = 150\n",
    "age = 12\n",
    "\n",
    "if weight < 100 and age > 20:\n",
    "  print('under weight')\n",
    "  print('see Dietitian')\n",
    "elif weight < 140 and age > 30:\n",
    "  print('appr. weight')\n",
    "elif weight < 180 and age > 40:\n",
    "  print('converning weight')\n",
    "else:\n",
    "  print('!!!!')\n"
   ]
  },
  {
   "cell_type": "code",
   "execution_count": 45,
   "metadata": {},
   "outputs": [
    {
     "name": "stdout",
     "output_type": "stream",
     "text": [
      "under weight\n",
      "see Dietitian\n"
     ]
    }
   ],
   "source": [
    "weight = 150\n",
    "age = 12\n",
    "\n",
    "if weight < 100 and age > 20 or ...:\n",
    "  print('under weight')\n",
    "  print('see Dietitian')\n",
    "elif weight < 140 and age > 30:\n",
    "  print('appr. weight')\n",
    "elif weight < 180 and age > 40:\n",
    "  print('converning weight')\n",
    "else:\n",
    "  print('!!!!')\n"
   ]
  },
  {
   "cell_type": "code",
   "execution_count": 46,
   "metadata": {},
   "outputs": [
    {
     "name": "stdout",
     "output_type": "stream",
     "text": [
      "under weight\n",
      "see Dietitian\n",
      "elementary\n",
      "elementary\n",
      "quz\n"
     ]
    }
   ],
   "source": [
    "weight_2 = 90\n",
    "if weight_2 < 100: print('under weight'); print('see Dietitian')\n",
    "\n",
    "'EXPR1 if CONDITION else EXPR2'\n",
    "age = 12\n",
    "if age < 13:\n",
    "  print('elementary')\n",
    "else:\n",
    "  print('highschool')\n",
    "\n",
    "status = 'elementary' if age < 13 else 'highschool'\n",
    "print(status)\n",
    "\n",
    "x = 0\n",
    "sample = ('foo' if x == 1 else \n",
    "          'bar' if x == 2 else\n",
    "          'baz' if x == 3 else\n",
    "          'quz')\n",
    "print(sample)"
   ]
  },
  {
   "cell_type": "markdown",
   "metadata": {},
   "source": [
    "Loops"
   ]
  },
  {
   "cell_type": "code",
   "execution_count": 47,
   "metadata": {},
   "outputs": [
    {
     "name": "stdout",
     "output_type": "stream",
     "text": [
      "10\n",
      "9\n",
      "8\n",
      "7\n",
      "6\n",
      "5\n",
      "4\n",
      "3\n",
      "2\n",
      "1\n",
      "23412\n",
      "[34234, 12643, 89768]\n",
      "89768\n",
      "[34234, 12643]\n",
      "12643\n",
      "[34234]\n",
      "34234\n",
      "[]\n"
     ]
    }
   ],
   "source": [
    "# While Loops\n",
    "\n",
    "n = 10\n",
    "while n > 0:\n",
    "  print(n)\n",
    "  n -= 1\n",
    "\n",
    "sample_list = [34234, 12643, 89768, 23412]\n",
    "while sample_list:\n",
    "  a = sample_list.pop(-1)\n",
    "  print(a)\n",
    "  print(sample_list)"
   ]
  },
  {
   "cell_type": "code",
   "execution_count": 52,
   "metadata": {},
   "outputs": [
    {
     "name": "stdout",
     "output_type": "stream",
     "text": [
      "886712\n",
      "[34234, 12642, 89768, 23412, 4651234]\n",
      "4651234\n",
      "[34234, 12642, 89768, 23412]\n",
      "23412\n",
      "[34234, 12642, 89768]\n",
      "89768\n",
      "[34234, 12642]\n",
      "12642\n",
      "[34234]\n",
      "34234\n",
      "[]\n",
      "All values are even\n"
     ]
    }
   ],
   "source": [
    "sample_list = [34234, 12642, 89768, 23412, 4651234, 886712]\n",
    "while sample_list:\n",
    "  a = sample_list.pop(-1)\n",
    "  if a % 2 == 1:\n",
    "    print('odd value')\n",
    "    break\n",
    "  print(a)\n",
    "  print(sample_list)\n",
    "else:\n",
    "  print('All values are even')\n",
    "\n",
    "print('Program Terminated')"
   ]
  },
  {
   "cell_type": "code",
   "execution_count": 54,
   "metadata": {},
   "outputs": [
    {
     "name": "stdout",
     "output_type": "stream",
     "text": [
      "886712\n",
      "[34234, 12642, 89769, 23412, 4651234]\n",
      "4651234\n",
      "[34234, 12642, 89769, 23412]\n",
      "23412\n",
      "[34234, 12642, 89769]\n",
      "odd value\n",
      "12642\n",
      "[34234]\n",
      "34234\n",
      "[]\n",
      "All values are even\n",
      "Program Terminated\n"
     ]
    }
   ],
   "source": [
    "sample_list = [34234, 12642, 89769, 23412, 4651234, 886712]\n",
    "while sample_list:\n",
    "  a = sample_list.pop(-1)\n",
    "  if a % 2 == 1:\n",
    "    print('odd value')\n",
    "    continue\n",
    "  print(a)\n",
    "  print(sample_list)\n",
    "else:\n",
    "  print('All values are even')\n",
    "\n",
    "print('Program Terminated')"
   ]
  },
  {
   "cell_type": "code",
   "execution_count": 55,
   "metadata": {},
   "outputs": [
    {
     "name": "stdout",
     "output_type": "stream",
     "text": [
      "24\n",
      "67\n",
      "12\n",
      "40\n",
      "74\n",
      "<list_iterator object at 0x7d38556bc400>\n"
     ]
    }
   ],
   "source": [
    "# For Loop\n",
    "num_line = [24, 67, 12, 40, 74]\n",
    "\n",
    "for num in num_line:\n",
    "  print(num)\n",
    "\n",
    "num_iter = iter(num_line)\n",
    "print(num_iter)"
   ]
  },
  {
   "cell_type": "code",
   "execution_count": 56,
   "metadata": {},
   "outputs": [
    {
     "name": "stdout",
     "output_type": "stream",
     "text": [
      "<list_iterator object at 0x7d385546f460>\n",
      "24\n",
      "67\n",
      "12\n",
      "40\n",
      "74\n"
     ]
    },
    {
     "ename": "StopIteration",
     "evalue": "",
     "output_type": "error",
     "traceback": [
      "\u001b[0;31m---------------------------------------------------------------------------\u001b[0m",
      "\u001b[0;31mStopIteration\u001b[0m                             Traceback (most recent call last)",
      "Cell \u001b[0;32mIn[56], line 11\u001b[0m\n\u001b[1;32m      9\u001b[0m \u001b[38;5;28mprint\u001b[39m(\u001b[38;5;28mnext\u001b[39m(num_iter))\n\u001b[1;32m     10\u001b[0m \u001b[38;5;28mprint\u001b[39m(\u001b[38;5;28mnext\u001b[39m(num_iter))\n\u001b[0;32m---> 11\u001b[0m \u001b[38;5;28mprint\u001b[39m(\u001b[38;5;28;43mnext\u001b[39;49m\u001b[43m(\u001b[49m\u001b[43mnum_iter\u001b[49m\u001b[43m)\u001b[49m)\n",
      "\u001b[0;31mStopIteration\u001b[0m: "
     ]
    }
   ],
   "source": [
    "# For Loop\n",
    "num_line = [24, 67, 12, 40, 74]\n",
    "\n",
    "num_iter = iter(num_line)\n",
    "print(num_iter)\n",
    "print(next(num_iter))\n",
    "print(next(num_iter))\n",
    "print(next(num_iter))\n",
    "print(next(num_iter))\n",
    "print(next(num_iter))\n",
    "# print(next(num_iter))"
   ]
  },
  {
   "cell_type": "code",
   "execution_count": 58,
   "metadata": {},
   "outputs": [
    {
     "name": "stdout",
     "output_type": "stream",
     "text": [
      "1\n",
      "2\n",
      "3\n",
      "4\n"
     ]
    }
   ],
   "source": [
    "d = {1:'a', 2:'b', 3:'c', 4:'d'}\n",
    "for item in d:\n",
    "  print(item)"
   ]
  },
  {
   "cell_type": "code",
   "execution_count": 59,
   "metadata": {},
   "outputs": [
    {
     "name": "stdout",
     "output_type": "stream",
     "text": [
      "a\n",
      "b\n",
      "c\n",
      "d\n"
     ]
    }
   ],
   "source": [
    "d = {1:'a', 2:'b', 3:'c', 4:'d'}\n",
    "for item in d:\n",
    "  print(d[item])"
   ]
  },
  {
   "cell_type": "code",
   "execution_count": 60,
   "metadata": {},
   "outputs": [
    {
     "name": "stdout",
     "output_type": "stream",
     "text": [
      "Key: 1 --> Value: a\n",
      "Key: 2 --> Value: b\n",
      "Key: 3 --> Value: c\n",
      "Key: 4 --> Value: d\n"
     ]
    }
   ],
   "source": [
    "for k,v in d.items():\n",
    "  print(f'Key: {k} --> Value: {v}')"
   ]
  },
  {
   "cell_type": "code",
   "execution_count": 1,
   "metadata": {},
   "outputs": [
    {
     "name": "stdout",
     "output_type": "stream",
     "text": [
      "abc\n"
     ]
    },
    {
     "data": {
      "text/plain": [
       "NoneType"
      ]
     },
     "execution_count": 1,
     "metadata": {},
     "output_type": "execute_result"
    }
   ],
   "source": [
    "# Print Function\n",
    "type(print('abc'))"
   ]
  },
  {
   "cell_type": "code",
   "execution_count": 3,
   "metadata": {},
   "outputs": [
    {
     "name": "stdout",
     "output_type": "stream",
     "text": [
      "apple -- QTY: 2000 -- PRICE: 0.3\n"
     ]
    }
   ],
   "source": [
    "def inventory(item, qty, price):\n",
    "  print(f'{item} -- QTY: {qty} -- PRICE: {price}')\n",
    "\n",
    "inventory('apple', 2000, 0.3)"
   ]
  },
  {
   "cell_type": "code",
   "execution_count": null,
   "metadata": {},
   "outputs": [],
   "source": []
  }
 ],
 "metadata": {
  "kernelspec": {
   "display_name": "Python 3",
   "language": "python",
   "name": "python3"
  },
  "language_info": {
   "codemirror_mode": {
    "name": "ipython",
    "version": 3
   },
   "file_extension": ".py",
   "mimetype": "text/x-python",
   "name": "python",
   "nbconvert_exporter": "python",
   "pygments_lexer": "ipython3",
   "version": "3.10.13"
  }
 },
 "nbformat": 4,
 "nbformat_minor": 2
}
